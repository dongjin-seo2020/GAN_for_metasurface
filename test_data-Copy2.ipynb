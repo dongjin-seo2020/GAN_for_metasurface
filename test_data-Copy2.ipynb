{
 "cells": [
  {
   "cell_type": "code",
   "execution_count": 1,
   "metadata": {
    "tags": []
   },
   "outputs": [],
   "source": [
    "import netCDF4 as nc\n",
    "\n",
    "fn = 'trainingset_1k.nc'\n",
    "ds = nc.Dataset(fn)"
   ]
  },
  {
   "cell_type": "code",
   "execution_count": 2,
   "metadata": {},
   "outputs": [],
   "source": [
    "\n",
    "import matplotlib.pyplot as plt\n",
    "import numpy as np"
   ]
  },
  {
   "cell_type": "code",
   "execution_count": 3,
   "metadata": {
    "collapsed": false,
    "jupyter": {
     "outputs_hidden": false
    }
   },
   "outputs": [
    {
     "name": "stdout",
     "output_type": "stream",
     "text": [
      "<class 'netCDF4._netCDF4.Dataset'>\n",
      "root group (NETCDF3_64BIT_OFFSET data model, file format NETCDF3):\n",
      "    coordinates: angle\n",
      "    dimensions(sizes): x(256), y(64), example(828), dimension(2)\n",
      "    variables(dimensions): float32 pattern(example, y, x), float64 wavelength(example), float64 efficiency(example), int32 task_id(example), float64 period(dimension, example), float64 angle(example), float64 thickness(), float64 pol()\n",
      "    groups: \n"
     ]
    }
   ],
   "source": [
    "print(ds)"
   ]
  },
  {
   "cell_type": "code",
   "execution_count": 4,
   "metadata": {
    "collapsed": false,
    "jupyter": {
     "outputs_hidden": false
    }
   },
   "outputs": [],
   "source": [
    "import xarray"
   ]
  },
  {
   "cell_type": "code",
   "execution_count": 5,
   "metadata": {
    "collapsed": false,
    "jupyter": {
     "outputs_hidden": false
    }
   },
   "outputs": [],
   "source": [
    "result = xarray.open_dataset(fn).load()"
   ]
  },
  {
   "cell_type": "code",
   "execution_count": 6,
   "metadata": {
    "collapsed": false,
    "jupyter": {
     "outputs_hidden": false
    }
   },
   "outputs": [
    {
     "data": {
      "text/html": [
       "<div><svg style=\"position: absolute; width: 0; height: 0; overflow: hidden\">\n",
       "<defs>\n",
       "<symbol id=\"icon-database\" viewBox=\"0 0 32 32\">\n",
       "<path d=\"M16 0c-8.837 0-16 2.239-16 5v4c0 2.761 7.163 5 16 5s16-2.239 16-5v-4c0-2.761-7.163-5-16-5z\"></path>\n",
       "<path d=\"M16 17c-8.837 0-16-2.239-16-5v6c0 2.761 7.163 5 16 5s16-2.239 16-5v-6c0 2.761-7.163 5-16 5z\"></path>\n",
       "<path d=\"M16 26c-8.837 0-16-2.239-16-5v6c0 2.761 7.163 5 16 5s16-2.239 16-5v-6c0 2.761-7.163 5-16 5z\"></path>\n",
       "</symbol>\n",
       "<symbol id=\"icon-file-text2\" viewBox=\"0 0 32 32\">\n",
       "<path d=\"M28.681 7.159c-0.694-0.947-1.662-2.053-2.724-3.116s-2.169-2.030-3.116-2.724c-1.612-1.182-2.393-1.319-2.841-1.319h-15.5c-1.378 0-2.5 1.121-2.5 2.5v27c0 1.378 1.122 2.5 2.5 2.5h23c1.378 0 2.5-1.122 2.5-2.5v-19.5c0-0.448-0.137-1.23-1.319-2.841zM24.543 5.457c0.959 0.959 1.712 1.825 2.268 2.543h-4.811v-4.811c0.718 0.556 1.584 1.309 2.543 2.268zM28 29.5c0 0.271-0.229 0.5-0.5 0.5h-23c-0.271 0-0.5-0.229-0.5-0.5v-27c0-0.271 0.229-0.5 0.5-0.5 0 0 15.499-0 15.5 0v7c0 0.552 0.448 1 1 1h7v19.5z\"></path>\n",
       "<path d=\"M23 26h-14c-0.552 0-1-0.448-1-1s0.448-1 1-1h14c0.552 0 1 0.448 1 1s-0.448 1-1 1z\"></path>\n",
       "<path d=\"M23 22h-14c-0.552 0-1-0.448-1-1s0.448-1 1-1h14c0.552 0 1 0.448 1 1s-0.448 1-1 1z\"></path>\n",
       "<path d=\"M23 18h-14c-0.552 0-1-0.448-1-1s0.448-1 1-1h14c0.552 0 1 0.448 1 1s-0.448 1-1 1z\"></path>\n",
       "</symbol>\n",
       "</defs>\n",
       "</svg>\n",
       "<style>/* CSS stylesheet for displaying xarray objects in jupyterlab.\n",
       " *\n",
       " */\n",
       "\n",
       ":root {\n",
       "  --xr-font-color0: var(--jp-content-font-color0, rgba(0, 0, 0, 1));\n",
       "  --xr-font-color2: var(--jp-content-font-color2, rgba(0, 0, 0, 0.54));\n",
       "  --xr-font-color3: var(--jp-content-font-color3, rgba(0, 0, 0, 0.38));\n",
       "  --xr-border-color: var(--jp-border-color2, #e0e0e0);\n",
       "  --xr-disabled-color: var(--jp-layout-color3, #bdbdbd);\n",
       "  --xr-background-color: var(--jp-layout-color0, white);\n",
       "  --xr-background-color-row-even: var(--jp-layout-color1, white);\n",
       "  --xr-background-color-row-odd: var(--jp-layout-color2, #eeeeee);\n",
       "}\n",
       "\n",
       "html[theme=dark],\n",
       "body.vscode-dark {\n",
       "  --xr-font-color0: rgba(255, 255, 255, 1);\n",
       "  --xr-font-color2: rgba(255, 255, 255, 0.54);\n",
       "  --xr-font-color3: rgba(255, 255, 255, 0.38);\n",
       "  --xr-border-color: #1F1F1F;\n",
       "  --xr-disabled-color: #515151;\n",
       "  --xr-background-color: #111111;\n",
       "  --xr-background-color-row-even: #111111;\n",
       "  --xr-background-color-row-odd: #313131;\n",
       "}\n",
       "\n",
       ".xr-wrap {\n",
       "  display: block;\n",
       "  min-width: 300px;\n",
       "  max-width: 700px;\n",
       "}\n",
       "\n",
       ".xr-text-repr-fallback {\n",
       "  /* fallback to plain text repr when CSS is not injected (untrusted notebook) */\n",
       "  display: none;\n",
       "}\n",
       "\n",
       ".xr-header {\n",
       "  padding-top: 6px;\n",
       "  padding-bottom: 6px;\n",
       "  margin-bottom: 4px;\n",
       "  border-bottom: solid 1px var(--xr-border-color);\n",
       "}\n",
       "\n",
       ".xr-header > div,\n",
       ".xr-header > ul {\n",
       "  display: inline;\n",
       "  margin-top: 0;\n",
       "  margin-bottom: 0;\n",
       "}\n",
       "\n",
       ".xr-obj-type,\n",
       ".xr-array-name {\n",
       "  margin-left: 2px;\n",
       "  margin-right: 10px;\n",
       "}\n",
       "\n",
       ".xr-obj-type {\n",
       "  color: var(--xr-font-color2);\n",
       "}\n",
       "\n",
       ".xr-sections {\n",
       "  padding-left: 0 !important;\n",
       "  display: grid;\n",
       "  grid-template-columns: 150px auto auto 1fr 20px 20px;\n",
       "}\n",
       "\n",
       ".xr-section-item {\n",
       "  display: contents;\n",
       "}\n",
       "\n",
       ".xr-section-item input {\n",
       "  display: none;\n",
       "}\n",
       "\n",
       ".xr-section-item input + label {\n",
       "  color: var(--xr-disabled-color);\n",
       "}\n",
       "\n",
       ".xr-section-item input:enabled + label {\n",
       "  cursor: pointer;\n",
       "  color: var(--xr-font-color2);\n",
       "}\n",
       "\n",
       ".xr-section-item input:enabled + label:hover {\n",
       "  color: var(--xr-font-color0);\n",
       "}\n",
       "\n",
       ".xr-section-summary {\n",
       "  grid-column: 1;\n",
       "  color: var(--xr-font-color2);\n",
       "  font-weight: 500;\n",
       "}\n",
       "\n",
       ".xr-section-summary > span {\n",
       "  display: inline-block;\n",
       "  padding-left: 0.5em;\n",
       "}\n",
       "\n",
       ".xr-section-summary-in:disabled + label {\n",
       "  color: var(--xr-font-color2);\n",
       "}\n",
       "\n",
       ".xr-section-summary-in + label:before {\n",
       "  display: inline-block;\n",
       "  content: '►';\n",
       "  font-size: 11px;\n",
       "  width: 15px;\n",
       "  text-align: center;\n",
       "}\n",
       "\n",
       ".xr-section-summary-in:disabled + label:before {\n",
       "  color: var(--xr-disabled-color);\n",
       "}\n",
       "\n",
       ".xr-section-summary-in:checked + label:before {\n",
       "  content: '▼';\n",
       "}\n",
       "\n",
       ".xr-section-summary-in:checked + label > span {\n",
       "  display: none;\n",
       "}\n",
       "\n",
       ".xr-section-summary,\n",
       ".xr-section-inline-details {\n",
       "  padding-top: 4px;\n",
       "  padding-bottom: 4px;\n",
       "}\n",
       "\n",
       ".xr-section-inline-details {\n",
       "  grid-column: 2 / -1;\n",
       "}\n",
       "\n",
       ".xr-section-details {\n",
       "  display: none;\n",
       "  grid-column: 1 / -1;\n",
       "  margin-bottom: 5px;\n",
       "}\n",
       "\n",
       ".xr-section-summary-in:checked ~ .xr-section-details {\n",
       "  display: contents;\n",
       "}\n",
       "\n",
       ".xr-array-wrap {\n",
       "  grid-column: 1 / -1;\n",
       "  display: grid;\n",
       "  grid-template-columns: 20px auto;\n",
       "}\n",
       "\n",
       ".xr-array-wrap > label {\n",
       "  grid-column: 1;\n",
       "  vertical-align: top;\n",
       "}\n",
       "\n",
       ".xr-preview {\n",
       "  color: var(--xr-font-color3);\n",
       "}\n",
       "\n",
       ".xr-array-preview,\n",
       ".xr-array-data {\n",
       "  padding: 0 5px !important;\n",
       "  grid-column: 2;\n",
       "}\n",
       "\n",
       ".xr-array-data,\n",
       ".xr-array-in:checked ~ .xr-array-preview {\n",
       "  display: none;\n",
       "}\n",
       "\n",
       ".xr-array-in:checked ~ .xr-array-data,\n",
       ".xr-array-preview {\n",
       "  display: inline-block;\n",
       "}\n",
       "\n",
       ".xr-dim-list {\n",
       "  display: inline-block !important;\n",
       "  list-style: none;\n",
       "  padding: 0 !important;\n",
       "  margin: 0;\n",
       "}\n",
       "\n",
       ".xr-dim-list li {\n",
       "  display: inline-block;\n",
       "  padding: 0;\n",
       "  margin: 0;\n",
       "}\n",
       "\n",
       ".xr-dim-list:before {\n",
       "  content: '(';\n",
       "}\n",
       "\n",
       ".xr-dim-list:after {\n",
       "  content: ')';\n",
       "}\n",
       "\n",
       ".xr-dim-list li:not(:last-child):after {\n",
       "  content: ',';\n",
       "  padding-right: 5px;\n",
       "}\n",
       "\n",
       ".xr-has-index {\n",
       "  font-weight: bold;\n",
       "}\n",
       "\n",
       ".xr-var-list,\n",
       ".xr-var-item {\n",
       "  display: contents;\n",
       "}\n",
       "\n",
       ".xr-var-item > div,\n",
       ".xr-var-item label,\n",
       ".xr-var-item > .xr-var-name span {\n",
       "  background-color: var(--xr-background-color-row-even);\n",
       "  margin-bottom: 0;\n",
       "}\n",
       "\n",
       ".xr-var-item > .xr-var-name:hover span {\n",
       "  padding-right: 5px;\n",
       "}\n",
       "\n",
       ".xr-var-list > li:nth-child(odd) > div,\n",
       ".xr-var-list > li:nth-child(odd) > label,\n",
       ".xr-var-list > li:nth-child(odd) > .xr-var-name span {\n",
       "  background-color: var(--xr-background-color-row-odd);\n",
       "}\n",
       "\n",
       ".xr-var-name {\n",
       "  grid-column: 1;\n",
       "}\n",
       "\n",
       ".xr-var-dims {\n",
       "  grid-column: 2;\n",
       "}\n",
       "\n",
       ".xr-var-dtype {\n",
       "  grid-column: 3;\n",
       "  text-align: right;\n",
       "  color: var(--xr-font-color2);\n",
       "}\n",
       "\n",
       ".xr-var-preview {\n",
       "  grid-column: 4;\n",
       "}\n",
       "\n",
       ".xr-var-name,\n",
       ".xr-var-dims,\n",
       ".xr-var-dtype,\n",
       ".xr-preview,\n",
       ".xr-attrs dt {\n",
       "  white-space: nowrap;\n",
       "  overflow: hidden;\n",
       "  text-overflow: ellipsis;\n",
       "  padding-right: 10px;\n",
       "}\n",
       "\n",
       ".xr-var-name:hover,\n",
       ".xr-var-dims:hover,\n",
       ".xr-var-dtype:hover,\n",
       ".xr-attrs dt:hover {\n",
       "  overflow: visible;\n",
       "  width: auto;\n",
       "  z-index: 1;\n",
       "}\n",
       "\n",
       ".xr-var-attrs,\n",
       ".xr-var-data {\n",
       "  display: none;\n",
       "  background-color: var(--xr-background-color) !important;\n",
       "  padding-bottom: 5px !important;\n",
       "}\n",
       "\n",
       ".xr-var-attrs-in:checked ~ .xr-var-attrs,\n",
       ".xr-var-data-in:checked ~ .xr-var-data {\n",
       "  display: block;\n",
       "}\n",
       "\n",
       ".xr-var-data > table {\n",
       "  float: right;\n",
       "}\n",
       "\n",
       ".xr-var-name span,\n",
       ".xr-var-data,\n",
       ".xr-attrs {\n",
       "  padding-left: 25px !important;\n",
       "}\n",
       "\n",
       ".xr-attrs,\n",
       ".xr-var-attrs,\n",
       ".xr-var-data {\n",
       "  grid-column: 1 / -1;\n",
       "}\n",
       "\n",
       "dl.xr-attrs {\n",
       "  padding: 0;\n",
       "  margin: 0;\n",
       "  display: grid;\n",
       "  grid-template-columns: 125px auto;\n",
       "}\n",
       "\n",
       ".xr-attrs dt,\n",
       ".xr-attrs dd {\n",
       "  padding: 0;\n",
       "  margin: 0;\n",
       "  float: left;\n",
       "  padding-right: 10px;\n",
       "  width: auto;\n",
       "}\n",
       "\n",
       ".xr-attrs dt {\n",
       "  font-weight: normal;\n",
       "  grid-column: 1;\n",
       "}\n",
       "\n",
       ".xr-attrs dt:hover span {\n",
       "  display: inline-block;\n",
       "  background: var(--xr-background-color);\n",
       "  padding-right: 10px;\n",
       "}\n",
       "\n",
       ".xr-attrs dd {\n",
       "  grid-column: 2;\n",
       "  white-space: pre-wrap;\n",
       "  word-break: break-all;\n",
       "}\n",
       "\n",
       ".xr-icon-database,\n",
       ".xr-icon-file-text2 {\n",
       "  display: inline-block;\n",
       "  vertical-align: middle;\n",
       "  width: 1em;\n",
       "  height: 1.5em !important;\n",
       "  stroke-width: 0;\n",
       "  stroke: currentColor;\n",
       "  fill: currentColor;\n",
       "}\n",
       "</style><pre class='xr-text-repr-fallback'>&lt;xarray.DataArray &#x27;pattern&#x27; (example: 828, y: 64, x: 256)&gt;\n",
       "array([[[1., 1., 1., ..., 1., 1., 1.],\n",
       "        [1., 1., 1., ..., 1., 1., 1.],\n",
       "        [1., 1., 1., ..., 1., 1., 1.],\n",
       "        ...,\n",
       "        [1., 1., 1., ..., 1., 1., 1.],\n",
       "        [1., 1., 1., ..., 1., 1., 1.],\n",
       "        [1., 1., 1., ..., 1., 1., 1.]],\n",
       "\n",
       "       [[1., 1., 1., ..., 1., 1., 1.],\n",
       "        [1., 1., 1., ..., 1., 1., 1.],\n",
       "        [1., 1., 1., ..., 1., 1., 1.],\n",
       "        ...,\n",
       "        [1., 1., 1., ..., 1., 1., 1.],\n",
       "        [1., 1., 1., ..., 1., 1., 1.],\n",
       "        [1., 1., 1., ..., 1., 1., 1.]],\n",
       "\n",
       "       [[0., 0., 0., ..., 0., 0., 0.],\n",
       "        [0., 0., 0., ..., 0., 0., 0.],\n",
       "        [0., 0., 0., ..., 0., 0., 0.],\n",
       "        ...,\n",
       "...\n",
       "        ...,\n",
       "        [0., 0., 0., ..., 0., 0., 0.],\n",
       "        [0., 0., 0., ..., 0., 0., 0.],\n",
       "        [0., 0., 0., ..., 0., 0., 0.]],\n",
       "\n",
       "       [[0., 0., 0., ..., 0., 0., 0.],\n",
       "        [0., 0., 0., ..., 0., 0., 0.],\n",
       "        [0., 0., 0., ..., 0., 0., 0.],\n",
       "        ...,\n",
       "        [0., 0., 0., ..., 0., 0., 0.],\n",
       "        [0., 0., 0., ..., 0., 0., 0.],\n",
       "        [0., 0., 0., ..., 0., 0., 0.]],\n",
       "\n",
       "       [[0., 0., 0., ..., 0., 0., 0.],\n",
       "        [0., 0., 0., ..., 0., 0., 0.],\n",
       "        [0., 0., 0., ..., 0., 0., 0.],\n",
       "        ...,\n",
       "        [1., 1., 1., ..., 0., 1., 1.],\n",
       "        [1., 1., 1., ..., 0., 1., 1.],\n",
       "        [1., 1., 1., ..., 0., 1., 1.]]], dtype=float32)\n",
       "Coordinates:\n",
       "    wavelength  (example) float64 1.1e+03 1.1e+03 1.1e+03 ... 900.0 900.0 900.0\n",
       "    efficiency  (example) float64 0.9363 0.9407 0.934 ... 0.3789 0.4822 0.6049\n",
       "    task_id     (example) int32 11 12 15 17 18 19 20 23 ... 47 48 49 5 50 6 7 8\n",
       "    angle       (example) float64 35.0 35.0 35.0 35.0 ... 85.0 85.0 85.0 85.0\n",
       "Dimensions without coordinates: example, y, x</pre><div class='xr-wrap' hidden><div class='xr-header'><div class='xr-obj-type'>xarray.DataArray</div><div class='xr-array-name'>'pattern'</div><ul class='xr-dim-list'><li><span>example</span>: 828</li><li><span>y</span>: 64</li><li><span>x</span>: 256</li></ul></div><ul class='xr-sections'><li class='xr-section-item'><div class='xr-array-wrap'><input id='section-bef33d26-f6e0-47b3-8899-68111febc55a' class='xr-array-in' type='checkbox' checked><label for='section-bef33d26-f6e0-47b3-8899-68111febc55a' title='Show/hide data repr'><svg class='icon xr-icon-database'><use xlink:href='#icon-database'></use></svg></label><div class='xr-array-preview xr-preview'><span>1.0 1.0 1.0 1.0 0.0 0.0 0.0 0.0 ... 0.0 0.0 0.0 0.0 0.0 0.0 1.0 1.0</span></div><div class='xr-array-data'><pre>array([[[1., 1., 1., ..., 1., 1., 1.],\n",
       "        [1., 1., 1., ..., 1., 1., 1.],\n",
       "        [1., 1., 1., ..., 1., 1., 1.],\n",
       "        ...,\n",
       "        [1., 1., 1., ..., 1., 1., 1.],\n",
       "        [1., 1., 1., ..., 1., 1., 1.],\n",
       "        [1., 1., 1., ..., 1., 1., 1.]],\n",
       "\n",
       "       [[1., 1., 1., ..., 1., 1., 1.],\n",
       "        [1., 1., 1., ..., 1., 1., 1.],\n",
       "        [1., 1., 1., ..., 1., 1., 1.],\n",
       "        ...,\n",
       "        [1., 1., 1., ..., 1., 1., 1.],\n",
       "        [1., 1., 1., ..., 1., 1., 1.],\n",
       "        [1., 1., 1., ..., 1., 1., 1.]],\n",
       "\n",
       "       [[0., 0., 0., ..., 0., 0., 0.],\n",
       "        [0., 0., 0., ..., 0., 0., 0.],\n",
       "        [0., 0., 0., ..., 0., 0., 0.],\n",
       "        ...,\n",
       "...\n",
       "        ...,\n",
       "        [0., 0., 0., ..., 0., 0., 0.],\n",
       "        [0., 0., 0., ..., 0., 0., 0.],\n",
       "        [0., 0., 0., ..., 0., 0., 0.]],\n",
       "\n",
       "       [[0., 0., 0., ..., 0., 0., 0.],\n",
       "        [0., 0., 0., ..., 0., 0., 0.],\n",
       "        [0., 0., 0., ..., 0., 0., 0.],\n",
       "        ...,\n",
       "        [0., 0., 0., ..., 0., 0., 0.],\n",
       "        [0., 0., 0., ..., 0., 0., 0.],\n",
       "        [0., 0., 0., ..., 0., 0., 0.]],\n",
       "\n",
       "       [[0., 0., 0., ..., 0., 0., 0.],\n",
       "        [0., 0., 0., ..., 0., 0., 0.],\n",
       "        [0., 0., 0., ..., 0., 0., 0.],\n",
       "        ...,\n",
       "        [1., 1., 1., ..., 0., 1., 1.],\n",
       "        [1., 1., 1., ..., 0., 1., 1.],\n",
       "        [1., 1., 1., ..., 0., 1., 1.]]], dtype=float32)</pre></div></div></li><li class='xr-section-item'><input id='section-022641c5-0a18-4590-a82a-69f80595c96b' class='xr-section-summary-in' type='checkbox'  checked><label for='section-022641c5-0a18-4590-a82a-69f80595c96b' class='xr-section-summary' >Coordinates: <span>(4)</span></label><div class='xr-section-inline-details'></div><div class='xr-section-details'><ul class='xr-var-list'><li class='xr-var-item'><div class='xr-var-name'><span>wavelength</span></div><div class='xr-var-dims'>(example)</div><div class='xr-var-dtype'>float64</div><div class='xr-var-preview xr-preview'>1.1e+03 1.1e+03 ... 900.0 900.0</div><input id='attrs-eb8866d5-537e-4556-ad76-5387211f69c4' class='xr-var-attrs-in' type='checkbox' disabled><label for='attrs-eb8866d5-537e-4556-ad76-5387211f69c4' title='Show/Hide attributes'><svg class='icon xr-icon-file-text2'><use xlink:href='#icon-file-text2'></use></svg></label><input id='data-9a516a33-4aa7-47f1-a741-b445b176fc66' class='xr-var-data-in' type='checkbox'><label for='data-9a516a33-4aa7-47f1-a741-b445b176fc66' title='Show/Hide data repr'><svg class='icon xr-icon-database'><use xlink:href='#icon-database'></use></svg></label><div class='xr-var-attrs'><dl class='xr-attrs'></dl></div><div class='xr-var-data'><pre>array([1100., 1100., 1100., 1100., 1100., 1100., 1100., 1100., 1100.,\n",
       "       1100., 1100., 1100., 1100., 1100., 1100., 1100., 1100., 1100.,\n",
       "       1100., 1100., 1100., 1100., 1100., 1100., 1100., 1300., 1300.,\n",
       "       1300., 1300., 1300., 1300., 1300., 1300., 1300., 1300., 1300.,\n",
       "       1300., 1300., 1300., 1300., 1300., 1300., 1300., 1300., 1300.,\n",
       "       1300., 1300., 1300., 1300.,  500.,  500.,  500.,  500.,  500.,\n",
       "        500.,  500.,  500.,  500.,  500.,  500.,  500.,  500.,  500.,\n",
       "        500.,  500.,  500.,  500.,  500.,  500.,  500.,  500.,  500.,\n",
       "        500.,  500.,  500.,  500.,  500.,  500.,  500.,  700.,  700.,\n",
       "        700.,  700.,  700.,  700.,  700.,  700.,  700.,  700.,  700.,\n",
       "        700.,  700.,  700.,  700.,  700.,  700.,  700.,  700.,  700.,\n",
       "        700.,  700.,  700.,  700.,  700.,  700.,  700.,  700.,  700.,\n",
       "        700.,  900.,  900.,  900.,  900.,  900.,  900.,  900.,  900.,\n",
       "        900.,  900.,  900.,  900.,  900.,  900.,  900.,  900.,  900.,\n",
       "        900.,  900.,  900.,  900.,  900.,  900.,  900.,  900.,  900.,\n",
       "        900.,  900.,  900., 1100., 1100., 1100., 1100., 1100., 1100.,\n",
       "       1100., 1100., 1100., 1100., 1100., 1100., 1100., 1100., 1100.,\n",
       "       1100., 1100., 1100., 1100., 1100., 1100., 1100., 1100., 1100.,\n",
       "       1100., 1100., 1300., 1300., 1300., 1300., 1300., 1300., 1300.,\n",
       "       1300., 1300., 1300., 1300., 1300., 1300., 1300., 1300., 1300.,\n",
       "...\n",
       "        700.,  700.,  700.,  700.,  700.,  700.,  700.,  700.,  700.,\n",
       "        700.,  700.,  700.,  700.,  700.,  700.,  900.,  900.,  900.,\n",
       "        900.,  900.,  900.,  900.,  900.,  900.,  900.,  900.,  900.,\n",
       "        900.,  900.,  900.,  900.,  900.,  900.,  900.,  900.,  900.,\n",
       "        900.,  900.,  900.,  900.,  900.,  900., 1100., 1100., 1100.,\n",
       "       1100., 1100., 1100., 1100., 1100., 1100., 1100., 1100., 1100.,\n",
       "       1100., 1100., 1100., 1100., 1100., 1100., 1100., 1100., 1100.,\n",
       "       1100., 1100., 1100., 1100., 1100., 1300., 1300., 1300., 1300.,\n",
       "       1300., 1300., 1300., 1300., 1300., 1300., 1300., 1300., 1300.,\n",
       "       1300., 1300., 1300., 1300., 1300., 1300., 1300., 1300., 1300.,\n",
       "       1300., 1300., 1300., 1300.,  500.,  500.,  500.,  500.,  500.,\n",
       "        500.,  500.,  500.,  500.,  500.,  500.,  500.,  500.,  500.,\n",
       "        500.,  500.,  500.,  500.,  500.,  700.,  700.,  700.,  700.,\n",
       "        700.,  700.,  700.,  700.,  700.,  700.,  700.,  700.,  700.,\n",
       "        700.,  700.,  700.,  700.,  700.,  700.,  700.,  700.,  700.,\n",
       "        700.,  700.,  700.,  700.,  700.,  700.,  700.,  700.,  700.,\n",
       "        700.,  700.,  900.,  900.,  900.,  900.,  900.,  900.,  900.,\n",
       "        900.,  900.,  900.,  900.,  900.,  900.,  900.,  900.,  900.,\n",
       "        900.,  900.,  900.,  900.,  900.,  900.,  900.,  900.,  900.,\n",
       "        900.,  900.,  900.,  900.,  900.,  900.,  900.,  900.,  900.])</pre></div></li><li class='xr-var-item'><div class='xr-var-name'><span>efficiency</span></div><div class='xr-var-dims'>(example)</div><div class='xr-var-dtype'>float64</div><div class='xr-var-preview xr-preview'>0.9363 0.9407 ... 0.4822 0.6049</div><input id='attrs-5870b121-b95e-4c77-a0f6-512458b26ca6' class='xr-var-attrs-in' type='checkbox' disabled><label for='attrs-5870b121-b95e-4c77-a0f6-512458b26ca6' title='Show/Hide attributes'><svg class='icon xr-icon-file-text2'><use xlink:href='#icon-file-text2'></use></svg></label><input id='data-09c2c6bb-bc3f-4843-a952-f4f032a505ea' class='xr-var-data-in' type='checkbox'><label for='data-09c2c6bb-bc3f-4843-a952-f4f032a505ea' title='Show/Hide data repr'><svg class='icon xr-icon-database'><use xlink:href='#icon-database'></use></svg></label><div class='xr-var-attrs'><dl class='xr-attrs'></dl></div><div class='xr-var-data'><pre>array([0.93634508, 0.94073517, 0.93397856, 0.94087861, 0.96708582,\n",
       "       0.93978808, 0.94144863, 0.9440412 , 0.93999185, 0.9444642 ,\n",
       "       0.93902006, 0.93292982, 0.95541725, 0.94655333, 0.94959765,\n",
       "       0.96236572, 0.93794588, 0.97044898, 0.94191684, 0.93140438,\n",
       "       0.94182176, 0.93773129, 0.93844786, 0.94372538, 0.96450656,\n",
       "       0.91860351, 0.92749926, 0.9644661 , 0.92560723, 0.91464219,\n",
       "       0.91980921, 0.91560908, 0.92317808, 0.91527157, 0.95748511,\n",
       "       0.91995249, 0.91459299, 0.93652939, 0.91435256, 0.93195804,\n",
       "       0.95830163, 0.92027033, 0.92381358, 0.91623496, 0.91732674,\n",
       "       0.94879453, 0.94130339, 0.93414663, 0.94082183, 0.20452073,\n",
       "       0.24483407, 0.24733944, 0.274901  , 0.25657575, 0.35928997,\n",
       "       0.40469877, 0.33157915, 0.56510445, 0.64068627, 0.49156848,\n",
       "       0.3392313 , 0.23477205, 0.51061333, 0.20371997, 0.32882294,\n",
       "       0.64068627, 0.30107978, 0.80142102, 0.60621166, 0.55657997,\n",
       "       0.48477065, 0.3327226 , 0.30079574, 0.4739503 , 0.76761768,\n",
       "       0.26099793, 0.34020295, 0.19030568, 0.20138009, 0.92559945,\n",
       "       0.61747723, 0.76746775, 0.87980325, 0.89725719, 0.68922975,\n",
       "       0.86306203, 0.73616353, 0.80885079, 0.7577523 , 0.74522392,\n",
       "       0.62731333, 0.91169932, 0.89165852, 0.85495579, 0.76320354,\n",
       "       0.85280351, 0.75935705, 0.71020961, 0.78084483, 0.76158048,\n",
       "...\n",
       "       0.52900575, 0.51996237, 0.53917602, 0.53827239, 0.55140017,\n",
       "       0.55112002, 0.57575629, 0.57384789, 0.55882378, 0.5618685 ,\n",
       "       0.5618685 , 0.56313939, 0.00172021, 0.09567555, 0.06805306,\n",
       "       0.20839061, 0.36957651, 0.3679375 , 0.15030809, 0.08232826,\n",
       "       0.33846799, 0.14287074, 0.14287074, 0.08362225, 0.10104381,\n",
       "       0.14709086, 0.11912562, 0.13485195, 0.13485195, 0.10116278,\n",
       "       0.17578448, 0.27650867, 0.27650867, 0.27670776, 0.32767952,\n",
       "       0.25889057, 0.23148237, 0.59795172, 0.16852099, 0.34787436,\n",
       "       0.3252899 , 0.2501968 , 0.02643878, 0.02643878, 0.15281185,\n",
       "       0.35233446, 0.52420821, 0.52420821, 0.3175898 , 0.23912438,\n",
       "       0.2978263 , 0.2978263 , 0.52093181, 0.34248868, 0.6291362 ,\n",
       "       0.32511953, 0.32511953, 0.24822191, 0.09594708, 0.09594708,\n",
       "       0.31471625, 0.34248868, 0.34373538, 0.18644577, 0.60737433,\n",
       "       0.70293246, 0.19462032, 0.47807435, 0.0461623 , 0.0461623 ,\n",
       "       0.74250433, 0.74250433, 0.54743344, 0.31857442, 0.50115829,\n",
       "       0.31714434, 0.40256954, 0.42517629, 0.72842234, 0.72842234,\n",
       "       0.4069169 , 0.3951967 , 0.66188105, 0.3290803 , 0.55182329,\n",
       "       0.49102309, 0.31791649, 0.35611494, 0.3792893 , 0.53302105,\n",
       "       0.72868019, 0.37944277, 0.31791649, 0.55182329, 0.30793532,\n",
       "       0.3789261 , 0.48222757, 0.6048753 ])</pre></div></li><li class='xr-var-item'><div class='xr-var-name'><span>task_id</span></div><div class='xr-var-dims'>(example)</div><div class='xr-var-dtype'>int32</div><div class='xr-var-preview xr-preview'>11 12 15 17 18 19 ... 49 5 50 6 7 8</div><input id='attrs-9137fef5-47b3-4efc-b574-b584c2b64d02' class='xr-var-attrs-in' type='checkbox' disabled><label for='attrs-9137fef5-47b3-4efc-b574-b584c2b64d02' title='Show/Hide attributes'><svg class='icon xr-icon-file-text2'><use xlink:href='#icon-file-text2'></use></svg></label><input id='data-bc35f950-8d39-456c-98d6-07aad8072986' class='xr-var-data-in' type='checkbox'><label for='data-bc35f950-8d39-456c-98d6-07aad8072986' title='Show/Hide data repr'><svg class='icon xr-icon-database'><use xlink:href='#icon-database'></use></svg></label><div class='xr-var-attrs'><dl class='xr-attrs'></dl></div><div class='xr-var-data'><pre>array([11, 12, 15, 17, 18, 19, 20, 23, 25, 28, 31, 34, 37, 38,  4, 40, 42,\n",
       "       43, 44, 45, 46, 48,  5, 50,  7,  1, 11, 14, 15, 18,  2, 22, 23, 24,\n",
       "       27, 28, 29, 30, 31, 32, 37, 39, 42, 44, 46,  5,  6,  7,  9,  1, 10,\n",
       "       11, 13, 16, 18, 19, 21, 22, 23, 25, 26, 27, 28,  3, 30, 31, 32, 33,\n",
       "       36, 39, 40, 41, 43, 46, 47, 49,  6,  8,  9, 10, 11, 12, 13, 14, 16,\n",
       "       17, 20, 21, 22, 24, 27, 28,  3, 30, 31, 32, 33, 34, 37, 38,  4, 40,\n",
       "       42, 43, 45, 47, 48,  8,  9,  1, 10, 11, 13, 15, 18, 20, 21, 23, 24,\n",
       "       26, 27, 29,  3, 32, 35, 38, 39,  4, 40, 44, 45, 46, 48, 49,  5, 50,\n",
       "        6,  8, 10, 11, 12, 14, 15, 16, 18, 19, 20, 21, 24, 26, 27, 28,  3,\n",
       "       31, 32, 33, 34, 37, 45, 46, 47, 48,  5, 50,  1, 11, 13, 14, 15, 16,\n",
       "       17, 18,  2, 20, 23, 29, 30, 33, 34, 35, 38, 39, 45, 46, 47, 48, 50,\n",
       "        1, 10, 13, 14, 15, 16, 17, 18,  2, 20, 21, 22, 23, 24, 25, 26, 27,\n",
       "       28, 29,  3, 32, 35, 37,  4, 41, 42, 43, 44, 47, 48, 49,  5, 50,  6,\n",
       "        7,  9, 10, 11, 15, 16, 17, 18,  2, 27, 28, 29,  3, 30, 31, 33, 35,\n",
       "       36, 37, 38, 39, 40, 41, 43, 45, 46, 47,  7,  9,  1, 10, 12, 13, 14,\n",
       "       15, 17, 19, 21, 24, 25, 26,  3, 30, 31, 32, 33, 34, 35, 38, 39,  4,\n",
       "       40, 42, 44, 48,  5, 50,  9, 13, 14, 15, 16, 17, 18, 19, 20, 23, 24,\n",
       "       27, 29, 31, 34, 35, 39, 40, 41, 42, 43, 45, 47, 49, 50,  6,  7,  8,\n",
       "        1, 12, 13, 14, 15, 16, 17, 19, 23, 29, 31, 32, 33, 34, 35, 39,  4,\n",
       "       40, 41, 44, 46, 47, 48,  5,  1, 10, 11, 12, 13, 14, 15, 16, 17, 18,\n",
       "...\n",
       "       14, 15, 16, 19,  2, 20, 22, 23, 24, 25, 26, 27, 28, 29,  3, 31, 32,\n",
       "       33, 34, 35, 36, 37, 38, 39, 40, 43, 44, 47, 48,  7, 11, 12, 13, 14,\n",
       "       15, 17, 19, 20, 22, 23, 24, 25, 26, 27, 29,  3, 30, 31, 32, 33, 34,\n",
       "       36, 41, 42, 43, 44, 47, 48, 49,  5, 50,  6,  8,  9, 13, 14, 15, 16,\n",
       "        2, 21, 24, 25, 26, 27, 29,  3, 30, 31, 36, 38, 39, 40, 43, 44, 46,\n",
       "       48, 49,  5, 50,  6,  8,  1, 10, 11, 14, 17, 18, 22, 23, 25, 33, 34,\n",
       "       36, 37, 38, 40, 41, 42, 43, 44, 46, 48, 50,  6,  8,  1, 13, 14, 17,\n",
       "       18,  2, 20, 25, 26, 27,  3, 30, 32, 33, 34, 35, 36, 38, 39, 40, 41,\n",
       "       42, 43, 48, 50,  8,  9,  1, 10, 12, 16, 18, 19, 21, 22, 23, 27, 29,\n",
       "        3, 30, 31, 32, 33, 36, 37, 38, 39,  4, 43, 46, 48, 49,  5,  6,  8,\n",
       "        1, 10, 13, 17, 18, 19, 21, 22, 23, 26, 27, 28, 29, 30, 32, 33, 36,\n",
       "       39, 40, 42, 43, 44,  5, 50,  6,  7,  8, 11, 12, 13, 14, 15, 16, 17,\n",
       "       18, 21, 23, 24, 26, 27, 28, 29, 30, 34, 37, 38, 41, 43, 44, 45, 47,\n",
       "       49, 50,  1, 10, 11, 12, 13, 15,  2, 22, 27, 28,  3, 32, 33, 34, 35,\n",
       "       36, 38, 39,  4, 40, 41, 42, 47, 48, 50,  8, 14, 18, 20, 21, 25, 27,\n",
       "        3, 31, 34, 36, 37, 38, 39,  4, 40, 44, 45,  6,  8, 12, 13, 14, 15,\n",
       "       17,  2, 21, 22, 23, 24, 25, 26, 27, 28, 29, 32, 33, 34, 35, 36, 37,\n",
       "       38,  4, 40, 41, 42, 44, 46, 47, 48,  5,  7,  8,  1, 12, 14, 15, 16,\n",
       "       17, 18, 19, 20, 22, 26,  3, 30, 31, 32, 33, 34, 35, 37, 38,  4, 40,\n",
       "       41, 43, 44, 45, 47, 48, 49,  5, 50,  6,  7,  8], dtype=int32)</pre></div></li><li class='xr-var-item'><div class='xr-var-name'><span>angle</span></div><div class='xr-var-dims'>(example)</div><div class='xr-var-dtype'>float64</div><div class='xr-var-preview xr-preview'>35.0 35.0 35.0 ... 85.0 85.0 85.0</div><input id='attrs-ad207ebf-0038-4b2f-bd0d-edca9604771d' class='xr-var-attrs-in' type='checkbox' disabled><label for='attrs-ad207ebf-0038-4b2f-bd0d-edca9604771d' title='Show/Hide attributes'><svg class='icon xr-icon-file-text2'><use xlink:href='#icon-file-text2'></use></svg></label><input id='data-6d8b4587-048a-4b63-9745-6e33450f605c' class='xr-var-data-in' type='checkbox'><label for='data-6d8b4587-048a-4b63-9745-6e33450f605c' title='Show/Hide data repr'><svg class='icon xr-icon-database'><use xlink:href='#icon-database'></use></svg></label><div class='xr-var-attrs'><dl class='xr-attrs'></dl></div><div class='xr-var-data'><pre>array([35., 35., 35., 35., 35., 35., 35., 35., 35., 35., 35., 35., 35.,\n",
       "       35., 35., 35., 35., 35., 35., 35., 35., 35., 35., 35., 35., 35.,\n",
       "       35., 35., 35., 35., 35., 35., 35., 35., 35., 35., 35., 35., 35.,\n",
       "       35., 35., 35., 35., 35., 35., 35., 35., 35., 35., 35., 35., 35.,\n",
       "       35., 35., 35., 35., 35., 35., 35., 35., 35., 35., 35., 35., 35.,\n",
       "       35., 35., 35., 35., 35., 35., 35., 35., 35., 35., 35., 35., 35.,\n",
       "       35., 35., 35., 35., 35., 35., 35., 35., 35., 35., 35., 35., 35.,\n",
       "       35., 35., 35., 35., 35., 35., 35., 35., 35., 35., 35., 35., 35.,\n",
       "       35., 35., 35., 35., 35., 35., 35., 35., 35., 35., 35., 35., 35.,\n",
       "       35., 35., 35., 35., 35., 35., 35., 35., 35., 35., 35., 35., 35.,\n",
       "       35., 35., 35., 35., 35., 35., 35., 35., 45., 45., 45., 45., 45.,\n",
       "       45., 45., 45., 45., 45., 45., 45., 45., 45., 45., 45., 45., 45.,\n",
       "       45., 45., 45., 45., 45., 45., 45., 45., 45., 45., 45., 45., 45.,\n",
       "       45., 45., 45., 45., 45., 45., 45., 45., 45., 45., 45., 45., 45.,\n",
       "       45., 45., 45., 45., 45., 45., 45., 45., 45., 45., 45., 45., 45.,\n",
       "       45., 45., 45., 45., 45., 45., 45., 45., 45., 45., 45., 45., 45.,\n",
       "       45., 45., 45., 45., 45., 45., 45., 45., 45., 45., 45., 45., 45.,\n",
       "       45., 45., 45., 45., 45., 45., 45., 45., 45., 45., 45., 45., 45.,\n",
       "       45., 45., 45., 45., 45., 45., 45., 45., 45., 45., 45., 45., 45.,\n",
       "       45., 45., 45., 45., 45., 45., 45., 45., 45., 45., 45., 45., 45.,\n",
       "...\n",
       "       75., 75., 75., 75., 75., 75., 75., 75., 75., 75., 75., 75., 75.,\n",
       "       75., 75., 75., 75., 75., 75., 75., 75., 75., 75., 75., 75., 75.,\n",
       "       75., 75., 75., 75., 75., 75., 75., 75., 75., 75., 75., 75., 75.,\n",
       "       75., 75., 75., 75., 75., 75., 75., 75., 75., 75., 75., 75., 75.,\n",
       "       75., 75., 75., 75., 75., 75., 75., 75., 75., 75., 75., 75., 75.,\n",
       "       75., 75., 75., 75., 75., 75., 75., 75., 75., 75., 75., 75., 75.,\n",
       "       75., 75., 75., 75., 75., 75., 75., 75., 75., 75., 75., 75., 75.,\n",
       "       75., 75., 75., 75., 75., 75., 75., 75., 75., 75., 75., 75., 75.,\n",
       "       75., 75., 75., 75., 75., 75., 75., 75., 75., 75., 75., 75., 75.,\n",
       "       75., 85., 85., 85., 85., 85., 85., 85., 85., 85., 85., 85., 85.,\n",
       "       85., 85., 85., 85., 85., 85., 85., 85., 85., 85., 85., 85., 85.,\n",
       "       85., 85., 85., 85., 85., 85., 85., 85., 85., 85., 85., 85., 85.,\n",
       "       85., 85., 85., 85., 85., 85., 85., 85., 85., 85., 85., 85., 85.,\n",
       "       85., 85., 85., 85., 85., 85., 85., 85., 85., 85., 85., 85., 85.,\n",
       "       85., 85., 85., 85., 85., 85., 85., 85., 85., 85., 85., 85., 85.,\n",
       "       85., 85., 85., 85., 85., 85., 85., 85., 85., 85., 85., 85., 85.,\n",
       "       85., 85., 85., 85., 85., 85., 85., 85., 85., 85., 85., 85., 85.,\n",
       "       85., 85., 85., 85., 85., 85., 85., 85., 85., 85., 85., 85., 85.,\n",
       "       85., 85., 85., 85., 85., 85., 85., 85., 85., 85., 85., 85., 85.,\n",
       "       85., 85., 85., 85., 85., 85., 85., 85., 85.])</pre></div></li></ul></div></li><li class='xr-section-item'><input id='section-6dff5da5-7d95-4dd7-8ceb-bec9e2bcfca5' class='xr-section-summary-in' type='checkbox' disabled ><label for='section-6dff5da5-7d95-4dd7-8ceb-bec9e2bcfca5' class='xr-section-summary'  title='Expand/collapse section'>Attributes: <span>(0)</span></label><div class='xr-section-inline-details'></div><div class='xr-section-details'><dl class='xr-attrs'></dl></div></li></ul></div></div>"
      ],
      "text/plain": [
       "<xarray.DataArray 'pattern' (example: 828, y: 64, x: 256)>\n",
       "array([[[1., 1., 1., ..., 1., 1., 1.],\n",
       "        [1., 1., 1., ..., 1., 1., 1.],\n",
       "        [1., 1., 1., ..., 1., 1., 1.],\n",
       "        ...,\n",
       "        [1., 1., 1., ..., 1., 1., 1.],\n",
       "        [1., 1., 1., ..., 1., 1., 1.],\n",
       "        [1., 1., 1., ..., 1., 1., 1.]],\n",
       "\n",
       "       [[1., 1., 1., ..., 1., 1., 1.],\n",
       "        [1., 1., 1., ..., 1., 1., 1.],\n",
       "        [1., 1., 1., ..., 1., 1., 1.],\n",
       "        ...,\n",
       "        [1., 1., 1., ..., 1., 1., 1.],\n",
       "        [1., 1., 1., ..., 1., 1., 1.],\n",
       "        [1., 1., 1., ..., 1., 1., 1.]],\n",
       "\n",
       "       [[0., 0., 0., ..., 0., 0., 0.],\n",
       "        [0., 0., 0., ..., 0., 0., 0.],\n",
       "        [0., 0., 0., ..., 0., 0., 0.],\n",
       "        ...,\n",
       "...\n",
       "        ...,\n",
       "        [0., 0., 0., ..., 0., 0., 0.],\n",
       "        [0., 0., 0., ..., 0., 0., 0.],\n",
       "        [0., 0., 0., ..., 0., 0., 0.]],\n",
       "\n",
       "       [[0., 0., 0., ..., 0., 0., 0.],\n",
       "        [0., 0., 0., ..., 0., 0., 0.],\n",
       "        [0., 0., 0., ..., 0., 0., 0.],\n",
       "        ...,\n",
       "        [0., 0., 0., ..., 0., 0., 0.],\n",
       "        [0., 0., 0., ..., 0., 0., 0.],\n",
       "        [0., 0., 0., ..., 0., 0., 0.]],\n",
       "\n",
       "       [[0., 0., 0., ..., 0., 0., 0.],\n",
       "        [0., 0., 0., ..., 0., 0., 0.],\n",
       "        [0., 0., 0., ..., 0., 0., 0.],\n",
       "        ...,\n",
       "        [1., 1., 1., ..., 0., 1., 1.],\n",
       "        [1., 1., 1., ..., 0., 1., 1.],\n",
       "        [1., 1., 1., ..., 0., 1., 1.]]], dtype=float32)\n",
       "Coordinates:\n",
       "    wavelength  (example) float64 1.1e+03 1.1e+03 1.1e+03 ... 900.0 900.0 900.0\n",
       "    efficiency  (example) float64 0.9363 0.9407 0.934 ... 0.3789 0.4822 0.6049\n",
       "    task_id     (example) int32 11 12 15 17 18 19 20 23 ... 47 48 49 5 50 6 7 8\n",
       "    angle       (example) float64 35.0 35.0 35.0 35.0 ... 85.0 85.0 85.0 85.0\n",
       "Dimensions without coordinates: example, y, x"
      ]
     },
     "execution_count": 6,
     "metadata": {},
     "output_type": "execute_result"
    }
   ],
   "source": [
    "result['pattern']"
   ]
  },
  {
   "cell_type": "code",
   "execution_count": 7,
   "metadata": {
    "collapsed": false,
    "jupyter": {
     "outputs_hidden": false
    }
   },
   "outputs": [
    {
     "data": {
      "text/html": [
       "<div><svg style=\"position: absolute; width: 0; height: 0; overflow: hidden\">\n",
       "<defs>\n",
       "<symbol id=\"icon-database\" viewBox=\"0 0 32 32\">\n",
       "<path d=\"M16 0c-8.837 0-16 2.239-16 5v4c0 2.761 7.163 5 16 5s16-2.239 16-5v-4c0-2.761-7.163-5-16-5z\"></path>\n",
       "<path d=\"M16 17c-8.837 0-16-2.239-16-5v6c0 2.761 7.163 5 16 5s16-2.239 16-5v-6c0 2.761-7.163 5-16 5z\"></path>\n",
       "<path d=\"M16 26c-8.837 0-16-2.239-16-5v6c0 2.761 7.163 5 16 5s16-2.239 16-5v-6c0 2.761-7.163 5-16 5z\"></path>\n",
       "</symbol>\n",
       "<symbol id=\"icon-file-text2\" viewBox=\"0 0 32 32\">\n",
       "<path d=\"M28.681 7.159c-0.694-0.947-1.662-2.053-2.724-3.116s-2.169-2.030-3.116-2.724c-1.612-1.182-2.393-1.319-2.841-1.319h-15.5c-1.378 0-2.5 1.121-2.5 2.5v27c0 1.378 1.122 2.5 2.5 2.5h23c1.378 0 2.5-1.122 2.5-2.5v-19.5c0-0.448-0.137-1.23-1.319-2.841zM24.543 5.457c0.959 0.959 1.712 1.825 2.268 2.543h-4.811v-4.811c0.718 0.556 1.584 1.309 2.543 2.268zM28 29.5c0 0.271-0.229 0.5-0.5 0.5h-23c-0.271 0-0.5-0.229-0.5-0.5v-27c0-0.271 0.229-0.5 0.5-0.5 0 0 15.499-0 15.5 0v7c0 0.552 0.448 1 1 1h7v19.5z\"></path>\n",
       "<path d=\"M23 26h-14c-0.552 0-1-0.448-1-1s0.448-1 1-1h14c0.552 0 1 0.448 1 1s-0.448 1-1 1z\"></path>\n",
       "<path d=\"M23 22h-14c-0.552 0-1-0.448-1-1s0.448-1 1-1h14c0.552 0 1 0.448 1 1s-0.448 1-1 1z\"></path>\n",
       "<path d=\"M23 18h-14c-0.552 0-1-0.448-1-1s0.448-1 1-1h14c0.552 0 1 0.448 1 1s-0.448 1-1 1z\"></path>\n",
       "</symbol>\n",
       "</defs>\n",
       "</svg>\n",
       "<style>/* CSS stylesheet for displaying xarray objects in jupyterlab.\n",
       " *\n",
       " */\n",
       "\n",
       ":root {\n",
       "  --xr-font-color0: var(--jp-content-font-color0, rgba(0, 0, 0, 1));\n",
       "  --xr-font-color2: var(--jp-content-font-color2, rgba(0, 0, 0, 0.54));\n",
       "  --xr-font-color3: var(--jp-content-font-color3, rgba(0, 0, 0, 0.38));\n",
       "  --xr-border-color: var(--jp-border-color2, #e0e0e0);\n",
       "  --xr-disabled-color: var(--jp-layout-color3, #bdbdbd);\n",
       "  --xr-background-color: var(--jp-layout-color0, white);\n",
       "  --xr-background-color-row-even: var(--jp-layout-color1, white);\n",
       "  --xr-background-color-row-odd: var(--jp-layout-color2, #eeeeee);\n",
       "}\n",
       "\n",
       "html[theme=dark],\n",
       "body.vscode-dark {\n",
       "  --xr-font-color0: rgba(255, 255, 255, 1);\n",
       "  --xr-font-color2: rgba(255, 255, 255, 0.54);\n",
       "  --xr-font-color3: rgba(255, 255, 255, 0.38);\n",
       "  --xr-border-color: #1F1F1F;\n",
       "  --xr-disabled-color: #515151;\n",
       "  --xr-background-color: #111111;\n",
       "  --xr-background-color-row-even: #111111;\n",
       "  --xr-background-color-row-odd: #313131;\n",
       "}\n",
       "\n",
       ".xr-wrap {\n",
       "  display: block;\n",
       "  min-width: 300px;\n",
       "  max-width: 700px;\n",
       "}\n",
       "\n",
       ".xr-text-repr-fallback {\n",
       "  /* fallback to plain text repr when CSS is not injected (untrusted notebook) */\n",
       "  display: none;\n",
       "}\n",
       "\n",
       ".xr-header {\n",
       "  padding-top: 6px;\n",
       "  padding-bottom: 6px;\n",
       "  margin-bottom: 4px;\n",
       "  border-bottom: solid 1px var(--xr-border-color);\n",
       "}\n",
       "\n",
       ".xr-header > div,\n",
       ".xr-header > ul {\n",
       "  display: inline;\n",
       "  margin-top: 0;\n",
       "  margin-bottom: 0;\n",
       "}\n",
       "\n",
       ".xr-obj-type,\n",
       ".xr-array-name {\n",
       "  margin-left: 2px;\n",
       "  margin-right: 10px;\n",
       "}\n",
       "\n",
       ".xr-obj-type {\n",
       "  color: var(--xr-font-color2);\n",
       "}\n",
       "\n",
       ".xr-sections {\n",
       "  padding-left: 0 !important;\n",
       "  display: grid;\n",
       "  grid-template-columns: 150px auto auto 1fr 20px 20px;\n",
       "}\n",
       "\n",
       ".xr-section-item {\n",
       "  display: contents;\n",
       "}\n",
       "\n",
       ".xr-section-item input {\n",
       "  display: none;\n",
       "}\n",
       "\n",
       ".xr-section-item input + label {\n",
       "  color: var(--xr-disabled-color);\n",
       "}\n",
       "\n",
       ".xr-section-item input:enabled + label {\n",
       "  cursor: pointer;\n",
       "  color: var(--xr-font-color2);\n",
       "}\n",
       "\n",
       ".xr-section-item input:enabled + label:hover {\n",
       "  color: var(--xr-font-color0);\n",
       "}\n",
       "\n",
       ".xr-section-summary {\n",
       "  grid-column: 1;\n",
       "  color: var(--xr-font-color2);\n",
       "  font-weight: 500;\n",
       "}\n",
       "\n",
       ".xr-section-summary > span {\n",
       "  display: inline-block;\n",
       "  padding-left: 0.5em;\n",
       "}\n",
       "\n",
       ".xr-section-summary-in:disabled + label {\n",
       "  color: var(--xr-font-color2);\n",
       "}\n",
       "\n",
       ".xr-section-summary-in + label:before {\n",
       "  display: inline-block;\n",
       "  content: '►';\n",
       "  font-size: 11px;\n",
       "  width: 15px;\n",
       "  text-align: center;\n",
       "}\n",
       "\n",
       ".xr-section-summary-in:disabled + label:before {\n",
       "  color: var(--xr-disabled-color);\n",
       "}\n",
       "\n",
       ".xr-section-summary-in:checked + label:before {\n",
       "  content: '▼';\n",
       "}\n",
       "\n",
       ".xr-section-summary-in:checked + label > span {\n",
       "  display: none;\n",
       "}\n",
       "\n",
       ".xr-section-summary,\n",
       ".xr-section-inline-details {\n",
       "  padding-top: 4px;\n",
       "  padding-bottom: 4px;\n",
       "}\n",
       "\n",
       ".xr-section-inline-details {\n",
       "  grid-column: 2 / -1;\n",
       "}\n",
       "\n",
       ".xr-section-details {\n",
       "  display: none;\n",
       "  grid-column: 1 / -1;\n",
       "  margin-bottom: 5px;\n",
       "}\n",
       "\n",
       ".xr-section-summary-in:checked ~ .xr-section-details {\n",
       "  display: contents;\n",
       "}\n",
       "\n",
       ".xr-array-wrap {\n",
       "  grid-column: 1 / -1;\n",
       "  display: grid;\n",
       "  grid-template-columns: 20px auto;\n",
       "}\n",
       "\n",
       ".xr-array-wrap > label {\n",
       "  grid-column: 1;\n",
       "  vertical-align: top;\n",
       "}\n",
       "\n",
       ".xr-preview {\n",
       "  color: var(--xr-font-color3);\n",
       "}\n",
       "\n",
       ".xr-array-preview,\n",
       ".xr-array-data {\n",
       "  padding: 0 5px !important;\n",
       "  grid-column: 2;\n",
       "}\n",
       "\n",
       ".xr-array-data,\n",
       ".xr-array-in:checked ~ .xr-array-preview {\n",
       "  display: none;\n",
       "}\n",
       "\n",
       ".xr-array-in:checked ~ .xr-array-data,\n",
       ".xr-array-preview {\n",
       "  display: inline-block;\n",
       "}\n",
       "\n",
       ".xr-dim-list {\n",
       "  display: inline-block !important;\n",
       "  list-style: none;\n",
       "  padding: 0 !important;\n",
       "  margin: 0;\n",
       "}\n",
       "\n",
       ".xr-dim-list li {\n",
       "  display: inline-block;\n",
       "  padding: 0;\n",
       "  margin: 0;\n",
       "}\n",
       "\n",
       ".xr-dim-list:before {\n",
       "  content: '(';\n",
       "}\n",
       "\n",
       ".xr-dim-list:after {\n",
       "  content: ')';\n",
       "}\n",
       "\n",
       ".xr-dim-list li:not(:last-child):after {\n",
       "  content: ',';\n",
       "  padding-right: 5px;\n",
       "}\n",
       "\n",
       ".xr-has-index {\n",
       "  font-weight: bold;\n",
       "}\n",
       "\n",
       ".xr-var-list,\n",
       ".xr-var-item {\n",
       "  display: contents;\n",
       "}\n",
       "\n",
       ".xr-var-item > div,\n",
       ".xr-var-item label,\n",
       ".xr-var-item > .xr-var-name span {\n",
       "  background-color: var(--xr-background-color-row-even);\n",
       "  margin-bottom: 0;\n",
       "}\n",
       "\n",
       ".xr-var-item > .xr-var-name:hover span {\n",
       "  padding-right: 5px;\n",
       "}\n",
       "\n",
       ".xr-var-list > li:nth-child(odd) > div,\n",
       ".xr-var-list > li:nth-child(odd) > label,\n",
       ".xr-var-list > li:nth-child(odd) > .xr-var-name span {\n",
       "  background-color: var(--xr-background-color-row-odd);\n",
       "}\n",
       "\n",
       ".xr-var-name {\n",
       "  grid-column: 1;\n",
       "}\n",
       "\n",
       ".xr-var-dims {\n",
       "  grid-column: 2;\n",
       "}\n",
       "\n",
       ".xr-var-dtype {\n",
       "  grid-column: 3;\n",
       "  text-align: right;\n",
       "  color: var(--xr-font-color2);\n",
       "}\n",
       "\n",
       ".xr-var-preview {\n",
       "  grid-column: 4;\n",
       "}\n",
       "\n",
       ".xr-var-name,\n",
       ".xr-var-dims,\n",
       ".xr-var-dtype,\n",
       ".xr-preview,\n",
       ".xr-attrs dt {\n",
       "  white-space: nowrap;\n",
       "  overflow: hidden;\n",
       "  text-overflow: ellipsis;\n",
       "  padding-right: 10px;\n",
       "}\n",
       "\n",
       ".xr-var-name:hover,\n",
       ".xr-var-dims:hover,\n",
       ".xr-var-dtype:hover,\n",
       ".xr-attrs dt:hover {\n",
       "  overflow: visible;\n",
       "  width: auto;\n",
       "  z-index: 1;\n",
       "}\n",
       "\n",
       ".xr-var-attrs,\n",
       ".xr-var-data {\n",
       "  display: none;\n",
       "  background-color: var(--xr-background-color) !important;\n",
       "  padding-bottom: 5px !important;\n",
       "}\n",
       "\n",
       ".xr-var-attrs-in:checked ~ .xr-var-attrs,\n",
       ".xr-var-data-in:checked ~ .xr-var-data {\n",
       "  display: block;\n",
       "}\n",
       "\n",
       ".xr-var-data > table {\n",
       "  float: right;\n",
       "}\n",
       "\n",
       ".xr-var-name span,\n",
       ".xr-var-data,\n",
       ".xr-attrs {\n",
       "  padding-left: 25px !important;\n",
       "}\n",
       "\n",
       ".xr-attrs,\n",
       ".xr-var-attrs,\n",
       ".xr-var-data {\n",
       "  grid-column: 1 / -1;\n",
       "}\n",
       "\n",
       "dl.xr-attrs {\n",
       "  padding: 0;\n",
       "  margin: 0;\n",
       "  display: grid;\n",
       "  grid-template-columns: 125px auto;\n",
       "}\n",
       "\n",
       ".xr-attrs dt,\n",
       ".xr-attrs dd {\n",
       "  padding: 0;\n",
       "  margin: 0;\n",
       "  float: left;\n",
       "  padding-right: 10px;\n",
       "  width: auto;\n",
       "}\n",
       "\n",
       ".xr-attrs dt {\n",
       "  font-weight: normal;\n",
       "  grid-column: 1;\n",
       "}\n",
       "\n",
       ".xr-attrs dt:hover span {\n",
       "  display: inline-block;\n",
       "  background: var(--xr-background-color);\n",
       "  padding-right: 10px;\n",
       "}\n",
       "\n",
       ".xr-attrs dd {\n",
       "  grid-column: 2;\n",
       "  white-space: pre-wrap;\n",
       "  word-break: break-all;\n",
       "}\n",
       "\n",
       ".xr-icon-database,\n",
       ".xr-icon-file-text2 {\n",
       "  display: inline-block;\n",
       "  vertical-align: middle;\n",
       "  width: 1em;\n",
       "  height: 1.5em !important;\n",
       "  stroke-width: 0;\n",
       "  stroke: currentColor;\n",
       "  fill: currentColor;\n",
       "}\n",
       "</style><pre class='xr-text-repr-fallback'>&lt;xarray.DataArray &#x27;efficiency&#x27; (example: 828)&gt;\n",
       "array([0.93634508, 0.94073517, 0.93397856, 0.94087861, 0.96708582,\n",
       "       0.93978808, 0.94144863, 0.9440412 , 0.93999185, 0.9444642 ,\n",
       "       0.93902006, 0.93292982, 0.95541725, 0.94655333, 0.94959765,\n",
       "       0.96236572, 0.93794588, 0.97044898, 0.94191684, 0.93140438,\n",
       "       0.94182176, 0.93773129, 0.93844786, 0.94372538, 0.96450656,\n",
       "       0.91860351, 0.92749926, 0.9644661 , 0.92560723, 0.91464219,\n",
       "       0.91980921, 0.91560908, 0.92317808, 0.91527157, 0.95748511,\n",
       "       0.91995249, 0.91459299, 0.93652939, 0.91435256, 0.93195804,\n",
       "       0.95830163, 0.92027033, 0.92381358, 0.91623496, 0.91732674,\n",
       "       0.94879453, 0.94130339, 0.93414663, 0.94082183, 0.20452073,\n",
       "       0.24483407, 0.24733944, 0.274901  , 0.25657575, 0.35928997,\n",
       "       0.40469877, 0.33157915, 0.56510445, 0.64068627, 0.49156848,\n",
       "       0.3392313 , 0.23477205, 0.51061333, 0.20371997, 0.32882294,\n",
       "       0.64068627, 0.30107978, 0.80142102, 0.60621166, 0.55657997,\n",
       "       0.48477065, 0.3327226 , 0.30079574, 0.4739503 , 0.76761768,\n",
       "       0.26099793, 0.34020295, 0.19030568, 0.20138009, 0.92559945,\n",
       "       0.61747723, 0.76746775, 0.87980325, 0.89725719, 0.68922975,\n",
       "       0.86306203, 0.73616353, 0.80885079, 0.7577523 , 0.74522392,\n",
       "       0.62731333, 0.91169932, 0.89165852, 0.85495579, 0.76320354,\n",
       "       0.85280351, 0.75935705, 0.71020961, 0.78084483, 0.76158048,\n",
       "...\n",
       "       0.52900575, 0.51996237, 0.53917602, 0.53827239, 0.55140017,\n",
       "       0.55112002, 0.57575629, 0.57384789, 0.55882378, 0.5618685 ,\n",
       "       0.5618685 , 0.56313939, 0.00172021, 0.09567555, 0.06805306,\n",
       "       0.20839061, 0.36957651, 0.3679375 , 0.15030809, 0.08232826,\n",
       "       0.33846799, 0.14287074, 0.14287074, 0.08362225, 0.10104381,\n",
       "       0.14709086, 0.11912562, 0.13485195, 0.13485195, 0.10116278,\n",
       "       0.17578448, 0.27650867, 0.27650867, 0.27670776, 0.32767952,\n",
       "       0.25889057, 0.23148237, 0.59795172, 0.16852099, 0.34787436,\n",
       "       0.3252899 , 0.2501968 , 0.02643878, 0.02643878, 0.15281185,\n",
       "       0.35233446, 0.52420821, 0.52420821, 0.3175898 , 0.23912438,\n",
       "       0.2978263 , 0.2978263 , 0.52093181, 0.34248868, 0.6291362 ,\n",
       "       0.32511953, 0.32511953, 0.24822191, 0.09594708, 0.09594708,\n",
       "       0.31471625, 0.34248868, 0.34373538, 0.18644577, 0.60737433,\n",
       "       0.70293246, 0.19462032, 0.47807435, 0.0461623 , 0.0461623 ,\n",
       "       0.74250433, 0.74250433, 0.54743344, 0.31857442, 0.50115829,\n",
       "       0.31714434, 0.40256954, 0.42517629, 0.72842234, 0.72842234,\n",
       "       0.4069169 , 0.3951967 , 0.66188105, 0.3290803 , 0.55182329,\n",
       "       0.49102309, 0.31791649, 0.35611494, 0.3792893 , 0.53302105,\n",
       "       0.72868019, 0.37944277, 0.31791649, 0.55182329, 0.30793532,\n",
       "       0.3789261 , 0.48222757, 0.6048753 ])\n",
       "Coordinates:\n",
       "    wavelength  (example) float64 1.1e+03 1.1e+03 1.1e+03 ... 900.0 900.0 900.0\n",
       "    efficiency  (example) float64 0.9363 0.9407 0.934 ... 0.3789 0.4822 0.6049\n",
       "    task_id     (example) int32 11 12 15 17 18 19 20 23 ... 47 48 49 5 50 6 7 8\n",
       "    angle       (example) float64 35.0 35.0 35.0 35.0 ... 85.0 85.0 85.0 85.0\n",
       "Dimensions without coordinates: example</pre><div class='xr-wrap' hidden><div class='xr-header'><div class='xr-obj-type'>xarray.DataArray</div><div class='xr-array-name'>'efficiency'</div><ul class='xr-dim-list'><li><span>example</span>: 828</li></ul></div><ul class='xr-sections'><li class='xr-section-item'><div class='xr-array-wrap'><input id='section-decf8cbd-c1b0-4ff7-a795-723ef104dd1c' class='xr-array-in' type='checkbox' checked><label for='section-decf8cbd-c1b0-4ff7-a795-723ef104dd1c' title='Show/hide data repr'><svg class='icon xr-icon-database'><use xlink:href='#icon-database'></use></svg></label><div class='xr-array-preview xr-preview'><span>0.9363 0.9407 0.934 0.9409 0.9671 ... 0.3079 0.3789 0.4822 0.6049</span></div><div class='xr-array-data'><pre>array([0.93634508, 0.94073517, 0.93397856, 0.94087861, 0.96708582,\n",
       "       0.93978808, 0.94144863, 0.9440412 , 0.93999185, 0.9444642 ,\n",
       "       0.93902006, 0.93292982, 0.95541725, 0.94655333, 0.94959765,\n",
       "       0.96236572, 0.93794588, 0.97044898, 0.94191684, 0.93140438,\n",
       "       0.94182176, 0.93773129, 0.93844786, 0.94372538, 0.96450656,\n",
       "       0.91860351, 0.92749926, 0.9644661 , 0.92560723, 0.91464219,\n",
       "       0.91980921, 0.91560908, 0.92317808, 0.91527157, 0.95748511,\n",
       "       0.91995249, 0.91459299, 0.93652939, 0.91435256, 0.93195804,\n",
       "       0.95830163, 0.92027033, 0.92381358, 0.91623496, 0.91732674,\n",
       "       0.94879453, 0.94130339, 0.93414663, 0.94082183, 0.20452073,\n",
       "       0.24483407, 0.24733944, 0.274901  , 0.25657575, 0.35928997,\n",
       "       0.40469877, 0.33157915, 0.56510445, 0.64068627, 0.49156848,\n",
       "       0.3392313 , 0.23477205, 0.51061333, 0.20371997, 0.32882294,\n",
       "       0.64068627, 0.30107978, 0.80142102, 0.60621166, 0.55657997,\n",
       "       0.48477065, 0.3327226 , 0.30079574, 0.4739503 , 0.76761768,\n",
       "       0.26099793, 0.34020295, 0.19030568, 0.20138009, 0.92559945,\n",
       "       0.61747723, 0.76746775, 0.87980325, 0.89725719, 0.68922975,\n",
       "       0.86306203, 0.73616353, 0.80885079, 0.7577523 , 0.74522392,\n",
       "       0.62731333, 0.91169932, 0.89165852, 0.85495579, 0.76320354,\n",
       "       0.85280351, 0.75935705, 0.71020961, 0.78084483, 0.76158048,\n",
       "...\n",
       "       0.52900575, 0.51996237, 0.53917602, 0.53827239, 0.55140017,\n",
       "       0.55112002, 0.57575629, 0.57384789, 0.55882378, 0.5618685 ,\n",
       "       0.5618685 , 0.56313939, 0.00172021, 0.09567555, 0.06805306,\n",
       "       0.20839061, 0.36957651, 0.3679375 , 0.15030809, 0.08232826,\n",
       "       0.33846799, 0.14287074, 0.14287074, 0.08362225, 0.10104381,\n",
       "       0.14709086, 0.11912562, 0.13485195, 0.13485195, 0.10116278,\n",
       "       0.17578448, 0.27650867, 0.27650867, 0.27670776, 0.32767952,\n",
       "       0.25889057, 0.23148237, 0.59795172, 0.16852099, 0.34787436,\n",
       "       0.3252899 , 0.2501968 , 0.02643878, 0.02643878, 0.15281185,\n",
       "       0.35233446, 0.52420821, 0.52420821, 0.3175898 , 0.23912438,\n",
       "       0.2978263 , 0.2978263 , 0.52093181, 0.34248868, 0.6291362 ,\n",
       "       0.32511953, 0.32511953, 0.24822191, 0.09594708, 0.09594708,\n",
       "       0.31471625, 0.34248868, 0.34373538, 0.18644577, 0.60737433,\n",
       "       0.70293246, 0.19462032, 0.47807435, 0.0461623 , 0.0461623 ,\n",
       "       0.74250433, 0.74250433, 0.54743344, 0.31857442, 0.50115829,\n",
       "       0.31714434, 0.40256954, 0.42517629, 0.72842234, 0.72842234,\n",
       "       0.4069169 , 0.3951967 , 0.66188105, 0.3290803 , 0.55182329,\n",
       "       0.49102309, 0.31791649, 0.35611494, 0.3792893 , 0.53302105,\n",
       "       0.72868019, 0.37944277, 0.31791649, 0.55182329, 0.30793532,\n",
       "       0.3789261 , 0.48222757, 0.6048753 ])</pre></div></div></li><li class='xr-section-item'><input id='section-444b7ede-8b54-4e86-ba6a-014c2d6f8d01' class='xr-section-summary-in' type='checkbox'  checked><label for='section-444b7ede-8b54-4e86-ba6a-014c2d6f8d01' class='xr-section-summary' >Coordinates: <span>(4)</span></label><div class='xr-section-inline-details'></div><div class='xr-section-details'><ul class='xr-var-list'><li class='xr-var-item'><div class='xr-var-name'><span>wavelength</span></div><div class='xr-var-dims'>(example)</div><div class='xr-var-dtype'>float64</div><div class='xr-var-preview xr-preview'>1.1e+03 1.1e+03 ... 900.0 900.0</div><input id='attrs-c0450b03-834e-4628-a570-7c545bbfea41' class='xr-var-attrs-in' type='checkbox' disabled><label for='attrs-c0450b03-834e-4628-a570-7c545bbfea41' title='Show/Hide attributes'><svg class='icon xr-icon-file-text2'><use xlink:href='#icon-file-text2'></use></svg></label><input id='data-60088b36-cceb-4cec-9bcd-c9613a30e499' class='xr-var-data-in' type='checkbox'><label for='data-60088b36-cceb-4cec-9bcd-c9613a30e499' title='Show/Hide data repr'><svg class='icon xr-icon-database'><use xlink:href='#icon-database'></use></svg></label><div class='xr-var-attrs'><dl class='xr-attrs'></dl></div><div class='xr-var-data'><pre>array([1100., 1100., 1100., 1100., 1100., 1100., 1100., 1100., 1100.,\n",
       "       1100., 1100., 1100., 1100., 1100., 1100., 1100., 1100., 1100.,\n",
       "       1100., 1100., 1100., 1100., 1100., 1100., 1100., 1300., 1300.,\n",
       "       1300., 1300., 1300., 1300., 1300., 1300., 1300., 1300., 1300.,\n",
       "       1300., 1300., 1300., 1300., 1300., 1300., 1300., 1300., 1300.,\n",
       "       1300., 1300., 1300., 1300.,  500.,  500.,  500.,  500.,  500.,\n",
       "        500.,  500.,  500.,  500.,  500.,  500.,  500.,  500.,  500.,\n",
       "        500.,  500.,  500.,  500.,  500.,  500.,  500.,  500.,  500.,\n",
       "        500.,  500.,  500.,  500.,  500.,  500.,  500.,  700.,  700.,\n",
       "        700.,  700.,  700.,  700.,  700.,  700.,  700.,  700.,  700.,\n",
       "        700.,  700.,  700.,  700.,  700.,  700.,  700.,  700.,  700.,\n",
       "        700.,  700.,  700.,  700.,  700.,  700.,  700.,  700.,  700.,\n",
       "        700.,  900.,  900.,  900.,  900.,  900.,  900.,  900.,  900.,\n",
       "        900.,  900.,  900.,  900.,  900.,  900.,  900.,  900.,  900.,\n",
       "        900.,  900.,  900.,  900.,  900.,  900.,  900.,  900.,  900.,\n",
       "        900.,  900.,  900., 1100., 1100., 1100., 1100., 1100., 1100.,\n",
       "       1100., 1100., 1100., 1100., 1100., 1100., 1100., 1100., 1100.,\n",
       "       1100., 1100., 1100., 1100., 1100., 1100., 1100., 1100., 1100.,\n",
       "       1100., 1100., 1300., 1300., 1300., 1300., 1300., 1300., 1300.,\n",
       "       1300., 1300., 1300., 1300., 1300., 1300., 1300., 1300., 1300.,\n",
       "...\n",
       "        700.,  700.,  700.,  700.,  700.,  700.,  700.,  700.,  700.,\n",
       "        700.,  700.,  700.,  700.,  700.,  700.,  900.,  900.,  900.,\n",
       "        900.,  900.,  900.,  900.,  900.,  900.,  900.,  900.,  900.,\n",
       "        900.,  900.,  900.,  900.,  900.,  900.,  900.,  900.,  900.,\n",
       "        900.,  900.,  900.,  900.,  900.,  900., 1100., 1100., 1100.,\n",
       "       1100., 1100., 1100., 1100., 1100., 1100., 1100., 1100., 1100.,\n",
       "       1100., 1100., 1100., 1100., 1100., 1100., 1100., 1100., 1100.,\n",
       "       1100., 1100., 1100., 1100., 1100., 1300., 1300., 1300., 1300.,\n",
       "       1300., 1300., 1300., 1300., 1300., 1300., 1300., 1300., 1300.,\n",
       "       1300., 1300., 1300., 1300., 1300., 1300., 1300., 1300., 1300.,\n",
       "       1300., 1300., 1300., 1300.,  500.,  500.,  500.,  500.,  500.,\n",
       "        500.,  500.,  500.,  500.,  500.,  500.,  500.,  500.,  500.,\n",
       "        500.,  500.,  500.,  500.,  500.,  700.,  700.,  700.,  700.,\n",
       "        700.,  700.,  700.,  700.,  700.,  700.,  700.,  700.,  700.,\n",
       "        700.,  700.,  700.,  700.,  700.,  700.,  700.,  700.,  700.,\n",
       "        700.,  700.,  700.,  700.,  700.,  700.,  700.,  700.,  700.,\n",
       "        700.,  700.,  900.,  900.,  900.,  900.,  900.,  900.,  900.,\n",
       "        900.,  900.,  900.,  900.,  900.,  900.,  900.,  900.,  900.,\n",
       "        900.,  900.,  900.,  900.,  900.,  900.,  900.,  900.,  900.,\n",
       "        900.,  900.,  900.,  900.,  900.,  900.,  900.,  900.,  900.])</pre></div></li><li class='xr-var-item'><div class='xr-var-name'><span>efficiency</span></div><div class='xr-var-dims'>(example)</div><div class='xr-var-dtype'>float64</div><div class='xr-var-preview xr-preview'>0.9363 0.9407 ... 0.4822 0.6049</div><input id='attrs-16d637cc-0043-4ce4-9241-d131164430d3' class='xr-var-attrs-in' type='checkbox' disabled><label for='attrs-16d637cc-0043-4ce4-9241-d131164430d3' title='Show/Hide attributes'><svg class='icon xr-icon-file-text2'><use xlink:href='#icon-file-text2'></use></svg></label><input id='data-ae9a8bd0-6eef-4c97-8f7e-c6ecfb1796e4' class='xr-var-data-in' type='checkbox'><label for='data-ae9a8bd0-6eef-4c97-8f7e-c6ecfb1796e4' title='Show/Hide data repr'><svg class='icon xr-icon-database'><use xlink:href='#icon-database'></use></svg></label><div class='xr-var-attrs'><dl class='xr-attrs'></dl></div><div class='xr-var-data'><pre>array([0.93634508, 0.94073517, 0.93397856, 0.94087861, 0.96708582,\n",
       "       0.93978808, 0.94144863, 0.9440412 , 0.93999185, 0.9444642 ,\n",
       "       0.93902006, 0.93292982, 0.95541725, 0.94655333, 0.94959765,\n",
       "       0.96236572, 0.93794588, 0.97044898, 0.94191684, 0.93140438,\n",
       "       0.94182176, 0.93773129, 0.93844786, 0.94372538, 0.96450656,\n",
       "       0.91860351, 0.92749926, 0.9644661 , 0.92560723, 0.91464219,\n",
       "       0.91980921, 0.91560908, 0.92317808, 0.91527157, 0.95748511,\n",
       "       0.91995249, 0.91459299, 0.93652939, 0.91435256, 0.93195804,\n",
       "       0.95830163, 0.92027033, 0.92381358, 0.91623496, 0.91732674,\n",
       "       0.94879453, 0.94130339, 0.93414663, 0.94082183, 0.20452073,\n",
       "       0.24483407, 0.24733944, 0.274901  , 0.25657575, 0.35928997,\n",
       "       0.40469877, 0.33157915, 0.56510445, 0.64068627, 0.49156848,\n",
       "       0.3392313 , 0.23477205, 0.51061333, 0.20371997, 0.32882294,\n",
       "       0.64068627, 0.30107978, 0.80142102, 0.60621166, 0.55657997,\n",
       "       0.48477065, 0.3327226 , 0.30079574, 0.4739503 , 0.76761768,\n",
       "       0.26099793, 0.34020295, 0.19030568, 0.20138009, 0.92559945,\n",
       "       0.61747723, 0.76746775, 0.87980325, 0.89725719, 0.68922975,\n",
       "       0.86306203, 0.73616353, 0.80885079, 0.7577523 , 0.74522392,\n",
       "       0.62731333, 0.91169932, 0.89165852, 0.85495579, 0.76320354,\n",
       "       0.85280351, 0.75935705, 0.71020961, 0.78084483, 0.76158048,\n",
       "...\n",
       "       0.52900575, 0.51996237, 0.53917602, 0.53827239, 0.55140017,\n",
       "       0.55112002, 0.57575629, 0.57384789, 0.55882378, 0.5618685 ,\n",
       "       0.5618685 , 0.56313939, 0.00172021, 0.09567555, 0.06805306,\n",
       "       0.20839061, 0.36957651, 0.3679375 , 0.15030809, 0.08232826,\n",
       "       0.33846799, 0.14287074, 0.14287074, 0.08362225, 0.10104381,\n",
       "       0.14709086, 0.11912562, 0.13485195, 0.13485195, 0.10116278,\n",
       "       0.17578448, 0.27650867, 0.27650867, 0.27670776, 0.32767952,\n",
       "       0.25889057, 0.23148237, 0.59795172, 0.16852099, 0.34787436,\n",
       "       0.3252899 , 0.2501968 , 0.02643878, 0.02643878, 0.15281185,\n",
       "       0.35233446, 0.52420821, 0.52420821, 0.3175898 , 0.23912438,\n",
       "       0.2978263 , 0.2978263 , 0.52093181, 0.34248868, 0.6291362 ,\n",
       "       0.32511953, 0.32511953, 0.24822191, 0.09594708, 0.09594708,\n",
       "       0.31471625, 0.34248868, 0.34373538, 0.18644577, 0.60737433,\n",
       "       0.70293246, 0.19462032, 0.47807435, 0.0461623 , 0.0461623 ,\n",
       "       0.74250433, 0.74250433, 0.54743344, 0.31857442, 0.50115829,\n",
       "       0.31714434, 0.40256954, 0.42517629, 0.72842234, 0.72842234,\n",
       "       0.4069169 , 0.3951967 , 0.66188105, 0.3290803 , 0.55182329,\n",
       "       0.49102309, 0.31791649, 0.35611494, 0.3792893 , 0.53302105,\n",
       "       0.72868019, 0.37944277, 0.31791649, 0.55182329, 0.30793532,\n",
       "       0.3789261 , 0.48222757, 0.6048753 ])</pre></div></li><li class='xr-var-item'><div class='xr-var-name'><span>task_id</span></div><div class='xr-var-dims'>(example)</div><div class='xr-var-dtype'>int32</div><div class='xr-var-preview xr-preview'>11 12 15 17 18 19 ... 49 5 50 6 7 8</div><input id='attrs-fb11ef9d-8d9c-420b-bbf7-33eef7de9335' class='xr-var-attrs-in' type='checkbox' disabled><label for='attrs-fb11ef9d-8d9c-420b-bbf7-33eef7de9335' title='Show/Hide attributes'><svg class='icon xr-icon-file-text2'><use xlink:href='#icon-file-text2'></use></svg></label><input id='data-5c8db822-1d18-4a53-b64b-5c94d73deb9b' class='xr-var-data-in' type='checkbox'><label for='data-5c8db822-1d18-4a53-b64b-5c94d73deb9b' title='Show/Hide data repr'><svg class='icon xr-icon-database'><use xlink:href='#icon-database'></use></svg></label><div class='xr-var-attrs'><dl class='xr-attrs'></dl></div><div class='xr-var-data'><pre>array([11, 12, 15, 17, 18, 19, 20, 23, 25, 28, 31, 34, 37, 38,  4, 40, 42,\n",
       "       43, 44, 45, 46, 48,  5, 50,  7,  1, 11, 14, 15, 18,  2, 22, 23, 24,\n",
       "       27, 28, 29, 30, 31, 32, 37, 39, 42, 44, 46,  5,  6,  7,  9,  1, 10,\n",
       "       11, 13, 16, 18, 19, 21, 22, 23, 25, 26, 27, 28,  3, 30, 31, 32, 33,\n",
       "       36, 39, 40, 41, 43, 46, 47, 49,  6,  8,  9, 10, 11, 12, 13, 14, 16,\n",
       "       17, 20, 21, 22, 24, 27, 28,  3, 30, 31, 32, 33, 34, 37, 38,  4, 40,\n",
       "       42, 43, 45, 47, 48,  8,  9,  1, 10, 11, 13, 15, 18, 20, 21, 23, 24,\n",
       "       26, 27, 29,  3, 32, 35, 38, 39,  4, 40, 44, 45, 46, 48, 49,  5, 50,\n",
       "        6,  8, 10, 11, 12, 14, 15, 16, 18, 19, 20, 21, 24, 26, 27, 28,  3,\n",
       "       31, 32, 33, 34, 37, 45, 46, 47, 48,  5, 50,  1, 11, 13, 14, 15, 16,\n",
       "       17, 18,  2, 20, 23, 29, 30, 33, 34, 35, 38, 39, 45, 46, 47, 48, 50,\n",
       "        1, 10, 13, 14, 15, 16, 17, 18,  2, 20, 21, 22, 23, 24, 25, 26, 27,\n",
       "       28, 29,  3, 32, 35, 37,  4, 41, 42, 43, 44, 47, 48, 49,  5, 50,  6,\n",
       "        7,  9, 10, 11, 15, 16, 17, 18,  2, 27, 28, 29,  3, 30, 31, 33, 35,\n",
       "       36, 37, 38, 39, 40, 41, 43, 45, 46, 47,  7,  9,  1, 10, 12, 13, 14,\n",
       "       15, 17, 19, 21, 24, 25, 26,  3, 30, 31, 32, 33, 34, 35, 38, 39,  4,\n",
       "       40, 42, 44, 48,  5, 50,  9, 13, 14, 15, 16, 17, 18, 19, 20, 23, 24,\n",
       "       27, 29, 31, 34, 35, 39, 40, 41, 42, 43, 45, 47, 49, 50,  6,  7,  8,\n",
       "        1, 12, 13, 14, 15, 16, 17, 19, 23, 29, 31, 32, 33, 34, 35, 39,  4,\n",
       "       40, 41, 44, 46, 47, 48,  5,  1, 10, 11, 12, 13, 14, 15, 16, 17, 18,\n",
       "...\n",
       "       14, 15, 16, 19,  2, 20, 22, 23, 24, 25, 26, 27, 28, 29,  3, 31, 32,\n",
       "       33, 34, 35, 36, 37, 38, 39, 40, 43, 44, 47, 48,  7, 11, 12, 13, 14,\n",
       "       15, 17, 19, 20, 22, 23, 24, 25, 26, 27, 29,  3, 30, 31, 32, 33, 34,\n",
       "       36, 41, 42, 43, 44, 47, 48, 49,  5, 50,  6,  8,  9, 13, 14, 15, 16,\n",
       "        2, 21, 24, 25, 26, 27, 29,  3, 30, 31, 36, 38, 39, 40, 43, 44, 46,\n",
       "       48, 49,  5, 50,  6,  8,  1, 10, 11, 14, 17, 18, 22, 23, 25, 33, 34,\n",
       "       36, 37, 38, 40, 41, 42, 43, 44, 46, 48, 50,  6,  8,  1, 13, 14, 17,\n",
       "       18,  2, 20, 25, 26, 27,  3, 30, 32, 33, 34, 35, 36, 38, 39, 40, 41,\n",
       "       42, 43, 48, 50,  8,  9,  1, 10, 12, 16, 18, 19, 21, 22, 23, 27, 29,\n",
       "        3, 30, 31, 32, 33, 36, 37, 38, 39,  4, 43, 46, 48, 49,  5,  6,  8,\n",
       "        1, 10, 13, 17, 18, 19, 21, 22, 23, 26, 27, 28, 29, 30, 32, 33, 36,\n",
       "       39, 40, 42, 43, 44,  5, 50,  6,  7,  8, 11, 12, 13, 14, 15, 16, 17,\n",
       "       18, 21, 23, 24, 26, 27, 28, 29, 30, 34, 37, 38, 41, 43, 44, 45, 47,\n",
       "       49, 50,  1, 10, 11, 12, 13, 15,  2, 22, 27, 28,  3, 32, 33, 34, 35,\n",
       "       36, 38, 39,  4, 40, 41, 42, 47, 48, 50,  8, 14, 18, 20, 21, 25, 27,\n",
       "        3, 31, 34, 36, 37, 38, 39,  4, 40, 44, 45,  6,  8, 12, 13, 14, 15,\n",
       "       17,  2, 21, 22, 23, 24, 25, 26, 27, 28, 29, 32, 33, 34, 35, 36, 37,\n",
       "       38,  4, 40, 41, 42, 44, 46, 47, 48,  5,  7,  8,  1, 12, 14, 15, 16,\n",
       "       17, 18, 19, 20, 22, 26,  3, 30, 31, 32, 33, 34, 35, 37, 38,  4, 40,\n",
       "       41, 43, 44, 45, 47, 48, 49,  5, 50,  6,  7,  8], dtype=int32)</pre></div></li><li class='xr-var-item'><div class='xr-var-name'><span>angle</span></div><div class='xr-var-dims'>(example)</div><div class='xr-var-dtype'>float64</div><div class='xr-var-preview xr-preview'>35.0 35.0 35.0 ... 85.0 85.0 85.0</div><input id='attrs-100859de-4aed-4903-95ad-d6229285547e' class='xr-var-attrs-in' type='checkbox' disabled><label for='attrs-100859de-4aed-4903-95ad-d6229285547e' title='Show/Hide attributes'><svg class='icon xr-icon-file-text2'><use xlink:href='#icon-file-text2'></use></svg></label><input id='data-34b5c787-8048-4498-aa47-7b0000811413' class='xr-var-data-in' type='checkbox'><label for='data-34b5c787-8048-4498-aa47-7b0000811413' title='Show/Hide data repr'><svg class='icon xr-icon-database'><use xlink:href='#icon-database'></use></svg></label><div class='xr-var-attrs'><dl class='xr-attrs'></dl></div><div class='xr-var-data'><pre>array([35., 35., 35., 35., 35., 35., 35., 35., 35., 35., 35., 35., 35.,\n",
       "       35., 35., 35., 35., 35., 35., 35., 35., 35., 35., 35., 35., 35.,\n",
       "       35., 35., 35., 35., 35., 35., 35., 35., 35., 35., 35., 35., 35.,\n",
       "       35., 35., 35., 35., 35., 35., 35., 35., 35., 35., 35., 35., 35.,\n",
       "       35., 35., 35., 35., 35., 35., 35., 35., 35., 35., 35., 35., 35.,\n",
       "       35., 35., 35., 35., 35., 35., 35., 35., 35., 35., 35., 35., 35.,\n",
       "       35., 35., 35., 35., 35., 35., 35., 35., 35., 35., 35., 35., 35.,\n",
       "       35., 35., 35., 35., 35., 35., 35., 35., 35., 35., 35., 35., 35.,\n",
       "       35., 35., 35., 35., 35., 35., 35., 35., 35., 35., 35., 35., 35.,\n",
       "       35., 35., 35., 35., 35., 35., 35., 35., 35., 35., 35., 35., 35.,\n",
       "       35., 35., 35., 35., 35., 35., 35., 35., 45., 45., 45., 45., 45.,\n",
       "       45., 45., 45., 45., 45., 45., 45., 45., 45., 45., 45., 45., 45.,\n",
       "       45., 45., 45., 45., 45., 45., 45., 45., 45., 45., 45., 45., 45.,\n",
       "       45., 45., 45., 45., 45., 45., 45., 45., 45., 45., 45., 45., 45.,\n",
       "       45., 45., 45., 45., 45., 45., 45., 45., 45., 45., 45., 45., 45.,\n",
       "       45., 45., 45., 45., 45., 45., 45., 45., 45., 45., 45., 45., 45.,\n",
       "       45., 45., 45., 45., 45., 45., 45., 45., 45., 45., 45., 45., 45.,\n",
       "       45., 45., 45., 45., 45., 45., 45., 45., 45., 45., 45., 45., 45.,\n",
       "       45., 45., 45., 45., 45., 45., 45., 45., 45., 45., 45., 45., 45.,\n",
       "       45., 45., 45., 45., 45., 45., 45., 45., 45., 45., 45., 45., 45.,\n",
       "...\n",
       "       75., 75., 75., 75., 75., 75., 75., 75., 75., 75., 75., 75., 75.,\n",
       "       75., 75., 75., 75., 75., 75., 75., 75., 75., 75., 75., 75., 75.,\n",
       "       75., 75., 75., 75., 75., 75., 75., 75., 75., 75., 75., 75., 75.,\n",
       "       75., 75., 75., 75., 75., 75., 75., 75., 75., 75., 75., 75., 75.,\n",
       "       75., 75., 75., 75., 75., 75., 75., 75., 75., 75., 75., 75., 75.,\n",
       "       75., 75., 75., 75., 75., 75., 75., 75., 75., 75., 75., 75., 75.,\n",
       "       75., 75., 75., 75., 75., 75., 75., 75., 75., 75., 75., 75., 75.,\n",
       "       75., 75., 75., 75., 75., 75., 75., 75., 75., 75., 75., 75., 75.,\n",
       "       75., 75., 75., 75., 75., 75., 75., 75., 75., 75., 75., 75., 75.,\n",
       "       75., 85., 85., 85., 85., 85., 85., 85., 85., 85., 85., 85., 85.,\n",
       "       85., 85., 85., 85., 85., 85., 85., 85., 85., 85., 85., 85., 85.,\n",
       "       85., 85., 85., 85., 85., 85., 85., 85., 85., 85., 85., 85., 85.,\n",
       "       85., 85., 85., 85., 85., 85., 85., 85., 85., 85., 85., 85., 85.,\n",
       "       85., 85., 85., 85., 85., 85., 85., 85., 85., 85., 85., 85., 85.,\n",
       "       85., 85., 85., 85., 85., 85., 85., 85., 85., 85., 85., 85., 85.,\n",
       "       85., 85., 85., 85., 85., 85., 85., 85., 85., 85., 85., 85., 85.,\n",
       "       85., 85., 85., 85., 85., 85., 85., 85., 85., 85., 85., 85., 85.,\n",
       "       85., 85., 85., 85., 85., 85., 85., 85., 85., 85., 85., 85., 85.,\n",
       "       85., 85., 85., 85., 85., 85., 85., 85., 85., 85., 85., 85., 85.,\n",
       "       85., 85., 85., 85., 85., 85., 85., 85., 85.])</pre></div></li></ul></div></li><li class='xr-section-item'><input id='section-383a642f-aa45-430c-9226-4f6ab4560fc7' class='xr-section-summary-in' type='checkbox' disabled ><label for='section-383a642f-aa45-430c-9226-4f6ab4560fc7' class='xr-section-summary'  title='Expand/collapse section'>Attributes: <span>(0)</span></label><div class='xr-section-inline-details'></div><div class='xr-section-details'><dl class='xr-attrs'></dl></div></li></ul></div></div>"
      ],
      "text/plain": [
       "<xarray.DataArray 'efficiency' (example: 828)>\n",
       "array([0.93634508, 0.94073517, 0.93397856, 0.94087861, 0.96708582,\n",
       "       0.93978808, 0.94144863, 0.9440412 , 0.93999185, 0.9444642 ,\n",
       "       0.93902006, 0.93292982, 0.95541725, 0.94655333, 0.94959765,\n",
       "       0.96236572, 0.93794588, 0.97044898, 0.94191684, 0.93140438,\n",
       "       0.94182176, 0.93773129, 0.93844786, 0.94372538, 0.96450656,\n",
       "       0.91860351, 0.92749926, 0.9644661 , 0.92560723, 0.91464219,\n",
       "       0.91980921, 0.91560908, 0.92317808, 0.91527157, 0.95748511,\n",
       "       0.91995249, 0.91459299, 0.93652939, 0.91435256, 0.93195804,\n",
       "       0.95830163, 0.92027033, 0.92381358, 0.91623496, 0.91732674,\n",
       "       0.94879453, 0.94130339, 0.93414663, 0.94082183, 0.20452073,\n",
       "       0.24483407, 0.24733944, 0.274901  , 0.25657575, 0.35928997,\n",
       "       0.40469877, 0.33157915, 0.56510445, 0.64068627, 0.49156848,\n",
       "       0.3392313 , 0.23477205, 0.51061333, 0.20371997, 0.32882294,\n",
       "       0.64068627, 0.30107978, 0.80142102, 0.60621166, 0.55657997,\n",
       "       0.48477065, 0.3327226 , 0.30079574, 0.4739503 , 0.76761768,\n",
       "       0.26099793, 0.34020295, 0.19030568, 0.20138009, 0.92559945,\n",
       "       0.61747723, 0.76746775, 0.87980325, 0.89725719, 0.68922975,\n",
       "       0.86306203, 0.73616353, 0.80885079, 0.7577523 , 0.74522392,\n",
       "       0.62731333, 0.91169932, 0.89165852, 0.85495579, 0.76320354,\n",
       "       0.85280351, 0.75935705, 0.71020961, 0.78084483, 0.76158048,\n",
       "...\n",
       "       0.52900575, 0.51996237, 0.53917602, 0.53827239, 0.55140017,\n",
       "       0.55112002, 0.57575629, 0.57384789, 0.55882378, 0.5618685 ,\n",
       "       0.5618685 , 0.56313939, 0.00172021, 0.09567555, 0.06805306,\n",
       "       0.20839061, 0.36957651, 0.3679375 , 0.15030809, 0.08232826,\n",
       "       0.33846799, 0.14287074, 0.14287074, 0.08362225, 0.10104381,\n",
       "       0.14709086, 0.11912562, 0.13485195, 0.13485195, 0.10116278,\n",
       "       0.17578448, 0.27650867, 0.27650867, 0.27670776, 0.32767952,\n",
       "       0.25889057, 0.23148237, 0.59795172, 0.16852099, 0.34787436,\n",
       "       0.3252899 , 0.2501968 , 0.02643878, 0.02643878, 0.15281185,\n",
       "       0.35233446, 0.52420821, 0.52420821, 0.3175898 , 0.23912438,\n",
       "       0.2978263 , 0.2978263 , 0.52093181, 0.34248868, 0.6291362 ,\n",
       "       0.32511953, 0.32511953, 0.24822191, 0.09594708, 0.09594708,\n",
       "       0.31471625, 0.34248868, 0.34373538, 0.18644577, 0.60737433,\n",
       "       0.70293246, 0.19462032, 0.47807435, 0.0461623 , 0.0461623 ,\n",
       "       0.74250433, 0.74250433, 0.54743344, 0.31857442, 0.50115829,\n",
       "       0.31714434, 0.40256954, 0.42517629, 0.72842234, 0.72842234,\n",
       "       0.4069169 , 0.3951967 , 0.66188105, 0.3290803 , 0.55182329,\n",
       "       0.49102309, 0.31791649, 0.35611494, 0.3792893 , 0.53302105,\n",
       "       0.72868019, 0.37944277, 0.31791649, 0.55182329, 0.30793532,\n",
       "       0.3789261 , 0.48222757, 0.6048753 ])\n",
       "Coordinates:\n",
       "    wavelength  (example) float64 1.1e+03 1.1e+03 1.1e+03 ... 900.0 900.0 900.0\n",
       "    efficiency  (example) float64 0.9363 0.9407 0.934 ... 0.3789 0.4822 0.6049\n",
       "    task_id     (example) int32 11 12 15 17 18 19 20 23 ... 47 48 49 5 50 6 7 8\n",
       "    angle       (example) float64 35.0 35.0 35.0 35.0 ... 85.0 85.0 85.0 85.0\n",
       "Dimensions without coordinates: example"
      ]
     },
     "execution_count": 7,
     "metadata": {},
     "output_type": "execute_result"
    }
   ],
   "source": [
    "result['efficiency']"
   ]
  },
  {
   "cell_type": "code",
   "execution_count": 8,
   "metadata": {
    "collapsed": false,
    "jupyter": {
     "outputs_hidden": false
    }
   },
   "outputs": [
    {
     "data": {
      "text/html": [
       "<div><svg style=\"position: absolute; width: 0; height: 0; overflow: hidden\">\n",
       "<defs>\n",
       "<symbol id=\"icon-database\" viewBox=\"0 0 32 32\">\n",
       "<path d=\"M16 0c-8.837 0-16 2.239-16 5v4c0 2.761 7.163 5 16 5s16-2.239 16-5v-4c0-2.761-7.163-5-16-5z\"></path>\n",
       "<path d=\"M16 17c-8.837 0-16-2.239-16-5v6c0 2.761 7.163 5 16 5s16-2.239 16-5v-6c0 2.761-7.163 5-16 5z\"></path>\n",
       "<path d=\"M16 26c-8.837 0-16-2.239-16-5v6c0 2.761 7.163 5 16 5s16-2.239 16-5v-6c0 2.761-7.163 5-16 5z\"></path>\n",
       "</symbol>\n",
       "<symbol id=\"icon-file-text2\" viewBox=\"0 0 32 32\">\n",
       "<path d=\"M28.681 7.159c-0.694-0.947-1.662-2.053-2.724-3.116s-2.169-2.030-3.116-2.724c-1.612-1.182-2.393-1.319-2.841-1.319h-15.5c-1.378 0-2.5 1.121-2.5 2.5v27c0 1.378 1.122 2.5 2.5 2.5h23c1.378 0 2.5-1.122 2.5-2.5v-19.5c0-0.448-0.137-1.23-1.319-2.841zM24.543 5.457c0.959 0.959 1.712 1.825 2.268 2.543h-4.811v-4.811c0.718 0.556 1.584 1.309 2.543 2.268zM28 29.5c0 0.271-0.229 0.5-0.5 0.5h-23c-0.271 0-0.5-0.229-0.5-0.5v-27c0-0.271 0.229-0.5 0.5-0.5 0 0 15.499-0 15.5 0v7c0 0.552 0.448 1 1 1h7v19.5z\"></path>\n",
       "<path d=\"M23 26h-14c-0.552 0-1-0.448-1-1s0.448-1 1-1h14c0.552 0 1 0.448 1 1s-0.448 1-1 1z\"></path>\n",
       "<path d=\"M23 22h-14c-0.552 0-1-0.448-1-1s0.448-1 1-1h14c0.552 0 1 0.448 1 1s-0.448 1-1 1z\"></path>\n",
       "<path d=\"M23 18h-14c-0.552 0-1-0.448-1-1s0.448-1 1-1h14c0.552 0 1 0.448 1 1s-0.448 1-1 1z\"></path>\n",
       "</symbol>\n",
       "</defs>\n",
       "</svg>\n",
       "<style>/* CSS stylesheet for displaying xarray objects in jupyterlab.\n",
       " *\n",
       " */\n",
       "\n",
       ":root {\n",
       "  --xr-font-color0: var(--jp-content-font-color0, rgba(0, 0, 0, 1));\n",
       "  --xr-font-color2: var(--jp-content-font-color2, rgba(0, 0, 0, 0.54));\n",
       "  --xr-font-color3: var(--jp-content-font-color3, rgba(0, 0, 0, 0.38));\n",
       "  --xr-border-color: var(--jp-border-color2, #e0e0e0);\n",
       "  --xr-disabled-color: var(--jp-layout-color3, #bdbdbd);\n",
       "  --xr-background-color: var(--jp-layout-color0, white);\n",
       "  --xr-background-color-row-even: var(--jp-layout-color1, white);\n",
       "  --xr-background-color-row-odd: var(--jp-layout-color2, #eeeeee);\n",
       "}\n",
       "\n",
       "html[theme=dark],\n",
       "body.vscode-dark {\n",
       "  --xr-font-color0: rgba(255, 255, 255, 1);\n",
       "  --xr-font-color2: rgba(255, 255, 255, 0.54);\n",
       "  --xr-font-color3: rgba(255, 255, 255, 0.38);\n",
       "  --xr-border-color: #1F1F1F;\n",
       "  --xr-disabled-color: #515151;\n",
       "  --xr-background-color: #111111;\n",
       "  --xr-background-color-row-even: #111111;\n",
       "  --xr-background-color-row-odd: #313131;\n",
       "}\n",
       "\n",
       ".xr-wrap {\n",
       "  display: block;\n",
       "  min-width: 300px;\n",
       "  max-width: 700px;\n",
       "}\n",
       "\n",
       ".xr-text-repr-fallback {\n",
       "  /* fallback to plain text repr when CSS is not injected (untrusted notebook) */\n",
       "  display: none;\n",
       "}\n",
       "\n",
       ".xr-header {\n",
       "  padding-top: 6px;\n",
       "  padding-bottom: 6px;\n",
       "  margin-bottom: 4px;\n",
       "  border-bottom: solid 1px var(--xr-border-color);\n",
       "}\n",
       "\n",
       ".xr-header > div,\n",
       ".xr-header > ul {\n",
       "  display: inline;\n",
       "  margin-top: 0;\n",
       "  margin-bottom: 0;\n",
       "}\n",
       "\n",
       ".xr-obj-type,\n",
       ".xr-array-name {\n",
       "  margin-left: 2px;\n",
       "  margin-right: 10px;\n",
       "}\n",
       "\n",
       ".xr-obj-type {\n",
       "  color: var(--xr-font-color2);\n",
       "}\n",
       "\n",
       ".xr-sections {\n",
       "  padding-left: 0 !important;\n",
       "  display: grid;\n",
       "  grid-template-columns: 150px auto auto 1fr 20px 20px;\n",
       "}\n",
       "\n",
       ".xr-section-item {\n",
       "  display: contents;\n",
       "}\n",
       "\n",
       ".xr-section-item input {\n",
       "  display: none;\n",
       "}\n",
       "\n",
       ".xr-section-item input + label {\n",
       "  color: var(--xr-disabled-color);\n",
       "}\n",
       "\n",
       ".xr-section-item input:enabled + label {\n",
       "  cursor: pointer;\n",
       "  color: var(--xr-font-color2);\n",
       "}\n",
       "\n",
       ".xr-section-item input:enabled + label:hover {\n",
       "  color: var(--xr-font-color0);\n",
       "}\n",
       "\n",
       ".xr-section-summary {\n",
       "  grid-column: 1;\n",
       "  color: var(--xr-font-color2);\n",
       "  font-weight: 500;\n",
       "}\n",
       "\n",
       ".xr-section-summary > span {\n",
       "  display: inline-block;\n",
       "  padding-left: 0.5em;\n",
       "}\n",
       "\n",
       ".xr-section-summary-in:disabled + label {\n",
       "  color: var(--xr-font-color2);\n",
       "}\n",
       "\n",
       ".xr-section-summary-in + label:before {\n",
       "  display: inline-block;\n",
       "  content: '►';\n",
       "  font-size: 11px;\n",
       "  width: 15px;\n",
       "  text-align: center;\n",
       "}\n",
       "\n",
       ".xr-section-summary-in:disabled + label:before {\n",
       "  color: var(--xr-disabled-color);\n",
       "}\n",
       "\n",
       ".xr-section-summary-in:checked + label:before {\n",
       "  content: '▼';\n",
       "}\n",
       "\n",
       ".xr-section-summary-in:checked + label > span {\n",
       "  display: none;\n",
       "}\n",
       "\n",
       ".xr-section-summary,\n",
       ".xr-section-inline-details {\n",
       "  padding-top: 4px;\n",
       "  padding-bottom: 4px;\n",
       "}\n",
       "\n",
       ".xr-section-inline-details {\n",
       "  grid-column: 2 / -1;\n",
       "}\n",
       "\n",
       ".xr-section-details {\n",
       "  display: none;\n",
       "  grid-column: 1 / -1;\n",
       "  margin-bottom: 5px;\n",
       "}\n",
       "\n",
       ".xr-section-summary-in:checked ~ .xr-section-details {\n",
       "  display: contents;\n",
       "}\n",
       "\n",
       ".xr-array-wrap {\n",
       "  grid-column: 1 / -1;\n",
       "  display: grid;\n",
       "  grid-template-columns: 20px auto;\n",
       "}\n",
       "\n",
       ".xr-array-wrap > label {\n",
       "  grid-column: 1;\n",
       "  vertical-align: top;\n",
       "}\n",
       "\n",
       ".xr-preview {\n",
       "  color: var(--xr-font-color3);\n",
       "}\n",
       "\n",
       ".xr-array-preview,\n",
       ".xr-array-data {\n",
       "  padding: 0 5px !important;\n",
       "  grid-column: 2;\n",
       "}\n",
       "\n",
       ".xr-array-data,\n",
       ".xr-array-in:checked ~ .xr-array-preview {\n",
       "  display: none;\n",
       "}\n",
       "\n",
       ".xr-array-in:checked ~ .xr-array-data,\n",
       ".xr-array-preview {\n",
       "  display: inline-block;\n",
       "}\n",
       "\n",
       ".xr-dim-list {\n",
       "  display: inline-block !important;\n",
       "  list-style: none;\n",
       "  padding: 0 !important;\n",
       "  margin: 0;\n",
       "}\n",
       "\n",
       ".xr-dim-list li {\n",
       "  display: inline-block;\n",
       "  padding: 0;\n",
       "  margin: 0;\n",
       "}\n",
       "\n",
       ".xr-dim-list:before {\n",
       "  content: '(';\n",
       "}\n",
       "\n",
       ".xr-dim-list:after {\n",
       "  content: ')';\n",
       "}\n",
       "\n",
       ".xr-dim-list li:not(:last-child):after {\n",
       "  content: ',';\n",
       "  padding-right: 5px;\n",
       "}\n",
       "\n",
       ".xr-has-index {\n",
       "  font-weight: bold;\n",
       "}\n",
       "\n",
       ".xr-var-list,\n",
       ".xr-var-item {\n",
       "  display: contents;\n",
       "}\n",
       "\n",
       ".xr-var-item > div,\n",
       ".xr-var-item label,\n",
       ".xr-var-item > .xr-var-name span {\n",
       "  background-color: var(--xr-background-color-row-even);\n",
       "  margin-bottom: 0;\n",
       "}\n",
       "\n",
       ".xr-var-item > .xr-var-name:hover span {\n",
       "  padding-right: 5px;\n",
       "}\n",
       "\n",
       ".xr-var-list > li:nth-child(odd) > div,\n",
       ".xr-var-list > li:nth-child(odd) > label,\n",
       ".xr-var-list > li:nth-child(odd) > .xr-var-name span {\n",
       "  background-color: var(--xr-background-color-row-odd);\n",
       "}\n",
       "\n",
       ".xr-var-name {\n",
       "  grid-column: 1;\n",
       "}\n",
       "\n",
       ".xr-var-dims {\n",
       "  grid-column: 2;\n",
       "}\n",
       "\n",
       ".xr-var-dtype {\n",
       "  grid-column: 3;\n",
       "  text-align: right;\n",
       "  color: var(--xr-font-color2);\n",
       "}\n",
       "\n",
       ".xr-var-preview {\n",
       "  grid-column: 4;\n",
       "}\n",
       "\n",
       ".xr-var-name,\n",
       ".xr-var-dims,\n",
       ".xr-var-dtype,\n",
       ".xr-preview,\n",
       ".xr-attrs dt {\n",
       "  white-space: nowrap;\n",
       "  overflow: hidden;\n",
       "  text-overflow: ellipsis;\n",
       "  padding-right: 10px;\n",
       "}\n",
       "\n",
       ".xr-var-name:hover,\n",
       ".xr-var-dims:hover,\n",
       ".xr-var-dtype:hover,\n",
       ".xr-attrs dt:hover {\n",
       "  overflow: visible;\n",
       "  width: auto;\n",
       "  z-index: 1;\n",
       "}\n",
       "\n",
       ".xr-var-attrs,\n",
       ".xr-var-data {\n",
       "  display: none;\n",
       "  background-color: var(--xr-background-color) !important;\n",
       "  padding-bottom: 5px !important;\n",
       "}\n",
       "\n",
       ".xr-var-attrs-in:checked ~ .xr-var-attrs,\n",
       ".xr-var-data-in:checked ~ .xr-var-data {\n",
       "  display: block;\n",
       "}\n",
       "\n",
       ".xr-var-data > table {\n",
       "  float: right;\n",
       "}\n",
       "\n",
       ".xr-var-name span,\n",
       ".xr-var-data,\n",
       ".xr-attrs {\n",
       "  padding-left: 25px !important;\n",
       "}\n",
       "\n",
       ".xr-attrs,\n",
       ".xr-var-attrs,\n",
       ".xr-var-data {\n",
       "  grid-column: 1 / -1;\n",
       "}\n",
       "\n",
       "dl.xr-attrs {\n",
       "  padding: 0;\n",
       "  margin: 0;\n",
       "  display: grid;\n",
       "  grid-template-columns: 125px auto;\n",
       "}\n",
       "\n",
       ".xr-attrs dt,\n",
       ".xr-attrs dd {\n",
       "  padding: 0;\n",
       "  margin: 0;\n",
       "  float: left;\n",
       "  padding-right: 10px;\n",
       "  width: auto;\n",
       "}\n",
       "\n",
       ".xr-attrs dt {\n",
       "  font-weight: normal;\n",
       "  grid-column: 1;\n",
       "}\n",
       "\n",
       ".xr-attrs dt:hover span {\n",
       "  display: inline-block;\n",
       "  background: var(--xr-background-color);\n",
       "  padding-right: 10px;\n",
       "}\n",
       "\n",
       ".xr-attrs dd {\n",
       "  grid-column: 2;\n",
       "  white-space: pre-wrap;\n",
       "  word-break: break-all;\n",
       "}\n",
       "\n",
       ".xr-icon-database,\n",
       ".xr-icon-file-text2 {\n",
       "  display: inline-block;\n",
       "  vertical-align: middle;\n",
       "  width: 1em;\n",
       "  height: 1.5em !important;\n",
       "  stroke-width: 0;\n",
       "  stroke: currentColor;\n",
       "  fill: currentColor;\n",
       "}\n",
       "</style><pre class='xr-text-repr-fallback'>&lt;xarray.DataArray &#x27;efficiency&#x27; ()&gt;\n",
       "array(0.93634508)\n",
       "Coordinates:\n",
       "    wavelength  float64 1.1e+03\n",
       "    efficiency  float64 0.9363\n",
       "    task_id     int32 11\n",
       "    angle       float64 35.0</pre><div class='xr-wrap' hidden><div class='xr-header'><div class='xr-obj-type'>xarray.DataArray</div><div class='xr-array-name'>'efficiency'</div></div><ul class='xr-sections'><li class='xr-section-item'><div class='xr-array-wrap'><input id='section-c43a8af6-fc7e-407a-b383-0ea6875ceab4' class='xr-array-in' type='checkbox' checked><label for='section-c43a8af6-fc7e-407a-b383-0ea6875ceab4' title='Show/hide data repr'><svg class='icon xr-icon-database'><use xlink:href='#icon-database'></use></svg></label><div class='xr-array-preview xr-preview'><span>0.9363</span></div><div class='xr-array-data'><pre>array(0.93634508)</pre></div></div></li><li class='xr-section-item'><input id='section-fd01a9d9-d1d3-4bf3-883f-80220b066e08' class='xr-section-summary-in' type='checkbox'  checked><label for='section-fd01a9d9-d1d3-4bf3-883f-80220b066e08' class='xr-section-summary' >Coordinates: <span>(4)</span></label><div class='xr-section-inline-details'></div><div class='xr-section-details'><ul class='xr-var-list'><li class='xr-var-item'><div class='xr-var-name'><span>wavelength</span></div><div class='xr-var-dims'>()</div><div class='xr-var-dtype'>float64</div><div class='xr-var-preview xr-preview'>1.1e+03</div><input id='attrs-708623be-55b4-403d-a01c-03accfae8c5d' class='xr-var-attrs-in' type='checkbox' disabled><label for='attrs-708623be-55b4-403d-a01c-03accfae8c5d' title='Show/Hide attributes'><svg class='icon xr-icon-file-text2'><use xlink:href='#icon-file-text2'></use></svg></label><input id='data-7c68c2a2-5f83-495a-8ce3-006255ca2ec4' class='xr-var-data-in' type='checkbox'><label for='data-7c68c2a2-5f83-495a-8ce3-006255ca2ec4' title='Show/Hide data repr'><svg class='icon xr-icon-database'><use xlink:href='#icon-database'></use></svg></label><div class='xr-var-attrs'><dl class='xr-attrs'></dl></div><div class='xr-var-data'><pre>array(1100.)</pre></div></li><li class='xr-var-item'><div class='xr-var-name'><span>efficiency</span></div><div class='xr-var-dims'>()</div><div class='xr-var-dtype'>float64</div><div class='xr-var-preview xr-preview'>0.9363</div><input id='attrs-777f4d48-74e0-4be5-aed1-c3d49263536d' class='xr-var-attrs-in' type='checkbox' disabled><label for='attrs-777f4d48-74e0-4be5-aed1-c3d49263536d' title='Show/Hide attributes'><svg class='icon xr-icon-file-text2'><use xlink:href='#icon-file-text2'></use></svg></label><input id='data-0220522e-32f5-48e1-8e20-e0ac85f2477f' class='xr-var-data-in' type='checkbox'><label for='data-0220522e-32f5-48e1-8e20-e0ac85f2477f' title='Show/Hide data repr'><svg class='icon xr-icon-database'><use xlink:href='#icon-database'></use></svg></label><div class='xr-var-attrs'><dl class='xr-attrs'></dl></div><div class='xr-var-data'><pre>array(0.93634508)</pre></div></li><li class='xr-var-item'><div class='xr-var-name'><span>task_id</span></div><div class='xr-var-dims'>()</div><div class='xr-var-dtype'>int32</div><div class='xr-var-preview xr-preview'>11</div><input id='attrs-b4eae536-6f46-478a-9c25-03e6a0b4fefe' class='xr-var-attrs-in' type='checkbox' disabled><label for='attrs-b4eae536-6f46-478a-9c25-03e6a0b4fefe' title='Show/Hide attributes'><svg class='icon xr-icon-file-text2'><use xlink:href='#icon-file-text2'></use></svg></label><input id='data-3bf2da7e-4f2a-4dd7-8817-a63597391325' class='xr-var-data-in' type='checkbox'><label for='data-3bf2da7e-4f2a-4dd7-8817-a63597391325' title='Show/Hide data repr'><svg class='icon xr-icon-database'><use xlink:href='#icon-database'></use></svg></label><div class='xr-var-attrs'><dl class='xr-attrs'></dl></div><div class='xr-var-data'><pre>array(11, dtype=int32)</pre></div></li><li class='xr-var-item'><div class='xr-var-name'><span>angle</span></div><div class='xr-var-dims'>()</div><div class='xr-var-dtype'>float64</div><div class='xr-var-preview xr-preview'>35.0</div><input id='attrs-460cc2bc-1f58-4c99-82dc-97629fe6f217' class='xr-var-attrs-in' type='checkbox' disabled><label for='attrs-460cc2bc-1f58-4c99-82dc-97629fe6f217' title='Show/Hide attributes'><svg class='icon xr-icon-file-text2'><use xlink:href='#icon-file-text2'></use></svg></label><input id='data-20b02186-5f79-4e42-ba15-5fbdbdcff842' class='xr-var-data-in' type='checkbox'><label for='data-20b02186-5f79-4e42-ba15-5fbdbdcff842' title='Show/Hide data repr'><svg class='icon xr-icon-database'><use xlink:href='#icon-database'></use></svg></label><div class='xr-var-attrs'><dl class='xr-attrs'></dl></div><div class='xr-var-data'><pre>array(35.)</pre></div></li></ul></div></li><li class='xr-section-item'><input id='section-c0abaf9b-9af1-4899-aac4-6e3fd1e64725' class='xr-section-summary-in' type='checkbox' disabled ><label for='section-c0abaf9b-9af1-4899-aac4-6e3fd1e64725' class='xr-section-summary'  title='Expand/collapse section'>Attributes: <span>(0)</span></label><div class='xr-section-inline-details'></div><div class='xr-section-details'><dl class='xr-attrs'></dl></div></li></ul></div></div>"
      ],
      "text/plain": [
       "<xarray.DataArray 'efficiency' ()>\n",
       "array(0.93634508)\n",
       "Coordinates:\n",
       "    wavelength  float64 1.1e+03\n",
       "    efficiency  float64 0.9363\n",
       "    task_id     int32 11\n",
       "    angle       float64 35.0"
      ]
     },
     "execution_count": 8,
     "metadata": {},
     "output_type": "execute_result"
    }
   ],
   "source": [
    "result['efficiency'][0]"
   ]
  },
  {
   "cell_type": "markdown",
   "metadata": {},
   "source": []
  },
  {
   "cell_type": "markdown",
   "metadata": {},
   "source": []
  },
  {
   "cell_type": "markdown",
   "metadata": {},
   "source": []
  },
  {
   "cell_type": "code",
   "execution_count": 9,
   "metadata": {
    "collapsed": false,
    "jupyter": {
     "outputs_hidden": false
    }
   },
   "outputs": [
    {
     "data": {
      "text/plain": [
       "array([[1., 1., 1., ..., 1., 1., 1.],\n",
       "       [1., 1., 1., ..., 1., 1., 1.],\n",
       "       [1., 1., 1., ..., 1., 1., 1.],\n",
       "       ...,\n",
       "       [1., 1., 1., ..., 1., 1., 1.],\n",
       "       [1., 1., 1., ..., 1., 1., 1.],\n",
       "       [1., 1., 1., ..., 1., 1., 1.]], dtype=float32)"
      ]
     },
     "execution_count": 9,
     "metadata": {},
     "output_type": "execute_result"
    }
   ],
   "source": [
    "result['pattern'][0].data"
   ]
  },
  {
   "cell_type": "code",
   "execution_count": 10,
   "metadata": {
    "collapsed": false,
    "jupyter": {
     "outputs_hidden": false
    }
   },
   "outputs": [
    {
     "data": {
      "text/plain": [
       "Coordinates:\n",
       "    wavelength  float64 1.1e+03\n",
       "    efficiency  float64 0.9363\n",
       "    task_id     int32 11\n",
       "    angle       float64 35.0"
      ]
     },
     "execution_count": 10,
     "metadata": {},
     "output_type": "execute_result"
    }
   ],
   "source": [
    "result['pattern'][0].coords"
   ]
  },
  {
   "cell_type": "code",
   "execution_count": 11,
   "metadata": {
    "collapsed": false,
    "jupyter": {
     "outputs_hidden": false
    }
   },
   "outputs": [
    {
     "name": "stdout",
     "output_type": "stream",
     "text": [
      "(tensor([ 0.5000,  0.5000,  0.5000,  0.5000,  0.5000,  0.5000,  0.5000,  0.5000,\n",
      "         0.5000,  0.5000,  0.5000,  0.5000,  0.5000,  0.5000,  0.5000,  0.5000,\n",
      "         0.5000,  0.5000,  0.5000,  0.5000,  0.5000,  0.5000,  0.5000,  0.5000,\n",
      "         0.5000,  1.0000,  1.0000,  1.0000,  1.0000,  1.0000,  1.0000,  1.0000,\n",
      "         1.0000,  1.0000,  1.0000,  1.0000,  1.0000,  1.0000,  1.0000,  1.0000,\n",
      "         1.0000,  1.0000,  1.0000,  1.0000,  1.0000,  1.0000,  1.0000,  1.0000,\n",
      "         1.0000, -1.0000, -1.0000, -1.0000, -1.0000, -1.0000, -1.0000, -1.0000,\n",
      "        -1.0000, -1.0000, -1.0000, -1.0000, -1.0000, -1.0000, -1.0000, -1.0000,\n",
      "        -1.0000, -1.0000, -1.0000, -1.0000, -1.0000, -1.0000, -1.0000, -1.0000,\n",
      "        -1.0000, -1.0000, -1.0000, -1.0000, -1.0000, -1.0000, -1.0000, -0.5000,\n",
      "        -0.5000, -0.5000, -0.5000, -0.5000, -0.5000, -0.5000, -0.5000, -0.5000,\n",
      "        -0.5000, -0.5000, -0.5000, -0.5000, -0.5000, -0.5000, -0.5000, -0.5000,\n",
      "        -0.5000, -0.5000, -0.5000, -0.5000, -0.5000, -0.5000, -0.5000, -0.5000,\n",
      "        -0.5000, -0.5000, -0.5000, -0.5000, -0.5000,  0.0000,  0.0000,  0.0000,\n",
      "         0.0000,  0.0000,  0.0000,  0.0000,  0.0000,  0.0000,  0.0000,  0.0000,\n",
      "         0.0000,  0.0000,  0.0000,  0.0000,  0.0000,  0.0000,  0.0000,  0.0000,\n",
      "         0.0000,  0.0000,  0.0000,  0.0000,  0.0000,  0.0000,  0.0000,  0.0000,\n",
      "         0.0000,  0.0000,  0.5000,  0.5000,  0.5000,  0.5000,  0.5000,  0.5000,\n",
      "         0.5000,  0.5000,  0.5000,  0.5000,  0.5000,  0.5000,  0.5000,  0.5000,\n",
      "         0.5000,  0.5000,  0.5000,  0.5000,  0.5000,  0.5000,  0.5000,  0.5000,\n",
      "         0.5000,  0.5000,  0.5000,  0.5000,  1.0000,  1.0000,  1.0000,  1.0000,\n",
      "         1.0000,  1.0000,  1.0000,  1.0000,  1.0000,  1.0000,  1.0000,  1.0000,\n",
      "         1.0000,  1.0000,  1.0000,  1.0000,  1.0000,  1.0000,  1.0000,  1.0000,\n",
      "         1.0000,  1.0000,  1.0000, -1.0000, -1.0000, -1.0000, -1.0000, -1.0000,\n",
      "        -1.0000, -1.0000, -1.0000, -1.0000, -1.0000, -1.0000, -1.0000, -1.0000,\n",
      "        -1.0000, -1.0000, -1.0000, -1.0000, -1.0000, -1.0000, -1.0000, -1.0000,\n",
      "        -1.0000, -1.0000, -1.0000, -1.0000, -1.0000, -1.0000, -1.0000, -1.0000,\n",
      "        -1.0000, -1.0000, -1.0000, -1.0000, -1.0000, -1.0000, -1.0000, -0.5000,\n",
      "        -0.5000, -0.5000, -0.5000, -0.5000, -0.5000, -0.5000, -0.5000, -0.5000,\n",
      "        -0.5000, -0.5000, -0.5000, -0.5000, -0.5000, -0.5000, -0.5000, -0.5000,\n",
      "        -0.5000, -0.5000, -0.5000, -0.5000, -0.5000, -0.5000, -0.5000, -0.5000,\n",
      "        -0.5000, -0.5000,  0.0000,  0.0000,  0.0000,  0.0000,  0.0000,  0.0000,\n",
      "         0.0000,  0.0000,  0.0000,  0.0000,  0.0000,  0.0000,  0.0000,  0.0000,\n",
      "         0.0000,  0.0000,  0.0000,  0.0000,  0.0000,  0.0000,  0.0000,  0.0000,\n",
      "         0.0000,  0.0000,  0.0000,  0.0000,  0.0000,  0.0000,  0.0000,  0.5000,\n",
      "         0.5000,  0.5000,  0.5000,  0.5000,  0.5000,  0.5000,  0.5000,  0.5000,\n",
      "         0.5000,  0.5000,  0.5000,  0.5000,  0.5000,  0.5000,  0.5000,  0.5000,\n",
      "         0.5000,  0.5000,  0.5000,  0.5000,  0.5000,  0.5000,  0.5000,  0.5000,\n",
      "         0.5000,  0.5000,  1.0000,  1.0000,  1.0000,  1.0000,  1.0000,  1.0000,\n",
      "         1.0000,  1.0000,  1.0000,  1.0000,  1.0000,  1.0000,  1.0000,  1.0000,\n",
      "         1.0000,  1.0000,  1.0000,  1.0000,  1.0000,  1.0000,  1.0000,  1.0000,\n",
      "         1.0000,  1.0000, -1.0000, -1.0000, -1.0000, -1.0000, -1.0000, -1.0000,\n",
      "        -1.0000, -1.0000, -1.0000, -1.0000, -1.0000, -1.0000, -1.0000, -1.0000,\n",
      "        -1.0000, -1.0000, -1.0000, -1.0000, -1.0000, -1.0000, -1.0000, -1.0000,\n",
      "        -1.0000, -1.0000, -1.0000, -1.0000, -1.0000, -1.0000, -0.5000, -0.5000,\n",
      "        -0.5000, -0.5000, -0.5000, -0.5000, -0.5000, -0.5000, -0.5000, -0.5000,\n",
      "        -0.5000, -0.5000, -0.5000, -0.5000, -0.5000, -0.5000, -0.5000, -0.5000,\n",
      "        -0.5000, -0.5000, -0.5000, -0.5000, -0.5000, -0.5000, -0.5000, -0.5000,\n",
      "        -0.5000, -0.5000, -0.5000,  0.0000,  0.0000,  0.0000,  0.0000,  0.0000,\n",
      "         0.0000,  0.0000,  0.0000,  0.0000,  0.0000,  0.0000,  0.0000,  0.0000,\n",
      "         0.0000,  0.0000,  0.0000,  0.0000,  0.0000,  0.0000,  0.0000,  0.0000,\n",
      "         0.0000,  0.0000,  0.0000,  0.0000,  0.0000,  0.5000,  0.5000,  0.5000,\n",
      "         0.5000,  0.5000,  0.5000,  0.5000,  0.5000,  0.5000,  0.5000,  0.5000,\n",
      "         0.5000,  0.5000,  0.5000,  0.5000,  0.5000,  0.5000,  0.5000,  0.5000,\n",
      "         0.5000,  0.5000,  0.5000,  0.5000,  0.5000,  0.5000,  0.5000,  1.0000,\n",
      "         1.0000,  1.0000,  1.0000,  1.0000,  1.0000,  1.0000,  1.0000,  1.0000,\n",
      "         1.0000,  1.0000,  1.0000,  1.0000,  1.0000,  1.0000,  1.0000,  1.0000,\n",
      "         1.0000,  1.0000,  1.0000,  1.0000,  1.0000,  1.0000,  1.0000, -1.0000,\n",
      "        -1.0000, -1.0000, -1.0000, -1.0000, -1.0000, -1.0000, -1.0000, -1.0000,\n",
      "        -1.0000, -1.0000, -1.0000, -1.0000, -1.0000, -1.0000, -1.0000, -1.0000,\n",
      "        -1.0000, -1.0000, -1.0000, -1.0000, -1.0000, -1.0000, -1.0000, -1.0000,\n",
      "        -1.0000, -0.5000, -0.5000, -0.5000, -0.5000, -0.5000, -0.5000, -0.5000,\n",
      "        -0.5000, -0.5000, -0.5000, -0.5000, -0.5000, -0.5000, -0.5000, -0.5000,\n",
      "        -0.5000, -0.5000, -0.5000, -0.5000, -0.5000, -0.5000, -0.5000, -0.5000,\n",
      "        -0.5000, -0.5000, -0.5000, -0.5000, -0.5000, -0.5000, -0.5000, -0.5000,\n",
      "        -0.5000, -0.5000, -0.5000,  0.0000,  0.0000,  0.0000,  0.0000,  0.0000,\n",
      "         0.0000,  0.0000,  0.0000,  0.0000,  0.0000,  0.0000,  0.0000,  0.0000,\n",
      "         0.0000,  0.0000,  0.0000,  0.0000,  0.0000,  0.0000,  0.0000,  0.0000,\n",
      "         0.0000,  0.0000,  0.0000,  0.0000,  0.0000,  0.0000,  0.0000,  0.0000,\n",
      "         0.0000,  0.0000,  0.0000,  0.0000,  0.0000,  0.5000,  0.5000,  0.5000,\n",
      "         0.5000,  0.5000,  0.5000,  0.5000,  0.5000,  0.5000,  0.5000,  0.5000,\n",
      "         0.5000,  0.5000,  0.5000,  0.5000,  0.5000,  0.5000,  0.5000,  0.5000,\n",
      "         0.5000,  0.5000,  0.5000,  0.5000,  0.5000,  0.5000,  0.5000,  0.5000,\n",
      "         1.0000,  1.0000,  1.0000,  1.0000,  1.0000,  1.0000,  1.0000,  1.0000,\n",
      "         1.0000,  1.0000,  1.0000,  1.0000,  1.0000,  1.0000,  1.0000,  1.0000,\n",
      "         1.0000,  1.0000,  1.0000,  1.0000,  1.0000,  1.0000,  1.0000,  1.0000,\n",
      "        -1.0000, -1.0000, -1.0000, -1.0000, -1.0000, -1.0000, -1.0000, -1.0000,\n",
      "        -1.0000, -1.0000, -1.0000, -1.0000, -1.0000, -1.0000, -1.0000, -1.0000,\n",
      "        -1.0000, -1.0000, -1.0000, -1.0000, -1.0000, -1.0000, -1.0000, -1.0000,\n",
      "        -1.0000, -1.0000, -1.0000, -0.5000, -0.5000, -0.5000, -0.5000, -0.5000,\n",
      "        -0.5000, -0.5000, -0.5000, -0.5000, -0.5000, -0.5000, -0.5000, -0.5000,\n",
      "        -0.5000, -0.5000, -0.5000, -0.5000, -0.5000, -0.5000, -0.5000, -0.5000,\n",
      "        -0.5000, -0.5000, -0.5000, -0.5000, -0.5000, -0.5000, -0.5000,  0.0000,\n",
      "         0.0000,  0.0000,  0.0000,  0.0000,  0.0000,  0.0000,  0.0000,  0.0000,\n",
      "         0.0000,  0.0000,  0.0000,  0.0000,  0.0000,  0.0000,  0.0000,  0.0000,\n",
      "         0.0000,  0.0000,  0.0000,  0.0000,  0.0000,  0.0000,  0.0000,  0.0000,\n",
      "         0.0000,  0.0000,  0.5000,  0.5000,  0.5000,  0.5000,  0.5000,  0.5000,\n",
      "         0.5000,  0.5000,  0.5000,  0.5000,  0.5000,  0.5000,  0.5000,  0.5000,\n",
      "         0.5000,  0.5000,  0.5000,  0.5000,  0.5000,  0.5000,  0.5000,  0.5000,\n",
      "         0.5000,  0.5000,  0.5000,  0.5000,  1.0000,  1.0000,  1.0000,  1.0000,\n",
      "         1.0000,  1.0000,  1.0000,  1.0000,  1.0000,  1.0000,  1.0000,  1.0000,\n",
      "         1.0000,  1.0000,  1.0000,  1.0000,  1.0000,  1.0000,  1.0000,  1.0000,\n",
      "         1.0000,  1.0000,  1.0000,  1.0000,  1.0000,  1.0000, -1.0000, -1.0000,\n",
      "        -1.0000, -1.0000, -1.0000, -1.0000, -1.0000, -1.0000, -1.0000, -1.0000,\n",
      "        -1.0000, -1.0000, -1.0000, -1.0000, -1.0000, -1.0000, -1.0000, -1.0000,\n",
      "        -1.0000, -0.5000, -0.5000, -0.5000, -0.5000, -0.5000, -0.5000, -0.5000,\n",
      "        -0.5000, -0.5000, -0.5000, -0.5000, -0.5000, -0.5000, -0.5000, -0.5000,\n",
      "        -0.5000, -0.5000, -0.5000, -0.5000, -0.5000, -0.5000, -0.5000, -0.5000,\n",
      "        -0.5000, -0.5000, -0.5000, -0.5000, -0.5000, -0.5000, -0.5000, -0.5000,\n",
      "        -0.5000, -0.5000,  0.0000,  0.0000,  0.0000,  0.0000,  0.0000,  0.0000,\n",
      "         0.0000,  0.0000,  0.0000,  0.0000,  0.0000,  0.0000,  0.0000,  0.0000,\n",
      "         0.0000,  0.0000,  0.0000,  0.0000,  0.0000,  0.0000,  0.0000,  0.0000,\n",
      "         0.0000,  0.0000,  0.0000,  0.0000,  0.0000,  0.0000,  0.0000,  0.0000,\n",
      "         0.0000,  0.0000,  0.0000,  0.0000], dtype=torch.float64), tensor(900., dtype=torch.float64), tensor(400., dtype=torch.float64))\n"
     ]
    }
   ],
   "source": [
    "from data_loader import *\n",
    "\n",
    "print(data_normalize(torch.from_numpy(result.wavelength.values)))"
   ]
  },
  {
   "cell_type": "code",
   "execution_count": 12,
   "metadata": {
    "collapsed": false,
    "jupyter": {
     "outputs_hidden": false
    }
   },
   "outputs": [
    {
     "name": "stdout",
     "output_type": "stream",
     "text": [
      "tensor([1100., 1100., 1100., 1100., 1100., 1100., 1100., 1100., 1100., 1100.,\n",
      "        1100., 1100., 1100., 1100., 1100., 1100., 1100., 1100., 1100., 1100.,\n",
      "        1100., 1100., 1100., 1100., 1100., 1300., 1300., 1300., 1300., 1300.,\n",
      "        1300., 1300., 1300., 1300., 1300., 1300., 1300., 1300., 1300., 1300.,\n",
      "        1300., 1300., 1300., 1300., 1300., 1300., 1300., 1300., 1300.,  500.,\n",
      "         500.,  500.,  500.,  500.,  500.,  500.,  500.,  500.,  500.,  500.,\n",
      "         500.,  500.,  500.,  500.,  500.,  500.,  500.,  500.,  500.,  500.,\n",
      "         500.,  500.,  500.,  500.,  500.,  500.,  500.,  500.,  500.,  700.,\n",
      "         700.,  700.,  700.,  700.,  700.,  700.,  700.,  700.,  700.,  700.,\n",
      "         700.,  700.,  700.,  700.,  700.,  700.,  700.,  700.,  700.,  700.,\n",
      "         700.,  700.,  700.,  700.,  700.,  700.,  700.,  700.,  700.,  900.,\n",
      "         900.,  900.,  900.,  900.,  900.,  900.,  900.,  900.,  900.,  900.,\n",
      "         900.,  900.,  900.,  900.,  900.,  900.,  900.,  900.,  900.,  900.,\n",
      "         900.,  900.,  900.,  900.,  900.,  900.,  900.,  900., 1100., 1100.,\n",
      "        1100., 1100., 1100., 1100., 1100., 1100., 1100., 1100., 1100., 1100.,\n",
      "        1100., 1100., 1100., 1100., 1100., 1100., 1100., 1100., 1100., 1100.,\n",
      "        1100., 1100., 1100., 1100., 1300., 1300., 1300., 1300., 1300., 1300.,\n",
      "        1300., 1300., 1300., 1300., 1300., 1300., 1300., 1300., 1300., 1300.,\n",
      "        1300., 1300., 1300., 1300., 1300., 1300., 1300.,  500.,  500.,  500.,\n",
      "         500.,  500.,  500.,  500.,  500.,  500.,  500.,  500.,  500.,  500.,\n",
      "         500.,  500.,  500.,  500.,  500.,  500.,  500.,  500.,  500.,  500.,\n",
      "         500.,  500.,  500.,  500.,  500.,  500.,  500.,  500.,  500.,  500.,\n",
      "         500.,  500.,  500.,  700.,  700.,  700.,  700.,  700.,  700.,  700.,\n",
      "         700.,  700.,  700.,  700.,  700.,  700.,  700.,  700.,  700.,  700.,\n",
      "         700.,  700.,  700.,  700.,  700.,  700.,  700.,  700.,  700.,  700.,\n",
      "         900.,  900.,  900.,  900.,  900.,  900.,  900.,  900.,  900.,  900.,\n",
      "         900.,  900.,  900.,  900.,  900.,  900.,  900.,  900.,  900.,  900.,\n",
      "         900.,  900.,  900.,  900.,  900.,  900.,  900.,  900.,  900., 1100.,\n",
      "        1100., 1100., 1100., 1100., 1100., 1100., 1100., 1100., 1100., 1100.,\n",
      "        1100., 1100., 1100., 1100., 1100., 1100., 1100., 1100., 1100., 1100.,\n",
      "        1100., 1100., 1100., 1100., 1100., 1100., 1300., 1300., 1300., 1300.,\n",
      "        1300., 1300., 1300., 1300., 1300., 1300., 1300., 1300., 1300., 1300.,\n",
      "        1300., 1300., 1300., 1300., 1300., 1300., 1300., 1300., 1300., 1300.,\n",
      "         500.,  500.,  500.,  500.,  500.,  500.,  500.,  500.,  500.,  500.,\n",
      "         500.,  500.,  500.,  500.,  500.,  500.,  500.,  500.,  500.,  500.,\n",
      "         500.,  500.,  500.,  500.,  500.,  500.,  500.,  500.,  700.,  700.,\n",
      "         700.,  700.,  700.,  700.,  700.,  700.,  700.,  700.,  700.,  700.,\n",
      "         700.,  700.,  700.,  700.,  700.,  700.,  700.,  700.,  700.,  700.,\n",
      "         700.,  700.,  700.,  700.,  700.,  700.,  700.,  900.,  900.,  900.,\n",
      "         900.,  900.,  900.,  900.,  900.,  900.,  900.,  900.,  900.,  900.,\n",
      "         900.,  900.,  900.,  900.,  900.,  900.,  900.,  900.,  900.,  900.,\n",
      "         900.,  900.,  900., 1100., 1100., 1100., 1100., 1100., 1100., 1100.,\n",
      "        1100., 1100., 1100., 1100., 1100., 1100., 1100., 1100., 1100., 1100.,\n",
      "        1100., 1100., 1100., 1100., 1100., 1100., 1100., 1100., 1100., 1300.,\n",
      "        1300., 1300., 1300., 1300., 1300., 1300., 1300., 1300., 1300., 1300.,\n",
      "        1300., 1300., 1300., 1300., 1300., 1300., 1300., 1300., 1300., 1300.,\n",
      "        1300., 1300., 1300.,  500.,  500.,  500.,  500.,  500.,  500.,  500.,\n",
      "         500.,  500.,  500.,  500.,  500.,  500.,  500.,  500.,  500.,  500.,\n",
      "         500.,  500.,  500.,  500.,  500.,  500.,  500.,  500.,  500.,  700.,\n",
      "         700.,  700.,  700.,  700.,  700.,  700.,  700.,  700.,  700.,  700.,\n",
      "         700.,  700.,  700.,  700.,  700.,  700.,  700.,  700.,  700.,  700.,\n",
      "         700.,  700.,  700.,  700.,  700.,  700.,  700.,  700.,  700.,  700.,\n",
      "         700.,  700.,  700.,  900.,  900.,  900.,  900.,  900.,  900.,  900.,\n",
      "         900.,  900.,  900.,  900.,  900.,  900.,  900.,  900.,  900.,  900.,\n",
      "         900.,  900.,  900.,  900.,  900.,  900.,  900.,  900.,  900.,  900.,\n",
      "         900.,  900.,  900.,  900.,  900.,  900.,  900., 1100., 1100., 1100.,\n",
      "        1100., 1100., 1100., 1100., 1100., 1100., 1100., 1100., 1100., 1100.,\n",
      "        1100., 1100., 1100., 1100., 1100., 1100., 1100., 1100., 1100., 1100.,\n",
      "        1100., 1100., 1100., 1100., 1300., 1300., 1300., 1300., 1300., 1300.,\n",
      "        1300., 1300., 1300., 1300., 1300., 1300., 1300., 1300., 1300., 1300.,\n",
      "        1300., 1300., 1300., 1300., 1300., 1300., 1300., 1300.,  500.,  500.,\n",
      "         500.,  500.,  500.,  500.,  500.,  500.,  500.,  500.,  500.,  500.,\n",
      "         500.,  500.,  500.,  500.,  500.,  500.,  500.,  500.,  500.,  500.,\n",
      "         500.,  500.,  500.,  500.,  500.,  700.,  700.,  700.,  700.,  700.,\n",
      "         700.,  700.,  700.,  700.,  700.,  700.,  700.,  700.,  700.,  700.,\n",
      "         700.,  700.,  700.,  700.,  700.,  700.,  700.,  700.,  700.,  700.,\n",
      "         700.,  700.,  700.,  900.,  900.,  900.,  900.,  900.,  900.,  900.,\n",
      "         900.,  900.,  900.,  900.,  900.,  900.,  900.,  900.,  900.,  900.,\n",
      "         900.,  900.,  900.,  900.,  900.,  900.,  900.,  900.,  900.,  900.,\n",
      "        1100., 1100., 1100., 1100., 1100., 1100., 1100., 1100., 1100., 1100.,\n",
      "        1100., 1100., 1100., 1100., 1100., 1100., 1100., 1100., 1100., 1100.,\n",
      "        1100., 1100., 1100., 1100., 1100., 1100., 1300., 1300., 1300., 1300.,\n",
      "        1300., 1300., 1300., 1300., 1300., 1300., 1300., 1300., 1300., 1300.,\n",
      "        1300., 1300., 1300., 1300., 1300., 1300., 1300., 1300., 1300., 1300.,\n",
      "        1300., 1300.,  500.,  500.,  500.,  500.,  500.,  500.,  500.,  500.,\n",
      "         500.,  500.,  500.,  500.,  500.,  500.,  500.,  500.,  500.,  500.,\n",
      "         500.,  700.,  700.,  700.,  700.,  700.,  700.,  700.,  700.,  700.,\n",
      "         700.,  700.,  700.,  700.,  700.,  700.,  700.,  700.,  700.,  700.,\n",
      "         700.,  700.,  700.,  700.,  700.,  700.,  700.,  700.,  700.,  700.,\n",
      "         700.,  700.,  700.,  700.,  900.,  900.,  900.,  900.,  900.,  900.,\n",
      "         900.,  900.,  900.,  900.,  900.,  900.,  900.,  900.,  900.,  900.,\n",
      "         900.,  900.,  900.,  900.,  900.,  900.,  900.,  900.,  900.,  900.,\n",
      "         900.,  900.,  900.,  900.,  900.,  900.,  900.,  900.],\n",
      "       dtype=torch.float64)\n",
      "tensor([35., 35., 35., 35., 35., 35., 35., 35., 35., 35., 35., 35., 35., 35.,\n",
      "        35., 35., 35., 35., 35., 35., 35., 35., 35., 35., 35., 35., 35., 35.,\n",
      "        35., 35., 35., 35., 35., 35., 35., 35., 35., 35., 35., 35., 35., 35.,\n",
      "        35., 35., 35., 35., 35., 35., 35., 35., 35., 35., 35., 35., 35., 35.,\n",
      "        35., 35., 35., 35., 35., 35., 35., 35., 35., 35., 35., 35., 35., 35.,\n",
      "        35., 35., 35., 35., 35., 35., 35., 35., 35., 35., 35., 35., 35., 35.,\n",
      "        35., 35., 35., 35., 35., 35., 35., 35., 35., 35., 35., 35., 35., 35.,\n",
      "        35., 35., 35., 35., 35., 35., 35., 35., 35., 35., 35., 35., 35., 35.,\n",
      "        35., 35., 35., 35., 35., 35., 35., 35., 35., 35., 35., 35., 35., 35.,\n",
      "        35., 35., 35., 35., 35., 35., 35., 35., 35., 35., 35., 35., 45., 45.,\n",
      "        45., 45., 45., 45., 45., 45., 45., 45., 45., 45., 45., 45., 45., 45.,\n",
      "        45., 45., 45., 45., 45., 45., 45., 45., 45., 45., 45., 45., 45., 45.,\n",
      "        45., 45., 45., 45., 45., 45., 45., 45., 45., 45., 45., 45., 45., 45.,\n",
      "        45., 45., 45., 45., 45., 45., 45., 45., 45., 45., 45., 45., 45., 45.,\n",
      "        45., 45., 45., 45., 45., 45., 45., 45., 45., 45., 45., 45., 45., 45.,\n",
      "        45., 45., 45., 45., 45., 45., 45., 45., 45., 45., 45., 45., 45., 45.,\n",
      "        45., 45., 45., 45., 45., 45., 45., 45., 45., 45., 45., 45., 45., 45.,\n",
      "        45., 45., 45., 45., 45., 45., 45., 45., 45., 45., 45., 45., 45., 45.,\n",
      "        45., 45., 45., 45., 45., 45., 45., 45., 45., 45., 45., 45., 45., 45.,\n",
      "        45., 45., 45., 45., 45., 45., 45., 45., 45., 45., 45., 45., 45., 55.,\n",
      "        55., 55., 55., 55., 55., 55., 55., 55., 55., 55., 55., 55., 55., 55.,\n",
      "        55., 55., 55., 55., 55., 55., 55., 55., 55., 55., 55., 55., 55., 55.,\n",
      "        55., 55., 55., 55., 55., 55., 55., 55., 55., 55., 55., 55., 55., 55.,\n",
      "        55., 55., 55., 55., 55., 55., 55., 55., 55., 55., 55., 55., 55., 55.,\n",
      "        55., 55., 55., 55., 55., 55., 55., 55., 55., 55., 55., 55., 55., 55.,\n",
      "        55., 55., 55., 55., 55., 55., 55., 55., 55., 55., 55., 55., 55., 55.,\n",
      "        55., 55., 55., 55., 55., 55., 55., 55., 55., 55., 55., 55., 55., 55.,\n",
      "        55., 55., 55., 55., 55., 55., 55., 55., 55., 55., 55., 55., 55., 55.,\n",
      "        55., 55., 55., 55., 55., 55., 55., 55., 55., 55., 55., 55., 55., 55.,\n",
      "        55., 55., 55., 55., 55., 55., 55., 65., 65., 65., 65., 65., 65., 65.,\n",
      "        65., 65., 65., 65., 65., 65., 65., 65., 65., 65., 65., 65., 65., 65.,\n",
      "        65., 65., 65., 65., 65., 65., 65., 65., 65., 65., 65., 65., 65., 65.,\n",
      "        65., 65., 65., 65., 65., 65., 65., 65., 65., 65., 65., 65., 65., 65.,\n",
      "        65., 65., 65., 65., 65., 65., 65., 65., 65., 65., 65., 65., 65., 65.,\n",
      "        65., 65., 65., 65., 65., 65., 65., 65., 65., 65., 65., 65., 65., 65.,\n",
      "        65., 65., 65., 65., 65., 65., 65., 65., 65., 65., 65., 65., 65., 65.,\n",
      "        65., 65., 65., 65., 65., 65., 65., 65., 65., 65., 65., 65., 65., 65.,\n",
      "        65., 65., 65., 65., 65., 65., 65., 65., 65., 65., 65., 65., 65., 65.,\n",
      "        65., 65., 65., 65., 65., 65., 65., 65., 65., 65., 65., 65., 65., 65.,\n",
      "        65., 65., 65., 65., 65., 65., 65., 65., 65., 65., 65., 75., 75., 75.,\n",
      "        75., 75., 75., 75., 75., 75., 75., 75., 75., 75., 75., 75., 75., 75.,\n",
      "        75., 75., 75., 75., 75., 75., 75., 75., 75., 75., 75., 75., 75., 75.,\n",
      "        75., 75., 75., 75., 75., 75., 75., 75., 75., 75., 75., 75., 75., 75.,\n",
      "        75., 75., 75., 75., 75., 75., 75., 75., 75., 75., 75., 75., 75., 75.,\n",
      "        75., 75., 75., 75., 75., 75., 75., 75., 75., 75., 75., 75., 75., 75.,\n",
      "        75., 75., 75., 75., 75., 75., 75., 75., 75., 75., 75., 75., 75., 75.,\n",
      "        75., 75., 75., 75., 75., 75., 75., 75., 75., 75., 75., 75., 75., 75.,\n",
      "        75., 75., 75., 75., 75., 75., 75., 75., 75., 75., 75., 75., 75., 75.,\n",
      "        75., 75., 75., 75., 75., 75., 75., 75., 75., 75., 75., 75., 75., 75.,\n",
      "        75., 75., 75., 75., 85., 85., 85., 85., 85., 85., 85., 85., 85., 85.,\n",
      "        85., 85., 85., 85., 85., 85., 85., 85., 85., 85., 85., 85., 85., 85.,\n",
      "        85., 85., 85., 85., 85., 85., 85., 85., 85., 85., 85., 85., 85., 85.,\n",
      "        85., 85., 85., 85., 85., 85., 85., 85., 85., 85., 85., 85., 85., 85.,\n",
      "        85., 85., 85., 85., 85., 85., 85., 85., 85., 85., 85., 85., 85., 85.,\n",
      "        85., 85., 85., 85., 85., 85., 85., 85., 85., 85., 85., 85., 85., 85.,\n",
      "        85., 85., 85., 85., 85., 85., 85., 85., 85., 85., 85., 85., 85., 85.,\n",
      "        85., 85., 85., 85., 85., 85., 85., 85., 85., 85., 85., 85., 85., 85.,\n",
      "        85., 85., 85., 85., 85., 85., 85., 85., 85., 85., 85., 85., 85., 85.,\n",
      "        85., 85., 85., 85., 85., 85., 85., 85., 85., 85., 85., 85., 85., 85.,\n",
      "        85., 85.], dtype=torch.float64)\n"
     ]
    }
   ],
   "source": [
    "wavelengths = torch.from_numpy(result.wavelength.values)\n",
    "angles = torch.from_numpy(result.angle.values)\n",
    "\n",
    "print(wavelengths)\n",
    "print(angles)"
   ]
  },
  {
   "cell_type": "code",
   "execution_count": 13,
   "metadata": {
    "collapsed": false,
    "jupyter": {
     "outputs_hidden": false
    }
   },
   "outputs": [
    {
     "name": "stdout",
     "output_type": "stream",
     "text": [
      "torch.Size([828, 1, 64, 256])\n"
     ]
    }
   ],
   "source": [
    "patterns = torch.from_numpy(result.pattern.values).unsqueeze(1)\n",
    "\n",
    "print(patterns.shape)"
   ]
  },
  {
   "cell_type": "code",
   "execution_count": 14,
   "metadata": {
    "collapsed": false,
    "jupyter": {
     "outputs_hidden": false
    }
   },
   "outputs": [],
   "source": [
    "#torch_struct[0,:,:,:].shape"
   ]
  },
  {
   "cell_type": "code",
   "execution_count": 15,
   "metadata": {
    "collapsed": false,
    "jupyter": {
     "outputs_hidden": false
    }
   },
   "outputs": [
    {
     "name": "stdout",
     "output_type": "stream",
     "text": [
      "tensor([1100.,   35.])\n"
     ]
    }
   ],
   "source": [
    "idx = 0\n",
    "\n",
    "label = torch.FloatTensor([wavelengths[idx],angles[idx]])\n",
    "\n",
    "print(label)"
   ]
  },
  {
   "cell_type": "code",
   "execution_count": 16,
   "metadata": {
    "collapsed": false,
    "jupyter": {
     "outputs_hidden": false
    }
   },
   "outputs": [
    {
     "name": "stdout",
     "output_type": "stream",
     "text": [
      "tensor([[[0., 0., 0.,  ..., 0., 0., 0.],\n",
      "         [0., 0., 0.,  ..., 0., 0., 0.],\n",
      "         [0., 0., 0.,  ..., 0., 0., 0.],\n",
      "         ...,\n",
      "         [0., 0., 0.,  ..., 0., 0., 0.],\n",
      "         [0., 0., 0.,  ..., 0., 0., 0.],\n",
      "         [0., 0., 0.,  ..., 0., 0., 0.]]])\n",
      "torch.Size([1, 64, 256])\n"
     ]
    },
    {
     "data": {
      "text/plain": [
       "<matplotlib.image.AxesImage at 0x7fa202793b00>"
      ]
     },
     "execution_count": 16,
     "metadata": {},
     "output_type": "execute_result"
    },
    {
     "data": {
      "image/png": "[encoded data removed]",
      "text/plain": [
       "<Figure size 432x288 with 1 Axes>"
      ]
     },
     "metadata": {
      "needs_background": "light"
     },
     "output_type": "display_data"
    }
   ],
   "source": [
    "img = random_x_translation(patterns[idx])\n",
    "print(img)\n",
    "print(img.shape)\n",
    "\n",
    "\n",
    "import matplotlib.pyplot as plt\n",
    "import numpy as np\n",
    "\n",
    "img_ = np.squeeze(img)\n",
    "plt.imshow(img_)"
   ]
  },
  {
   "cell_type": "code",
   "execution_count": 17,
   "metadata": {
    "collapsed": false,
    "jupyter": {
     "outputs_hidden": false
    }
   },
   "outputs": [],
   "source": [
    "import torchvision.transforms as transforms\n",
    "\n",
    "train_transformer = transforms.Compose([\n",
    "\ttransforms.ToPILImage(),\n",
    "\ttransforms.Resize((32,128)),\n",
    "\ttransforms.ToTensor(),\n",
    "\t#transforms.Normalize((0.0), (1.0))\n",
    "\t])\n",
    "\n",
    "transfrom = train_transformer"
   ]
  },
  {
   "cell_type": "code",
   "execution_count": 18,
   "metadata": {
    "collapsed": false,
    "jupyter": {
     "outputs_hidden": false
    }
   },
   "outputs": [
    {
     "name": "stdout",
     "output_type": "stream",
     "text": [
      "tensor([[[-1., -1., -1.,  ..., -1., -1., -1.],\n",
      "         [-1., -1., -1.,  ..., -1., -1., -1.],\n",
      "         [-1., -1., -1.,  ..., -1., -1., -1.],\n",
      "         ...,\n",
      "         [-1., -1., -1.,  ..., -1., -1., -1.],\n",
      "         [-1., -1., -1.,  ..., -1., -1., -1.],\n",
      "         [-1., -1., -1.,  ..., -1., -1., -1.]]])\n",
      "torch.Size([1, 32, 128])\n"
     ]
    },
    {
     "data": {
      "text/plain": [
       "<matplotlib.image.AxesImage at 0x7fa1fa67a898>"
      ]
     },
     "execution_count": 18,
     "metadata": {},
     "output_type": "execute_result"
    },
    {
     "data": {
      "image/png": "[encoded data removed]",
      "text/plain": [
       "<Figure size 432x288 with 1 Axes>"
      ]
     },
     "metadata": {
      "needs_background": "light"
     },
     "output_type": "display_data"
    }
   ],
   "source": [
    "img = (transfrom(img)-0.5)/0.5\n",
    "\n",
    "print(img)\n",
    "print(img.shape)\n",
    "\n",
    "img_ = np.squeeze(img)\n",
    "plt.imshow(img_)"
   ]
  },
  {
   "cell_type": "code",
   "execution_count": null,
   "metadata": {},
   "outputs": [],
   "source": [
    "################################\n",
    "##\n",
    "##\n",
    "## read all files in the 't' folder\n",
    "##\n",
    "##\n",
    "################################\n",
    "\n",
    "import os\n",
    "path = os.getcwd()+'\\t'\n",
    "text_files = [f for f in os.listdir(path) if f.starsswith('Geometry')]\n",
    "\n",
    "\n",
    "struct_list = np.array([])\n",
    "\n"
   ]
  },
  {
   "cell_type": "code",
   "execution_count": 20,
   "metadata": {
    "collapsed": false,
    "jupyter": {
     "outputs_hidden": false
    }
   },
   "outputs": [],
   "source": [
    "##### txt data\n",
    "\n",
    "struct = []\n",
    "\n",
    "with open('Geometry_parameter_0.txt') as f:\n",
    "    struct = f.readlines()\n",
    "    f.close()\n",
    "\n"
   ]
  },
  {
   "cell_type": "code",
   "execution_count": 21,
   "metadata": {},
   "outputs": [],
   "source": [
    "struct_ = [float(x[:-3]) for x in struct]\n",
    "struct_np = np.array(struct_)"
   ]
  },
  {
   "cell_type": "code",
   "execution_count": 22,
   "metadata": {},
   "outputs": [],
   "source": [
    "struct_reshaped = np.reshape(struct_np, (10,-1))"
   ]
  },
  {
   "cell_type": "code",
   "execution_count": 23,
   "metadata": {},
   "outputs": [
    {
     "data": {
      "text/plain": [
       "(10, 80)"
      ]
     },
     "execution_count": 23,
     "metadata": {},
     "output_type": "execute_result"
    }
   ],
   "source": [
    "struct_reshaped.shape"
   ]
  },
  {
   "cell_type": "code",
   "execution_count": 24,
   "metadata": {},
   "outputs": [
    {
     "data": {
      "image/png": "[encoded data removed]",
      "text/plain": [
       "<Figure size 432x288 with 2 Axes>"
      ]
     },
     "metadata": {
      "needs_background": "light"
     },
     "output_type": "display_data"
    }
   ],
   "source": [
    "im = plt.imshow(struct_reshaped,cmap='copper')\n",
    "cbar = plt.colorbar(im)\n",
    "plt.show()"
   ]
  },
  {
   "cell_type": "code",
   "execution_count": 25,
   "metadata": {},
   "outputs": [
    {
     "name": "stdout",
     "output_type": "stream",
     "text": [
      "[1. 1. 0. 1. 1. 1. 1. 0. 1. 0. 0. 0. 0. 0. 0. 0. 0. 1. 0. 1.]\n"
     ]
    }
   ],
   "source": [
    "print(struct_np[0:20])"
   ]
  },
  {
   "cell_type": "code",
   "execution_count": 26,
   "metadata": {},
   "outputs": [
    {
     "name": "stdout",
     "output_type": "stream",
     "text": [
      "['__class__', '__delattr__', '__dict__', '__dir__', '__doc__', '__eq__', '__format__', '__ge__', '__getattribute__', '__gt__', '__hash__', '__init__', '__init_subclass__', '__le__', '__lt__', '__module__', '__ne__', '__new__', '__reduce__', '__reduce_ex__', '__repr__', '__setattr__', '__sizeof__', '__str__', '__subclasshook__', '__weakref__', 'batch_size', 'beta1_dis', 'beta1_gen', 'beta2_dis', 'beta2_gen', 'dict', 'gkernlen', 'gkernsig', 'label_dims', 'lr_dis', 'lr_gen', 'noise_dims', 'numIter', 'save', 'update', 'use_Gauss']\n"
     ]
    }
   ],
   "source": [
    "import os\n",
    "import utils\n",
    "\n",
    "train_path = 'Data/trainset.nc'\n",
    "output_dir = 'Result'\n",
    "restore_from = None\n",
    "json_path = os.path.join(output_dir,'Params.json')\n",
    "\n",
    "params = utils.Params(json_path)\n",
    "print(dir(params))"
   ]
  },
  {
   "cell_type": "code",
   "execution_count": 27,
   "metadata": {},
   "outputs": [],
   "source": [
    "import os\n",
    "import logging\n",
    "from tqdm import tqdm\n",
    "\n",
    "from torch.autograd import Variable\n",
    "from torchvision.utils import save_image\n",
    "import torch.nn.functional as F \n",
    "import torch\n",
    "import utils\n",
    "import scipy.io as io\n",
    "\n",
    "\n",
    "Tensor = torch.cuda.FloatTensor if torch.cuda.is_available() else torch.FloatTensor\n",
    "\n",
    "\n",
    "\n",
    "def sample_images(generator, labels, cuda=False):   \n",
    "    if cuda:\n",
    "        z = Variable(torch.cuda.FloatTensor(labels.size(0), generator.noise_dim).normal_())\n",
    "        z.cuda()\n",
    "    else:\n",
    "        z = Variable(torch.randn(labels.size(0), generator.noise_dim))        \n",
    "    return generator(labels, z), z\n",
    "\n",
    "def visualize_training_generator(generator, fig_path, cuda=False, n_row = 4, n_col = 4):\n",
    "    generator.eval()\n",
    "    wavelengths = torch.linspace(-1, 1, n_col).view(1, n_col).repeat(n_row, 1).view(-1, 1)\n",
    "    angles = torch.linspace(-1, 1, n_row).view(n_row, 1).repeat(1, n_col).view(-1, 1)\n",
    "    labels = torch.cat([wavelengths, angles], -1).type(Tensor)\n",
    "    imgs, _ = sample_images(generator, labels, cuda)\n",
    "\n",
    "    paddings = (0, 0, 0, imgs.size(2)-1)\n",
    "    imgs = F.pad(imgs, paddings, mode='reflect')\n",
    "    save_image(imgs, fig_path, n_row)\n",
    "    generator.train()"
   ]
  },
  {
   "cell_type": "code",
   "execution_count": 61,
   "metadata": {},
   "outputs": [
    {
     "name": "stdout",
     "output_type": "stream",
     "text": [
      "torch.Size([16, 128])\n"
     ]
    }
   ],
   "source": [
    "print(z.shape)"
   ]
  },
  {
   "cell_type": "code",
   "execution_count": 28,
   "metadata": {},
   "outputs": [
    {
     "name": "stdout",
     "output_type": "stream",
     "text": [
      "tensor([[-1.0000],\n",
      "        [-0.3333],\n",
      "        [ 0.3333],\n",
      "        [ 1.0000],\n",
      "        [-1.0000],\n",
      "        [-0.3333],\n",
      "        [ 0.3333],\n",
      "        [ 1.0000],\n",
      "        [-1.0000],\n",
      "        [-0.3333],\n",
      "        [ 0.3333],\n",
      "        [ 1.0000],\n",
      "        [-1.0000],\n",
      "        [-0.3333],\n",
      "        [ 0.3333],\n",
      "        [ 1.0000]])\n"
     ]
    }
   ],
   "source": [
    "cuda=False\n",
    "n_row = 4\n",
    "n_col = 4\n",
    "\n",
    "wavelengths = torch.linspace(-1, 1, n_col).view(1, n_col).repeat(n_row, 1).view(-1, 1)\n",
    "print(wavelengths)\n"
   ]
  },
  {
   "cell_type": "code",
   "execution_count": 29,
   "metadata": {},
   "outputs": [
    {
     "name": "stdout",
     "output_type": "stream",
     "text": [
      "tensor([[-1.0000],\n",
      "        [-1.0000],\n",
      "        [-1.0000],\n",
      "        [-1.0000],\n",
      "        [-0.3333],\n",
      "        [-0.3333],\n",
      "        [-0.3333],\n",
      "        [-0.3333],\n",
      "        [ 0.3333],\n",
      "        [ 0.3333],\n",
      "        [ 0.3333],\n",
      "        [ 0.3333],\n",
      "        [ 1.0000],\n",
      "        [ 1.0000],\n",
      "        [ 1.0000],\n",
      "        [ 1.0000]])\n"
     ]
    }
   ],
   "source": [
    "angles = torch.linspace(-1, 1, n_row).view(n_row, 1).repeat(1, n_col).view(-1, 1)\n",
    "print(angles)"
   ]
  },
  {
   "cell_type": "code",
   "execution_count": 30,
   "metadata": {},
   "outputs": [
    {
     "name": "stdout",
     "output_type": "stream",
     "text": [
      "tensor([[-1.0000, -1.0000],\n",
      "        [-0.3333, -1.0000],\n",
      "        [ 0.3333, -1.0000],\n",
      "        [ 1.0000, -1.0000],\n",
      "        [-1.0000, -0.3333],\n",
      "        [-0.3333, -0.3333],\n",
      "        [ 0.3333, -0.3333],\n",
      "        [ 1.0000, -0.3333],\n",
      "        [-1.0000,  0.3333],\n",
      "        [-0.3333,  0.3333],\n",
      "        [ 0.3333,  0.3333],\n",
      "        [ 1.0000,  0.3333],\n",
      "        [-1.0000,  1.0000],\n",
      "        [-0.3333,  1.0000],\n",
      "        [ 0.3333,  1.0000],\n",
      "        [ 1.0000,  1.0000]], device='cuda:0')\n"
     ]
    }
   ],
   "source": [
    "labels = torch.cat([wavelengths, angles], -1).type(Tensor)\n",
    "print(labels)"
   ]
  },
  {
   "cell_type": "code",
   "execution_count": 63,
   "metadata": {},
   "outputs": [],
   "source": [
    "from torch.autograd import Variable\n",
    "from model.net import Generator, Discriminator\n",
    "\n",
    "params.lambda_gp  = 10.0\n",
    "params.n_critic = 1\n",
    "params.cuda = torch.cuda.is_available()\n",
    "\n",
    "params.batch_size = int(params.batch_size)\n",
    "params.numIter = int(params.numIter)\n",
    "params.noise_dims = int(params.noise_dims)\n",
    "params.label_dims = int(params.label_dims)\n",
    "params.gkernlen = int(params.gkernlen)\n",
    "\n",
    "generator = Generator(params).cuda()\n",
    "\n",
    "#z = Variable(torch.randn(labels.size(0), generator.noise_dim))        \n",
    "#z = Variable(torch.cuda.FloatTensor(labels.size(0), generator.noise_dim).normal_())\n",
    "z = Variable(torch.randn(labels.size(0), params.noise_dims).type(Tensor))\n",
    "z =z.cuda()"
   ]
  },
  {
   "cell_type": "code",
   "execution_count": 32,
   "metadata": {},
   "outputs": [
    {
     "data": {
      "text/plain": [
       "True"
      ]
     },
     "execution_count": 32,
     "metadata": {},
     "output_type": "execute_result"
    }
   ],
   "source": [
    "torch.cuda.is_available()"
   ]
  },
  {
   "cell_type": "code",
   "execution_count": 33,
   "metadata": {},
   "outputs": [
    {
     "data": {
      "text/plain": [
       "16"
      ]
     },
     "execution_count": 33,
     "metadata": {},
     "output_type": "execute_result"
    }
   ],
   "source": [
    "labels.size(0)"
   ]
  },
  {
   "cell_type": "code",
   "execution_count": 71,
   "metadata": {},
   "outputs": [],
   "source": [
    "labels = labels.cuda()"
   ]
  },
  {
   "cell_type": "code",
   "execution_count": 72,
   "metadata": {},
   "outputs": [],
   "source": [
    "z= z.cuda()"
   ]
  },
  {
   "cell_type": "code",
   "execution_count": 73,
   "metadata": {},
   "outputs": [],
   "source": [
    "fake_imgs = generator(labels, z)"
   ]
  },
  {
   "cell_type": "code",
   "execution_count": 74,
   "metadata": {},
   "outputs": [
    {
     "name": "stdout",
     "output_type": "stream",
     "text": [
      "torch.Size([828, 1, 32, 128])\n"
     ]
    }
   ],
   "source": [
    "print(fake_imgs.shape)"
   ]
  },
  {
   "cell_type": "code",
   "execution_count": 75,
   "metadata": {},
   "outputs": [
    {
     "data": {
      "text/plain": [
       "Discriminator(\n",
       "  (CONV): Sequential(\n",
       "    (0): Conv2d_meta(\n",
       "      (conv2d): Conv2d(1, 64, kernel_size=(5, 5), stride=(2, 2))\n",
       "    )\n",
       "    (1): LeakyReLU(negative_slope=0.2)\n",
       "  )\n",
       "  (FC): Sequential(\n",
       "    (0): Linear(in_features=65538, out_features=512, bias=True)\n",
       "    (1): LayerNorm((512,), eps=1e-05, elementwise_affine=True)\n",
       "    (2): LeakyReLU(negative_slope=0.2)\n",
       "    (3): Linear(in_features=512, out_features=512, bias=True)\n",
       "    (4): LayerNorm((512,), eps=1e-05, elementwise_affine=True)\n",
       "    (5): LeakyReLU(negative_slope=0.2)\n",
       "    (6): Linear(in_features=512, out_features=1, bias=True)\n",
       "  )\n",
       ")"
      ]
     },
     "execution_count": 75,
     "metadata": {},
     "output_type": "execute_result"
    }
   ],
   "source": [
    "discriminator = Discriminator(params)\n",
    "discriminator.cuda()"
   ]
  },
  {
   "cell_type": "code",
   "execution_count": 76,
   "metadata": {},
   "outputs": [
    {
     "name": "stdout",
     "output_type": "stream",
     "text": [
      "{'batch_size': 1024, 'noise_dims': 128, 'label_dims': 2, 'numIter': 2000, 'gkernlen': 3, 'gkernsig': 2.0, 'lr_gen': 4e-05, 'lr_dis': 4e-05, 'beta1_gen': 0.9, 'beta2_gen': 0.99, 'beta1_dis': 0.9, 'beta2_dis': 0.99, 'use_Gauss': 1.0, 'lambda_gp': 10.0, 'n_critic': 1, 'cuda': True, 'wc': tensor(900., dtype=torch.float64), 'ac': tensor(60., dtype=torch.float64), 'wspan': tensor(400., dtype=torch.float64), 'aspan': tensor(25., dtype=torch.float64)}\n"
     ]
    }
   ],
   "source": [
    "#TODO: check input shape for gan\n",
    "print(params.dict)\n",
    "\n",
    "#TODO: data_loader.py -> train_transformer change. \n",
    "\n",
    "#TODO: wavlength, angle (label) part deletion - net.py, train_and_evaluate.py, data_loader.py\n",
    "\n"
   ]
  },
  {
   "cell_type": "code",
   "execution_count": 77,
   "metadata": {},
   "outputs": [],
   "source": [
    "dataloader = fetch_dataloader('trainingset_1k.nc', params)"
   ]
  },
  {
   "cell_type": "code",
   "execution_count": 78,
   "metadata": {},
   "outputs": [
    {
     "data": {
      "text/plain": [
       "<data_loader.MetaDataset at 0x7fa11a7d2fd0>"
      ]
     },
     "execution_count": 78,
     "metadata": {},
     "output_type": "execute_result"
    }
   ],
   "source": [
    "dataloader.dataset"
   ]
  },
  {
   "cell_type": "code",
   "execution_count": 79,
   "metadata": {},
   "outputs": [],
   "source": [
    "temp = []\n",
    "for i, (real_imgs, labels) in enumerate(dataloader):\n",
    "    real_imgs, labels = real_imgs.cuda(), labels.cuda()\n",
    "    real_imgs, labels = Variable(real_imgs.type(Tensor)), Variable(labels.type(Tensor))\n",
    "    real_validity = discriminator(real_imgs, labels)\n",
    "    temp.append(real_validity)"
   ]
  },
  {
   "cell_type": "code",
   "execution_count": 80,
   "metadata": {},
   "outputs": [
    {
     "name": "stdout",
     "output_type": "stream",
     "text": [
      "torch.Size([828, 1, 32, 128])\n"
     ]
    }
   ],
   "source": [
    "for i, (real_imgs, labels) in enumerate(dataloader):\n",
    "    print(real_imgs.shape)"
   ]
  },
  {
   "cell_type": "code",
   "execution_count": 81,
   "metadata": {},
   "outputs": [
    {
     "data": {
      "text/plain": [
       "10.0"
      ]
     },
     "execution_count": 81,
     "metadata": {},
     "output_type": "execute_result"
    }
   ],
   "source": [
    "params.lambda_gp"
   ]
  },
  {
   "cell_type": "code",
   "execution_count": 82,
   "metadata": {},
   "outputs": [],
   "source": [
    "from train_and_evaluate import compute_gradient_penalty\n",
    "\n",
    "\n",
    "# wl, ang sweep part deletion\n",
    "\n",
    "\n",
    "# dataloader part alteration\n",
    "\n",
    "\n",
    "# \n"
   ]
  },
  {
   "cell_type": "code",
   "execution_count": 83,
   "metadata": {},
   "outputs": [],
   "source": [
    "def random_x_translation(img):\n",
    "\ttranslation = int(torch.randint(0, img.size(-1), (1,)))\n",
    "\tout = torch.cat([img[..., translation:], img[..., :translation]], dim=-1)\n",
    "\treturn out, translation\n"
   ]
  },
  {
   "cell_type": "code",
   "execution_count": 84,
   "metadata": {},
   "outputs": [
    {
     "data": {
      "text/plain": [
       "tensor([[-1., -1., -1.,  ..., -1., -1., -1.],\n",
       "        [-1., -1., -1.,  ..., -1., -1., -1.],\n",
       "        [-1., -1., -1.,  ..., -1., -1., -1.],\n",
       "        ...,\n",
       "        [-1., -1., -1.,  ..., -1., -1., -1.],\n",
       "        [-1., -1., -1.,  ..., -1., -1., -1.],\n",
       "        [-1., -1., -1.,  ..., -1., -1., -1.]])"
      ]
     },
     "execution_count": 84,
     "metadata": {},
     "output_type": "execute_result"
    }
   ],
   "source": [
    "img.squeeze()"
   ]
  },
  {
   "cell_type": "code",
   "execution_count": 85,
   "metadata": {},
   "outputs": [],
   "source": [
    "img2, trans = random_x_translation(img.squeeze())"
   ]
  },
  {
   "cell_type": "code",
   "execution_count": 86,
   "metadata": {},
   "outputs": [
    {
     "data": {
      "text/plain": [
       "<matplotlib.image.AxesImage at 0x7fa11a6912b0>"
      ]
     },
     "execution_count": 86,
     "metadata": {},
     "output_type": "execute_result"
    },
    {
     "data": {
      "image/png": "[encoded data removed]",
      "text/plain": [
       "<Figure size 432x288 with 1 Axes>"
      ]
     },
     "metadata": {
      "needs_background": "light"
     },
     "output_type": "display_data"
    }
   ],
   "source": [
    "plt.imshow(img.squeeze())"
   ]
  },
  {
   "cell_type": "code",
   "execution_count": 87,
   "metadata": {},
   "outputs": [
    {
     "data": {
      "text/plain": [
       "<matplotlib.image.AxesImage at 0x7fa11a83d518>"
      ]
     },
     "execution_count": 87,
     "metadata": {},
     "output_type": "execute_result"
    },
    {
     "data": {
      "image/png": "[encoded data removed]",
      "text/plain": [
       "<Figure size 432x288 with 1 Axes>"
      ]
     },
     "metadata": {
      "needs_background": "light"
     },
     "output_type": "display_data"
    }
   ],
   "source": [
    "plt.imshow(img2)"
   ]
  },
  {
   "cell_type": "code",
   "execution_count": 88,
   "metadata": {},
   "outputs": [
    {
     "data": {
      "text/plain": [
       "108"
      ]
     },
     "execution_count": 88,
     "metadata": {},
     "output_type": "execute_result"
    }
   ],
   "source": [
    "trans"
   ]
  },
  {
   "cell_type": "code",
   "execution_count": 89,
   "metadata": {},
   "outputs": [],
   "source": [
    "def compute_gradient_penalty(D, real_samples, fake_samples, labels, cuda=False):\n",
    "    \"\"\"Calculates the gradient penalty loss for WGAN GP\"\"\"\n",
    "    # Random weight term for interpolation between real and fake samples\n",
    "    alpha = torch.rand(real_samples.size(0), 1, 1, 1).type(Tensor)\n",
    "    # Get random interpolation between real and fake samples\n",
    "    interpolates = (alpha * real_samples + ((1 - alpha) * fake_samples)).type(Tensor).requires_grad_(True)\n",
    "    d_interpolates = D(interpolates, labels)\n",
    "\n",
    "    fake = Variable(Tensor(real_samples.size(0), 1).fill_(1.0), requires_grad=False)\n",
    "    # Get gradient w.r.t. interpolates\n",
    "    gradients = torch.autograd.grad(\n",
    "        outputs=d_interpolates,\n",
    "        inputs=interpolates,\n",
    "        grad_outputs=fake,\n",
    "        create_graph=True,\n",
    "        retain_graph=True,\n",
    "        only_inputs=True,\n",
    "    )[0]\n",
    "    gradients = gradients.view(gradients.size(0), -1)\n",
    "    gradient_penalty = ((gradients.norm(2, dim=1) - 1) ** 2).mean()\n",
    "    return gradient_penalty"
   ]
  },
  {
   "cell_type": "code",
   "execution_count": 90,
   "metadata": {},
   "outputs": [
    {
     "data": {
      "text/plain": [
       "{'batch_size': 1024,\n",
       " 'noise_dims': 128,\n",
       " 'label_dims': 2,\n",
       " 'numIter': 2000,\n",
       " 'gkernlen': 3,\n",
       " 'gkernsig': 2.0,\n",
       " 'lr_gen': 4e-05,\n",
       " 'lr_dis': 4e-05,\n",
       " 'beta1_gen': 0.9,\n",
       " 'beta2_gen': 0.99,\n",
       " 'beta1_dis': 0.9,\n",
       " 'beta2_dis': 0.99,\n",
       " 'use_Gauss': 1.0,\n",
       " 'lambda_gp': 10.0,\n",
       " 'n_critic': 1,\n",
       " 'cuda': True,\n",
       " 'wc': tensor(900., dtype=torch.float64),\n",
       " 'ac': tensor(60., dtype=torch.float64),\n",
       " 'wspan': tensor(400., dtype=torch.float64),\n",
       " 'aspan': tensor(25., dtype=torch.float64)}"
      ]
     },
     "execution_count": 90,
     "metadata": {},
     "output_type": "execute_result"
    }
   ],
   "source": [
    "params.dict"
   ]
  },
  {
   "cell_type": "code",
   "execution_count": 91,
   "metadata": {},
   "outputs": [
    {
     "data": {
      "text/plain": [
       "10.0"
      ]
     },
     "execution_count": 91,
     "metadata": {},
     "output_type": "execute_result"
    }
   ],
   "source": [
    "params.lambda_gp"
   ]
  },
  {
   "cell_type": "code",
   "execution_count": 98,
   "metadata": {},
   "outputs": [],
   "source": [
    "real_samples = real_imgs.cuda()\n",
    "fake_samples = fake_imgs.cuda()\n",
    "labels = labels.cuda()\n",
    "\n",
    "alpha = torch.rand(real_samples.size(0), 1, 1, 1).type(Tensor)\n",
    "# Get random interpolation between real and fake samples\n",
    "interpolates = (alpha * real_samples + ((1 - alpha) * fake_samples)).type(Tensor).requires_grad_(True)\n",
    "d_interpolates = discriminator(interpolates, labels)\n",
    "\n",
    "fake = Variable(Tensor(real_samples.size(0), 1).fill_(1.0), requires_grad=False)\n",
    "# Get gradient w.r.t. interpolates\n",
    "gradients = torch.autograd.grad(\n",
    "    outputs=d_interpolates,\n",
    "    inputs=interpolates,\n",
    "    grad_outputs=fake,\n",
    "    create_graph=True,\n",
    "    retain_graph=True,\n",
    "    only_inputs=True,\n",
    ")[0]\n",
    "gradients = gradients.view(gradients.size(0), -1)\n",
    "gradient_penalty = ((gradients.norm(2, dim=1) - 1) ** 2).mean()"
   ]
  },
  {
   "cell_type": "code",
   "execution_count": 134,
   "metadata": {},
   "outputs": [
    {
     "name": "stdout",
     "output_type": "stream",
     "text": [
      "torch.Size([828, 4096])\n",
      "torch.Size([])\n"
     ]
    }
   ],
   "source": [
    "print(gradients.shape)\n",
    "print(gradient_penalty.shape)"
   ]
  },
  {
   "cell_type": "code",
   "execution_count": 135,
   "metadata": {},
   "outputs": [
    {
     "name": "stdout",
     "output_type": "stream",
     "text": [
      "tensor(0.1365, device='cuda:0', grad_fn=<MeanBackward0>)\n"
     ]
    }
   ],
   "source": [
    "print(gradient_penalty)"
   ]
  },
  {
   "cell_type": "code",
   "execution_count": 137,
   "metadata": {},
   "outputs": [
    {
     "data": {
      "text/plain": [
       "torch.Size([828])"
      ]
     },
     "execution_count": 137,
     "metadata": {},
     "output_type": "execute_result"
    }
   ],
   "source": [
    "gradients.norm(2, dim=1).shape"
   ]
  },
  {
   "cell_type": "code",
   "execution_count": 138,
   "metadata": {},
   "outputs": [
    {
     "data": {
      "text/plain": [
       "tensor([-0.3841, -0.4428, -0.3002, -0.5490, -0.3032, -0.5417, -0.5242, -0.2191,\n",
       "        -0.5153, -0.3061, -0.2156, -0.2385, -0.4219, -0.3300, -0.1380, -0.5213,\n",
       "        -0.2446, -0.2628, -0.1717, -0.4690, -0.2391, -0.3694, -0.4825, -0.4412,\n",
       "        -0.3755, -0.1869, -0.2753, -0.5202, -0.3787, -0.4041, -0.4709, -0.4021,\n",
       "        -0.5197, -0.0556, -0.3984, -0.2182, -0.4323, -0.2920, -0.3729, -0.2005,\n",
       "        -0.2743, -0.2916, -0.2735, -0.2073, -0.0748, -0.1732, -0.3274, -0.3996,\n",
       "        -0.2510, -0.2975, -0.1722, -0.5300, -0.2609, -0.0141, -0.5263, -0.3360,\n",
       "        -0.3860, -0.3298, -0.3497, -0.5597, -0.2122, -0.2051, -0.2289, -0.4179,\n",
       "        -0.2945, -0.3707, -0.3628, -0.0037, -0.2004, -0.4082, -0.3344, -0.1571,\n",
       "        -0.4447, -0.4067, -0.5296, -0.1876, -0.2902, -0.3724,  0.0080,  0.0297,\n",
       "        -0.1175, -0.3045, -0.3574, -0.3170, -0.4183, -0.5109, -0.5010, -0.3206,\n",
       "        -0.3242, -0.5214, -0.4664, -0.2174, -0.4650, -0.4920, -0.3001, -0.3770,\n",
       "        -0.2746, -0.3739, -0.3318, -0.3604, -0.5416, -0.2006, -0.2093, -0.2630,\n",
       "        -0.2484, -0.5349, -0.3031, -0.3807, -0.4608, -0.4827, -0.5013, -0.4986,\n",
       "        -0.3267, -0.3488, -0.2594, -0.2175, -0.3914, -0.4793, -0.2937, -0.1548,\n",
       "        -0.3278, -0.2721, -0.4735, -0.2849, -0.1785, -0.3916, -0.3196, -0.5021,\n",
       "        -0.5086, -0.5588, -0.2930, -0.1969, -0.3187, -0.2577, -0.5071, -0.3019,\n",
       "        -0.3111, -0.3183, -0.4518, -0.3168, -0.3788, -0.5491, -0.2391, -0.0674,\n",
       "        -0.3198, -0.5085, -0.3391, -0.3563, -0.3759, -0.2876, -0.3592, -0.2019,\n",
       "        -0.3694, -0.2822, -0.2277, -0.4599, -0.2504, -0.1966, -0.1033, -0.4933,\n",
       "        -0.4408, -0.3328, -0.4088, -0.2793, -0.5574, -0.5805, -0.5432, -0.2282,\n",
       "        -0.2063, -0.2590, -0.5500, -0.2393, -0.4660, -0.4026, -0.2855, -0.5654,\n",
       "        -0.4428, -0.5538, -0.4360, -0.2590, -0.3112, -0.1961, -0.0420, -0.3550,\n",
       "        -0.3782, -0.2556, -0.2396, -0.0717, -0.3238, -0.2373, -0.4309, -0.3181,\n",
       "        -0.5497, -0.2122, -0.3313, -0.3758, -0.5192, -0.3971, -0.3261, -0.2334,\n",
       "        -0.2131, -0.4238, -0.2482, -0.2360, -0.4999, -0.2862, -0.2537, -0.1815,\n",
       "        -0.4377, -0.1430, -0.4030, -0.3271, -0.4010, -0.3891, -0.5618, -0.5379,\n",
       "        -0.2919, -0.2553, -0.3733, -0.3795, -0.3623, -0.1972, -0.3938, -0.1924,\n",
       "        -0.3154, -0.5975, -0.2843, -0.3966, -0.5635, -0.2726, -0.5080, -0.3950,\n",
       "        -0.2781, -0.4554, -0.2990, -0.3102, -0.4703, -0.4147, -0.2657, -0.2603,\n",
       "        -0.2728, -0.5209, -0.4811, -0.3577, -0.3095, -0.2625, -0.2103, -0.3198,\n",
       "        -0.3991, -0.3491, -0.3555, -0.4054, -0.4642, -0.2459, -0.1731, -0.2912,\n",
       "        -0.2119, -0.5693, -0.3235, -0.4374, -0.4149, -0.3427, -0.3131, -0.5411,\n",
       "        -0.0608, -0.3962, -0.3714, -0.4271, -0.1981, -0.3778, -0.3592, -0.2928,\n",
       "        -0.2898, -0.3752, -0.3919, -0.5226, -0.3558, -0.3336, -0.2671, -0.5269,\n",
       "        -0.3959, -0.2794, -0.4555, -0.5222, -0.3822, -0.1749, -0.3555, -0.2550,\n",
       "        -0.4957, -0.4477, -0.5649, -0.2272, -0.2910, -0.3413, -0.5418, -0.2107,\n",
       "        -0.4178, -0.3345, -0.4076, -0.4024, -0.2850, -0.2186, -0.4343, -0.3056,\n",
       "        -0.0058, -0.4725, -0.1817, -0.3177, -0.2581, -0.1271, -0.2162, -0.1468,\n",
       "        -0.4624, -0.3302, -0.3301, -0.4707, -0.3515, -0.2229, -0.4159, -0.4654,\n",
       "        -0.2712, -0.5498, -0.3677, -0.2489, -0.3937, -0.5431, -0.4100, -0.5609,\n",
       "        -0.1110, -0.2977, -0.5140, -0.3559, -0.4765, -0.2436, -0.2280, -0.2810,\n",
       "        -0.3333, -0.5375, -0.5187, -0.3670, -0.5836, -0.0956, -0.4844, -0.1991,\n",
       "        -0.2716, -0.3430, -0.3281, -0.2852, -0.3918, -0.4014, -0.2779, -0.4038,\n",
       "        -0.2708, -0.2447, -0.4036, -0.3906, -0.4830, -0.5178, -0.2260, -0.2157,\n",
       "        -0.3603, -0.4113, -0.2430, -0.2955, -0.2572, -0.2461, -0.3945, -0.3572,\n",
       "        -0.3512, -0.1192, -0.3835, -0.2458, -0.2382, -0.3322, -0.3636, -0.3809,\n",
       "        -0.2681, -0.2149, -0.2951, -0.3111, -0.3888, -0.2701, -0.2388, -0.3227,\n",
       "        -0.1191, -0.3209, -0.5158, -0.2793, -0.1742, -0.3891, -0.5288, -0.3984,\n",
       "        -0.2569, -0.4172, -0.3498, -0.3222, -0.2633, -0.3642, -0.3643, -0.2422,\n",
       "        -0.5459, -0.2536, -0.3350, -0.4186, -0.2302, -0.2602, -0.5123, -0.3438,\n",
       "        -0.3484, -0.3560, -0.3937, -0.5212, -0.4328, -0.0929, -0.2969, -0.5556,\n",
       "        -0.2272, -0.2486, -0.1522, -0.4072, -0.5661, -0.4632, -0.3702, -0.2928,\n",
       "        -0.4561, -0.5432, -0.4114, -0.4318, -0.1410, -0.4188, -0.3010, -0.3004,\n",
       "        -0.3487, -0.5365, -0.1881, -0.2010, -0.4228, -0.3002, -0.4190, -0.3146,\n",
       "        -0.4082, -0.2333, -0.4348, -0.1361, -0.5222, -0.0709, -0.1896, -0.2346,\n",
       "        -0.4614, -0.2964, -0.4582, -0.3649, -0.4125, -0.3459, -0.2721, -0.3436,\n",
       "        -0.3936, -0.0926, -0.2751, -0.5552, -0.2517, -0.3029, -0.4041, -0.2406,\n",
       "        -0.2439, -0.1758, -0.2077, -0.2502, -0.5919, -0.5935, -0.2683, -0.3372,\n",
       "        -0.1741, -0.2571, -0.2575, -0.5433, -0.4227, -0.2610, -0.3590, -0.5237,\n",
       "        -0.5033, -0.3608, -0.5175, -0.5232, -0.3921, -0.3843, -0.3144, -0.2815,\n",
       "        -0.3983, -0.3579, -0.3687, -0.1481, -0.5260, -0.3284, -0.3506, -0.4609,\n",
       "        -0.3582, -0.3006, -0.4575, -0.5155, -0.5142, -0.2515, -0.2799, -0.3470,\n",
       "        -0.5213, -0.4008, -0.4120, -0.3450, -0.3151, -0.4283, -0.3604, -0.2270,\n",
       "        -0.2047, -0.2716, -0.4331, -0.3572, -0.2770, -0.4502, -0.3962, -0.4545,\n",
       "        -0.5354, -0.2295, -0.4717, -0.4933, -0.1631, -0.5507, -0.3536, -0.3770,\n",
       "        -0.2920, -0.1111, -0.3330, -0.2578, -0.2351, -0.5420, -0.2586, -0.5613,\n",
       "        -0.3595, -0.4698, -0.2998, -0.5268, -0.2118, -0.4148, -0.5189, -0.4214,\n",
       "        -0.4532, -0.3083, -0.3297, -0.1838, -0.3502, -0.3427, -0.5516, -0.2278,\n",
       "        -0.1883, -0.4869, -0.3064, -0.4862, -0.4839, -0.2553, -0.3320, -0.2176,\n",
       "        -0.3989, -0.3745, -0.5028, -0.3160, -0.2620, -0.4693, -0.2263, -0.2421,\n",
       "        -0.3680, -0.3617, -0.3369, -0.2101, -0.3060, -0.0902, -0.4066, -0.0761,\n",
       "        -0.3265, -0.1875, -0.3833, -0.4607, -0.3091, -0.5137, -0.2611, -0.4443,\n",
       "        -0.3818, -0.3254, -0.2618, -0.3064, -0.2344, -0.3828, -0.3281, -0.3258,\n",
       "        -0.4768, -0.3978, -0.3679, -0.3889, -0.5722, -0.3628, -0.4467, -0.2941,\n",
       "        -0.3631, -0.5300, -0.3028, -0.4339, -0.4986, -0.0863, -0.3845, -0.2275,\n",
       "        -0.3728, -0.3425, -0.4658, -0.3750, -0.2738, -0.2737, -0.2906, -0.3104,\n",
       "        -0.1845, -0.4175, -0.2832, -0.4982, -0.2350, -0.4605, -0.3402, -0.5114,\n",
       "        -0.5015, -0.3614, -0.3011, -0.4370, -0.4659, -0.3066, -0.3642, -0.4071,\n",
       "        -0.4927, -0.5020, -0.2852, -0.1708, -0.5025, -0.5322, -0.2718, -0.3543,\n",
       "        -0.2053, -0.1219, -0.5134, -0.0947, -0.5061, -0.5041, -0.2959, -0.3589,\n",
       "        -0.2028, -0.3327, -0.2918, -0.4022, -0.4693, -0.1603, -0.5036, -0.5307,\n",
       "        -0.3165, -0.4951, -0.2565, -0.2464, -0.1828, -0.3159, -0.3263, -0.3275,\n",
       "        -0.1897, -0.4086, -0.3451, -0.5985, -0.1543, -0.2853, -0.4403, -0.3171,\n",
       "        -0.2756, -0.3664, -0.2476, -0.3602, -0.3026, -0.3477, -0.4133, -0.2708,\n",
       "        -0.5921, -0.3542, -0.5050, -0.2125, -0.2421, -0.1056, -0.2271, -0.1239,\n",
       "        -0.5318, -0.4234, -0.5171, -0.5180, -0.3768, -0.2975, -0.4757, -0.2805,\n",
       "        -0.4231, -0.1049, -0.2626, -0.3591, -0.2662, -0.1275, -0.3716, -0.3430,\n",
       "        -0.1845, -0.4417, -0.3345, -0.1940, -0.2115, -0.5457, -0.4476, -0.2222,\n",
       "        -0.4445, -0.2351, -0.3353, -0.3760, -0.5670, -0.1915, -0.3146, -0.3304,\n",
       "        -0.5830, -0.4057, -0.2872, -0.3110, -0.1916, -0.2152, -0.1976, -0.5511,\n",
       "        -0.3420, -0.3916, -0.4905, -0.3614, -0.4485, -0.2502, -0.2642, -0.3588,\n",
       "        -0.3233, -0.1160, -0.2085, -0.4843, -0.2827, -0.4387, -0.5192, -0.4005,\n",
       "        -0.3077, -0.4999, -0.3888, -0.4841, -0.3626, -0.2507, -0.3849, -0.4490,\n",
       "        -0.5463, -0.1910, -0.3481, -0.2602, -0.2772, -0.1826, -0.3077, -0.5654,\n",
       "        -0.3267, -0.4481, -0.0036, -0.3838, -0.5755, -0.5784, -0.1278, -0.3436,\n",
       "        -0.4873, -0.2671, -0.2494, -0.4370, -0.4650, -0.4560, -0.5302, -0.2413,\n",
       "        -0.5009, -0.3127, -0.4179, -0.1668, -0.0420, -0.4120, -0.2241, -0.3579,\n",
       "        -0.4274, -0.3631, -0.4229, -0.2763, -0.3327, -0.5077, -0.2922, -0.3722,\n",
       "        -0.3415, -0.5690, -0.2422, -0.6065, -0.5476, -0.5102, -0.3237, -0.2498,\n",
       "        -0.5299, -0.4077, -0.4249, -0.5785, -0.1998, -0.2964, -0.2710, -0.4046,\n",
       "        -0.3675, -0.2827, -0.4895, -0.4859, -0.2492, -0.5260, -0.1254, -0.5582,\n",
       "        -0.5516, -0.2054, -0.4515, -0.5126, -0.4123, -0.3153, -0.2723, -0.3631,\n",
       "        -0.5504, -0.3289, -0.4982, -0.3118], device='cuda:0',\n",
       "       grad_fn=<SubBackward0>)"
      ]
     },
     "execution_count": 138,
     "metadata": {},
     "output_type": "execute_result"
    }
   ],
   "source": [
    "gradients.norm(2, dim=1) - 1"
   ]
  },
  {
   "cell_type": "code",
   "execution_count": 93,
   "metadata": {},
   "outputs": [
    {
     "name": "stdout",
     "output_type": "stream",
     "text": [
      "torch.Size([828, 1, 1, 1])\n"
     ]
    }
   ],
   "source": [
    "print(alpha.shape)"
   ]
  },
  {
   "cell_type": "code",
   "execution_count": 94,
   "metadata": {},
   "outputs": [
    {
     "name": "stdout",
     "output_type": "stream",
     "text": [
      "torch.Size([828, 1, 32, 128])\n"
     ]
    }
   ],
   "source": [
    "print(fake_samples.shape)"
   ]
  },
  {
   "cell_type": "code",
   "execution_count": 100,
   "metadata": {},
   "outputs": [
    {
     "name": "stdout",
     "output_type": "stream",
     "text": [
      "torch.Size([828, 4096])\n"
     ]
    }
   ],
   "source": [
    "print(gradients.shape)"
   ]
  },
  {
   "cell_type": "code",
   "execution_count": 121,
   "metadata": {},
   "outputs": [],
   "source": [
    "import torch\n",
    "\n",
    "a = torch.tensor([2., 3], requires_grad=True)\n",
    "b = torch.tensor([6., 4], requires_grad=True)"
   ]
  },
  {
   "cell_type": "code",
   "execution_count": 128,
   "metadata": {},
   "outputs": [
    {
     "data": {
      "text/plain": [
       "tensor([-12.,  65.], grad_fn=<SubBackward0>)"
      ]
     },
     "execution_count": 128,
     "metadata": {},
     "output_type": "execute_result"
    }
   ],
   "source": [
    "Q = 3*a**3 - b**2\n",
    "Q"
   ]
  },
  {
   "cell_type": "code",
   "execution_count": 125,
   "metadata": {},
   "outputs": [],
   "source": [
    "external_grad = torch.tensor([1.,])\n",
    "Q.sum().backward()"
   ]
  },
  {
   "cell_type": "code",
   "execution_count": 118,
   "metadata": {},
   "outputs": [
    {
     "name": "stdout",
     "output_type": "stream",
     "text": [
      "False\n",
      "tensor([True])\n"
     ]
    }
   ],
   "source": [
    "print(9*a**2 == a.grad)\n",
    "print(-2*b == b.grad)"
   ]
  },
  {
   "cell_type": "code",
   "execution_count": 129,
   "metadata": {},
   "outputs": [
    {
     "data": {
      "text/plain": [
       "(tensor([36., 81.]),)"
      ]
     },
     "execution_count": 129,
     "metadata": {},
     "output_type": "execute_result"
    }
   ],
   "source": [
    "loss = Q.sum()\n",
    "torch.autograd.grad(loss, a)"
   ]
  },
  {
   "cell_type": "code",
   "execution_count": 132,
   "metadata": {},
   "outputs": [
    {
     "data": {
      "text/plain": [
       "(tensor([36., 81.]),)"
      ]
     },
     "execution_count": 133,
     "metadata": {},
     "output_type": "execute_result"
    }
   ],
   "source": [
    "torch.autograd.grad((3*a**3 , b**2), a, grad_outputs=(torch.ones_like(3*a**3), 2 * torch.ones_like(b**2)))"
   ]
  },
  {
   "cell_type": "code",
   "execution_count": 1,
   "metadata": {},
   "outputs": [
    {
     "ename": "NameError",
     "evalue": "name 'imgs' is not defined",
     "output_type": "error",
     "traceback": [
      "\u001b[0;31m---------------------------------------------------------------------------\u001b[0m",
      "\u001b[0;31mNameError\u001b[0m                                 Traceback (most recent call last)",
      "\u001b[0;32m<ipython-input-1-b28d5a2b4fd1>\u001b[0m in \u001b[0;36m<module>\u001b[0;34m\u001b[0m\n\u001b[1;32m      1\u001b[0m \u001b[0;31m#train_and_evaluate.py - def visualize_training_generator\u001b[0m\u001b[0;34m\u001b[0m\u001b[0;34m\u001b[0m\u001b[0;34m\u001b[0m\u001b[0m\n\u001b[1;32m      2\u001b[0m \u001b[0;34m\u001b[0m\u001b[0m\n\u001b[0;32m----> 3\u001b[0;31m \u001b[0mpaddings\u001b[0m \u001b[0;34m=\u001b[0m \u001b[0;34m(\u001b[0m\u001b[0;36m0\u001b[0m\u001b[0;34m,\u001b[0m \u001b[0;36m0\u001b[0m\u001b[0;34m,\u001b[0m \u001b[0;36m0\u001b[0m\u001b[0;34m,\u001b[0m \u001b[0mimgs\u001b[0m\u001b[0;34m.\u001b[0m\u001b[0msize\u001b[0m\u001b[0;34m(\u001b[0m\u001b[0;36m2\u001b[0m\u001b[0;34m)\u001b[0m\u001b[0;34m-\u001b[0m\u001b[0;36m1\u001b[0m\u001b[0;34m)\u001b[0m\u001b[0;34m\u001b[0m\u001b[0;34m\u001b[0m\u001b[0m\n\u001b[0m\u001b[1;32m      4\u001b[0m \u001b[0mimgs\u001b[0m \u001b[0;34m=\u001b[0m \u001b[0mF\u001b[0m\u001b[0;34m.\u001b[0m\u001b[0mpad\u001b[0m\u001b[0;34m(\u001b[0m\u001b[0mimgs\u001b[0m\u001b[0;34m,\u001b[0m \u001b[0mpaddings\u001b[0m\u001b[0;34m,\u001b[0m \u001b[0mmode\u001b[0m\u001b[0;34m=\u001b[0m\u001b[0;34m'reflect'\u001b[0m\u001b[0;34m)\u001b[0m\u001b[0;34m\u001b[0m\u001b[0;34m\u001b[0m\u001b[0m\n",
      "\u001b[0;31mNameError\u001b[0m: name 'imgs' is not defined"
     ]
    }
   ],
   "source": [
    "#train_and_evaluate.py - def visualize_training_generator\n",
    "\n",
    "paddings = (0, 0, 0, imgs.size(2)-1)\n",
    "imgs = F.pad(imgs, paddings, mode='reflect')"
   ]
  },
  {
   "cell_type": "code",
   "execution_count": 46,
   "metadata": {},
   "outputs": [],
   "source": [
    "###padding test\n",
    "import torch\n",
    "\n",
    "paddings = (0,0,2,2,1,1)\n",
    "\n",
    "x = torch.zeros((4,4,4))\n",
    "x = x.unsqueeze(0)\n",
    "\n",
    "q = 0\n",
    "for i in range(4):\n",
    "    for j in range(4):\n",
    "        for k in range(4):\n",
    "            x[0][i][j][k] = q\n",
    "            q+=1"
   ]
  },
  {
   "cell_type": "code",
   "execution_count": 47,
   "metadata": {},
   "outputs": [],
   "source": [
    "import torch.nn.functional as F \n",
    "\n",
    "imgs = F.pad(x, paddings, mode='reflect')"
   ]
  },
  {
   "cell_type": "code",
   "execution_count": 49,
   "metadata": {},
   "outputs": [
    {
     "data": {
      "text/plain": [
       "torch.Size([1, 6, 8, 4])"
      ]
     },
     "execution_count": 49,
     "metadata": {},
     "output_type": "execute_result"
    }
   ],
   "source": [
    "imgs.shape"
   ]
  },
  {
   "cell_type": "code",
   "execution_count": 18,
   "metadata": {},
   "outputs": [
    {
     "data": {
      "text/plain": [
       "torch.Size([1, 4, 8, 4])"
      ]
     },
     "execution_count": 18,
     "metadata": {},
     "output_type": "execute_result"
    }
   ],
   "source": [
    "imgs.shape"
   ]
  },
  {
   "cell_type": "code",
   "execution_count": 40,
   "metadata": {},
   "outputs": [
    {
     "ename": "NotImplementedError",
     "evalue": "Only 2D, 3D, 4D, 5D padding with non-constant padding are supported for now",
     "output_type": "error",
     "traceback": [
      "\u001b[0;31m---------------------------------------------------------------------------\u001b[0m",
      "\u001b[0;31mNotImplementedError\u001b[0m                       Traceback (most recent call last)",
      "\u001b[0;32m<ipython-input-40-0308fe3c73ca>\u001b[0m in \u001b[0;36m<module>\u001b[0;34m\u001b[0m\n\u001b[1;32m      1\u001b[0m \u001b[0mB\u001b[0m \u001b[0;34m=\u001b[0m \u001b[0mtorch\u001b[0m\u001b[0;34m.\u001b[0m\u001b[0mtensor\u001b[0m\u001b[0;34m(\u001b[0m\u001b[0;34m[\u001b[0m\u001b[0;34m[\u001b[0m\u001b[0;34m[\u001b[0m\u001b[0;36m1\u001b[0m\u001b[0;34m,\u001b[0m\u001b[0;36m2\u001b[0m\u001b[0;34m,\u001b[0m\u001b[0;36m3\u001b[0m\u001b[0;34m,\u001b[0m\u001b[0;36m4\u001b[0m\u001b[0;34m,\u001b[0m\u001b[0;36m5.\u001b[0m\u001b[0;34m]\u001b[0m\u001b[0;34m]\u001b[0m\u001b[0;34m,\u001b[0m\u001b[0;34m[\u001b[0m\u001b[0;34m[\u001b[0m\u001b[0;36m6\u001b[0m\u001b[0;34m,\u001b[0m\u001b[0;36m7\u001b[0m\u001b[0;34m,\u001b[0m\u001b[0;36m8\u001b[0m\u001b[0;34m,\u001b[0m\u001b[0;36m9\u001b[0m\u001b[0;34m,\u001b[0m\u001b[0;36m10\u001b[0m\u001b[0;34m]\u001b[0m\u001b[0;34m]\u001b[0m\u001b[0;34m]\u001b[0m\u001b[0;34m)\u001b[0m\u001b[0;34m\u001b[0m\u001b[0;34m\u001b[0m\u001b[0m\n\u001b[0;32m----> 2\u001b[0;31m \u001b[0mF\u001b[0m\u001b[0;34m.\u001b[0m\u001b[0mpad\u001b[0m\u001b[0;34m(\u001b[0m\u001b[0mB\u001b[0m\u001b[0;34m,\u001b[0m \u001b[0;34m(\u001b[0m\u001b[0;36m2\u001b[0m\u001b[0;34m,\u001b[0m\u001b[0;36m3\u001b[0m\u001b[0;34m,\u001b[0m\u001b[0;36m0\u001b[0m\u001b[0;34m,\u001b[0m\u001b[0;36m0\u001b[0m\u001b[0;34m,\u001b[0m\u001b[0;36m1\u001b[0m\u001b[0;34m,\u001b[0m\u001b[0;36m1\u001b[0m\u001b[0;34m)\u001b[0m\u001b[0;34m,\u001b[0m \u001b[0;34m'reflect'\u001b[0m\u001b[0;34m)\u001b[0m\u001b[0;34m\u001b[0m\u001b[0;34m\u001b[0m\u001b[0m\n\u001b[0m",
      "\u001b[0;32m~/dongjin/venv/lib/python3.6/site-packages/torch/nn/functional.py\u001b[0m in \u001b[0;36m_pad\u001b[0;34m(input, pad, mode, value)\u001b[0m\n\u001b[1;32m   4205\u001b[0m                 \u001b[0;32mraise\u001b[0m \u001b[0mNotImplementedError\u001b[0m\u001b[0;34m\u001b[0m\u001b[0;34m\u001b[0m\u001b[0m\n\u001b[1;32m   4206\u001b[0m         \u001b[0;32melse\u001b[0m\u001b[0;34m:\u001b[0m\u001b[0;34m\u001b[0m\u001b[0;34m\u001b[0m\u001b[0m\n\u001b[0;32m-> 4207\u001b[0;31m             \u001b[0;32mraise\u001b[0m \u001b[0mNotImplementedError\u001b[0m\u001b[0;34m(\u001b[0m\u001b[0;34m\"Only 2D, 3D, 4D, 5D padding with non-constant padding are supported for now\"\u001b[0m\u001b[0;34m)\u001b[0m\u001b[0;34m\u001b[0m\u001b[0;34m\u001b[0m\u001b[0m\n\u001b[0m\u001b[1;32m   4208\u001b[0m \u001b[0;34m\u001b[0m\u001b[0m\n\u001b[1;32m   4209\u001b[0m \u001b[0;34m\u001b[0m\u001b[0m\n",
      "\u001b[0;31mNotImplementedError\u001b[0m: Only 2D, 3D, 4D, 5D padding with non-constant padding are supported for now"
     ]
    }
   ],
   "source": [
    "B = torch.tensor([[[1,2,3,4,5.]],[[6,7,8,9,10]]])\n",
    "F.pad(B, (2,3,0,0,1,1), 'reflect')"
   ]
  },
  {
   "cell_type": "code",
   "execution_count": 24,
   "metadata": {},
   "outputs": [
    {
     "data": {
      "text/plain": [
       "torch.Size([2, 1, 5])"
      ]
     },
     "execution_count": 24,
     "metadata": {},
     "output_type": "execute_result"
    }
   ],
   "source": [
    "B.shape"
   ]
  },
  {
   "cell_type": "code",
   "execution_count": 28,
   "metadata": {},
   "outputs": [
    {
     "data": {
      "text/plain": [
       "tensor([[[ 1.,  2.]],\n",
       "\n",
       "        [[ 3.,  4.]],\n",
       "\n",
       "        [[ 5.,  6.]],\n",
       "\n",
       "        [[ 7.,  8.]],\n",
       "\n",
       "        [[ 9., 10.]]])"
      ]
     },
     "execution_count": 28,
     "metadata": {},
     "output_type": "execute_result"
    }
   ],
   "source": [
    "B =B.reshape(5,1,2)\n",
    "B"
   ]
  },
  {
   "cell_type": "code",
   "execution_count": 35,
   "metadata": {},
   "outputs": [
    {
     "ename": "NotImplementedError",
     "evalue": "Only 2D, 3D, 4D, 5D padding with non-constant padding are supported for now",
     "output_type": "error",
     "traceback": [
      "\u001b[0;31m---------------------------------------------------------------------------\u001b[0m",
      "\u001b[0;31mNotImplementedError\u001b[0m                       Traceback (most recent call last)",
      "\u001b[0;32m<ipython-input-35-7c674f8879e3>\u001b[0m in \u001b[0;36m<module>\u001b[0;34m\u001b[0m\n\u001b[0;32m----> 1\u001b[0;31m \u001b[0mF\u001b[0m\u001b[0;34m.\u001b[0m\u001b[0mpad\u001b[0m\u001b[0;34m(\u001b[0m\u001b[0mB\u001b[0m\u001b[0;34m,\u001b[0m \u001b[0;34m(\u001b[0m\u001b[0;36m2\u001b[0m\u001b[0;34m,\u001b[0m\u001b[0;36m2\u001b[0m\u001b[0;34m,\u001b[0m\u001b[0;36m0\u001b[0m\u001b[0;34m,\u001b[0m\u001b[0;36m0\u001b[0m\u001b[0;34m,\u001b[0m\u001b[0;36m2\u001b[0m\u001b[0;34m,\u001b[0m\u001b[0;36m2\u001b[0m\u001b[0;34m)\u001b[0m\u001b[0;34m,\u001b[0m \u001b[0;34m'reflect'\u001b[0m\u001b[0;34m)\u001b[0m\u001b[0;34m\u001b[0m\u001b[0;34m\u001b[0m\u001b[0m\n\u001b[0m",
      "\u001b[0;32m~/dongjin/venv/lib/python3.6/site-packages/torch/nn/functional.py\u001b[0m in \u001b[0;36m_pad\u001b[0;34m(input, pad, mode, value)\u001b[0m\n\u001b[1;32m   4205\u001b[0m                 \u001b[0;32mraise\u001b[0m \u001b[0mNotImplementedError\u001b[0m\u001b[0;34m\u001b[0m\u001b[0;34m\u001b[0m\u001b[0m\n\u001b[1;32m   4206\u001b[0m         \u001b[0;32melse\u001b[0m\u001b[0;34m:\u001b[0m\u001b[0;34m\u001b[0m\u001b[0;34m\u001b[0m\u001b[0m\n\u001b[0;32m-> 4207\u001b[0;31m             \u001b[0;32mraise\u001b[0m \u001b[0mNotImplementedError\u001b[0m\u001b[0;34m(\u001b[0m\u001b[0;34m\"Only 2D, 3D, 4D, 5D padding with non-constant padding are supported for now\"\u001b[0m\u001b[0;34m)\u001b[0m\u001b[0;34m\u001b[0m\u001b[0;34m\u001b[0m\u001b[0m\n\u001b[0m\u001b[1;32m   4208\u001b[0m \u001b[0;34m\u001b[0m\u001b[0m\n\u001b[1;32m   4209\u001b[0m \u001b[0;34m\u001b[0m\u001b[0m\n",
      "\u001b[0;31mNotImplementedError\u001b[0m: Only 2D, 3D, 4D, 5D padding with non-constant padding are supported for now"
     ]
    }
   ],
   "source": [
    "F.pad(B, (2,2,0,0,2,2), 'reflect')"
   ]
  },
  {
   "cell_type": "code",
   "execution_count": null,
   "metadata": {},
   "outputs": [],
   "source": []
  }
 ],
 "metadata": {
  "kernelspec": {
   "display_name": "venv",
   "language": "python",
   "name": "venv"
  },
  "language_info": {
   "codemirror_mode": {
    "name": "ipython",
    "version": 3
   },
   "file_extension": ".py",
   "mimetype": "text/x-python",
   "name": "python",
   "nbconvert_exporter": "python",
   "pygments_lexer": "ipython3",
   "version": "3.6.9"
  }
 },
 "nbformat": 4,
 "nbformat_minor": 4
}
